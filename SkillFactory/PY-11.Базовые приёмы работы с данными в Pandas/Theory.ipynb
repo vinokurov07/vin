{
 "cells": [
  {
   "cell_type": "code",
   "execution_count": 1,
   "metadata": {},
   "outputs": [
    {
     "data": {
      "text/html": [
       "<div>\n",
       "<style scoped>\n",
       "    .dataframe tbody tr th:only-of-type {\n",
       "        vertical-align: middle;\n",
       "    }\n",
       "\n",
       "    .dataframe tbody tr th {\n",
       "        vertical-align: top;\n",
       "    }\n",
       "\n",
       "    .dataframe thead th {\n",
       "        text-align: right;\n",
       "    }\n",
       "</style>\n",
       "<table border=\"1\" class=\"dataframe\">\n",
       "  <thead>\n",
       "    <tr style=\"text-align: right;\">\n",
       "      <th></th>\n",
       "      <th>Suburb</th>\n",
       "      <th>Address</th>\n",
       "      <th>Rooms</th>\n",
       "      <th>Type</th>\n",
       "      <th>Price</th>\n",
       "      <th>Method</th>\n",
       "      <th>SellerG</th>\n",
       "      <th>Date</th>\n",
       "      <th>Distance</th>\n",
       "      <th>Postcode</th>\n",
       "      <th>...</th>\n",
       "      <th>Bathroom</th>\n",
       "      <th>Car</th>\n",
       "      <th>Landsize</th>\n",
       "      <th>BuildingArea</th>\n",
       "      <th>YearBuilt</th>\n",
       "      <th>CouncilArea</th>\n",
       "      <th>Lattitude</th>\n",
       "      <th>Longtitude</th>\n",
       "      <th>Regionname</th>\n",
       "      <th>Propertycount</th>\n",
       "    </tr>\n",
       "  </thead>\n",
       "  <tbody>\n",
       "    <tr>\n",
       "      <th>0</th>\n",
       "      <td>Abbotsford</td>\n",
       "      <td>85 Turner St</td>\n",
       "      <td>2</td>\n",
       "      <td>h</td>\n",
       "      <td>1480000.0</td>\n",
       "      <td>S</td>\n",
       "      <td>Biggin</td>\n",
       "      <td>3/12/2016</td>\n",
       "      <td>2.5</td>\n",
       "      <td>3067</td>\n",
       "      <td>...</td>\n",
       "      <td>1</td>\n",
       "      <td>1</td>\n",
       "      <td>202.0</td>\n",
       "      <td>126.0</td>\n",
       "      <td>1970</td>\n",
       "      <td>Yarra</td>\n",
       "      <td>-37.7996</td>\n",
       "      <td>144.9984</td>\n",
       "      <td>Northern Metropolitan</td>\n",
       "      <td>4019</td>\n",
       "    </tr>\n",
       "  </tbody>\n",
       "</table>\n",
       "<p>1 rows × 21 columns</p>\n",
       "</div>"
      ],
      "text/plain": [
       "       Suburb       Address  Rooms Type      Price Method SellerG       Date  \\\n",
       "0  Abbotsford  85 Turner St      2    h  1480000.0      S  Biggin  3/12/2016   \n",
       "\n",
       "   Distance  Postcode  ...  Bathroom  Car  Landsize  BuildingArea  YearBuilt  \\\n",
       "0       2.5      3067  ...         1    1     202.0         126.0       1970   \n",
       "\n",
       "   CouncilArea Lattitude  Longtitude             Regionname Propertycount  \n",
       "0        Yarra  -37.7996    144.9984  Northern Metropolitan          4019  \n",
       "\n",
       "[1 rows x 21 columns]"
      ]
     },
     "metadata": {},
     "output_type": "display_data"
    }
   ],
   "source": [
    "import pandas as pd\n",
    "melb_data = pd.read_csv('data/melb_data_ps.csv')\n",
    "melb_df = melb_data.copy()\n",
    "#удалим из таблицы столбцы\n",
    "melb_df = melb_df.drop(['index', 'Coordinates'], axis=1)\n",
    "display(melb_df.head(1))\n",
    "#введём признак MeanRoomsArea, который соответствует средней площади одной комнаты для каждого объекта\n",
    "total_rooms = melb_df.Rooms + melb_df.Bathroom + melb_df.Bedroom\n",
    "melb_df['MeanRoomsArea'] = melb_df['BuildingArea'] / total_rooms\n",
    "# AreaRatio, коэффициент соотношения площади здания (BuildingArea) и площади участка (Landsize). Для этого разницу двух площадей поделим на их сумму\n",
    "diff_area = melb_df['BuildingArea'] - melb_df['Landsize']\n",
    "sum_area = melb_df['BuildingArea'] + melb_df['Landsize']\n",
    "melb_df['AreaRatio'] = diff_area/sum_area\n",
    "#Посчитаем квадрат цены\n",
    "price_square = melb_df['Price'] **2\n",
    "\n"
   ]
  },
  {
   "cell_type": "markdown",
   "metadata": {},
   "source": [
    "Преобразование дат"
   ]
  },
  {
   "cell_type": "code",
   "execution_count": 11,
   "metadata": {},
   "outputs": [
    {
     "data": {
      "text/html": [
       "<div>\n",
       "<style scoped>\n",
       "    .dataframe tbody tr th:only-of-type {\n",
       "        vertical-align: middle;\n",
       "    }\n",
       "\n",
       "    .dataframe tbody tr th {\n",
       "        vertical-align: top;\n",
       "    }\n",
       "\n",
       "    .dataframe thead th {\n",
       "        text-align: right;\n",
       "    }\n",
       "</style>\n",
       "<table border=\"1\" class=\"dataframe\">\n",
       "  <thead>\n",
       "    <tr style=\"text-align: right;\">\n",
       "      <th></th>\n",
       "      <th>Suburb</th>\n",
       "      <th>Address</th>\n",
       "      <th>Rooms</th>\n",
       "      <th>Type</th>\n",
       "      <th>Price</th>\n",
       "      <th>Method</th>\n",
       "      <th>SellerG</th>\n",
       "      <th>Date</th>\n",
       "      <th>Distance</th>\n",
       "      <th>Postcode</th>\n",
       "      <th>...</th>\n",
       "      <th>BuildingArea</th>\n",
       "      <th>YearBuilt</th>\n",
       "      <th>CouncilArea</th>\n",
       "      <th>Lattitude</th>\n",
       "      <th>Longtitude</th>\n",
       "      <th>Regionname</th>\n",
       "      <th>Propertycount</th>\n",
       "      <th>MeanRoomsArea</th>\n",
       "      <th>AreaRatio</th>\n",
       "      <th>AgeBuilding</th>\n",
       "    </tr>\n",
       "  </thead>\n",
       "  <tbody>\n",
       "    <tr>\n",
       "      <th>0</th>\n",
       "      <td>Abbotsford</td>\n",
       "      <td>85 Turner St</td>\n",
       "      <td>2</td>\n",
       "      <td>h</td>\n",
       "      <td>1480000.0</td>\n",
       "      <td>S</td>\n",
       "      <td>Biggin</td>\n",
       "      <td>2016-12-03</td>\n",
       "      <td>2.5</td>\n",
       "      <td>3067</td>\n",
       "      <td>...</td>\n",
       "      <td>126.0</td>\n",
       "      <td>1970</td>\n",
       "      <td>Yarra</td>\n",
       "      <td>-37.7996</td>\n",
       "      <td>144.9984</td>\n",
       "      <td>Northern Metropolitan</td>\n",
       "      <td>4019</td>\n",
       "      <td>25.2</td>\n",
       "      <td>-0.231707</td>\n",
       "      <td>46</td>\n",
       "    </tr>\n",
       "  </tbody>\n",
       "</table>\n",
       "<p>1 rows × 24 columns</p>\n",
       "</div>"
      ],
      "text/plain": [
       "       Suburb       Address  Rooms Type      Price Method SellerG       Date  \\\n",
       "0  Abbotsford  85 Turner St      2    h  1480000.0      S  Biggin 2016-12-03   \n",
       "\n",
       "   Distance  Postcode  ...  BuildingArea  YearBuilt  CouncilArea  Lattitude  \\\n",
       "0       2.5      3067  ...         126.0       1970        Yarra   -37.7996   \n",
       "\n",
       "   Longtitude             Regionname Propertycount  MeanRoomsArea  AreaRatio  \\\n",
       "0    144.9984  Northern Metropolitan          4019           25.2  -0.231707   \n",
       "\n",
       "  AgeBuilding  \n",
       "0          46  \n",
       "\n",
       "[1 rows x 24 columns]"
      ]
     },
     "metadata": {},
     "output_type": "display_data"
    }
   ],
   "source": [
    "#Преобразуем столбец Date в формат datetime, передав его в эту функцию:\n",
    "\n",
    "melb_df['Date'] = pd.to_datetime(melb_df['Date'], dayfirst=True)\n",
    "years_sold = melb_df['Date'].dt.year\n",
    "#print('Min year sold:', years_sold.min())\n",
    "#print('Max year sold:', years_sold.max())\n",
    "#print('Mode year sold:', years_sold.mode()[0])\n",
    "\n",
    "#выделим атрибут dt.month и на этот раз занесём результат в столбец MonthSale, \n",
    "# а затем найдём относительную частоту продаж для каждого месяца от общего количества продаж\n",
    "#melb_df['MonthSale'] = melb_df['Date'].dt.month\n",
    "#melb_df['MonthSale'].value_counts(normalize=True)\n",
    "\n",
    "#можно вычислить, сколько дней прошло с 1 января 2016 года до момента продажи объекта\n",
    "delta_days = melb_df['Date'] - pd.to_datetime('2016-01-01')\n",
    "#display(delta_days)\n",
    "#Чтобы превратить количество дней из формата интервала в формат целого числа дней,\n",
    "# можно воспользоваться аксессором dt для формата timedelta и извлечь из него атрибут days\n",
    "#display(delta_days.dt.days)\n",
    "\n",
    "#Давайте создадим признак возраста объекта недвижимости в годах на момент продажи.\n",
    "melb_df['AgeBuilding'] = melb_df['Date'].dt.year - melb_df['YearBuilt']\n",
    "#год постройки удалим из таблицы\n",
    "#melb_df = melb_df.drop(['YearBuilt'], axis=1)\n",
    "display(melb_df.head(1))\n"
   ]
  },
  {
   "cell_type": "code",
   "execution_count": 63,
   "metadata": {},
   "outputs": [],
   "source": [
    "#2.3 Напишите функцию delete_columns(df, col=[]), которая удаляет столбцы из DataFrame и возвращает новую таблицу. \n",
    "#Если одного из указанных столбцов не существует в таблице, то функция должна возвращать None.\n",
    "customer_df = pd.DataFrame({\n",
    "            'number': [0, 1, 2, 3, 4],\n",
    "            'cust_id': [128, 1201, 9832, 4392, 7472],\n",
    "            'cust_age': [13, 21, 19, 21, 60],\n",
    "            'cust_sale': [0, 0, 0.2, 0.15, 0.3],\n",
    "            'cust_year_birth': [2008, 2000, 2002, 2000, 1961],\n",
    "            'cust_order': [1400, 14142, 900, 1240, 8430]\n",
    "        })\n",
    "#display(customer_df.columns)\n",
    "\n",
    "def delete_columns(df, col=[]):\n",
    "    for elem in col:\n",
    "        if elem not in df.columns:\n",
    "            return None\n",
    "    #df.drop(col, axis=1, inplace=True)\n",
    "    return df.drop(col, axis=1)\n",
    "\n",
    "#display(customer_df.columns.tolist())\n",
    "#display(delete_columns(customer_df, col=['number', 'cust_age']))   "
   ]
  },
  {
   "cell_type": "code",
   "execution_count": 71,
   "metadata": {},
   "outputs": [],
   "source": [
    "#2.4 Задан DataFrame countries_df, содержащий следующие столбцы: название страны,\n",
    "# население (population) в миллионах человек и площадь страны (area) в квадратных километрах.\n",
    "#Для каждой страны рассчитайте плотность населения (количество человек на квадратный километр).\n",
    "#Затем по полученным данным рассчитайте среднее по плотностям населения в указанных странах. Ответ округлите до сотых.\n",
    "countries_df = pd.DataFrame({\n",
    "    'country': ['Англия', 'Канада', 'США', 'Россия', 'Украина', 'Беларусь', 'Казахстан'],\n",
    "    'population': [56.29, 38.05, 322.28, 146.24, 45.5, 9.5, 17.04],\n",
    "    'area': [133396, 9984670, 9826630, 17125191, 603628, 207600, 2724902]\n",
    "})\n",
    "#display(countries_df.head(2))\n",
    "density = countries_df['population']*10**6 / countries_df['area']\n",
    "#display(round(density.mean(),2))"
   ]
  },
  {
   "cell_type": "code",
   "execution_count": 12,
   "metadata": {},
   "outputs": [
    {
     "data": {
      "text/plain": [
       "np.int64(12822)"
      ]
     },
     "metadata": {},
     "output_type": "display_data"
    },
    {
     "data": {
      "text/plain": [
       "WeekdaySale\n",
       "5    11759\n",
       "6     1063\n",
       "0      597\n",
       "1      133\n",
       "3       28\n",
       "Name: count, dtype: int64"
      ]
     },
     "metadata": {},
     "output_type": "display_data"
    }
   ],
   "source": [
    "#3.3 Создайте в таблице melb_df признак WeekdaySale (день недели). Найдите, сколько объектов недвижимости было продано в \n",
    "# выходные (суббота и воскресенье), результат занесите в переменную weekend_count. \n",
    "# В качестве ответа введите результат вывода переменной weekend_count.\n",
    "\n",
    "melb_df['Date'] = pd.to_datetime(melb_df['Date'], dayfirst=True)\n",
    "melb_df['WeekdaySale'] = melb_df['Date'].dt.dayofweek\n",
    "display(melb_df['WeekdaySale'].value_counts()[5]+melb_df['WeekdaySale'].value_counts()[6])\n",
    "display(melb_df['WeekdaySale'].value_counts())\n",
    "\n",
    "\n",
    "    "
   ]
  },
  {
   "cell_type": "code",
   "execution_count": 4,
   "metadata": {},
   "outputs": [
    {
     "data": {
      "text/plain": [
       "np.int32(1999)"
      ]
     },
     "metadata": {},
     "output_type": "display_data"
    },
    {
     "name": "stdout",
     "output_type": "stream",
     "text": [
      "68.92932862190813\n"
     ]
    }
   ],
   "source": [
    "#3.4 \n",
    "nlo = pd.read_csv('https://raw.githubusercontent.com/justmarkham/pandas-videos/master/data/ufo.csv', sep = ',')\n",
    "nlo['Time'] = pd.to_datetime(nlo['Time'], dayfirst=False)\n",
    "\n",
    "# В каком году отмечается наибольшее количество случаев наблюдения НЛО в США?\n",
    "display(nlo['Time'].dt.year.mode()[0])\n",
    "\n",
    "# Найдите средний интервал времени (в днях) между двумя последовательными случаями наблюдения НЛО в штате Невада (NV).\n",
    "# из столбца Time вытаскиваем дату\n",
    "nlo['Date'] = nlo['Time'].dt.date\n",
    "\n",
    "# вычитаем из строки столбца предыдущую по фильтру штата\n",
    "\n",
    "date_diff = nlo[nlo['State'] == 'NV']['Date'].diff()\n",
    "\n",
    "# из типа timedelta64[ns] получаем дни и находим среднее значение\n",
    "date_diff_mean = date_diff.dt.days.mean()\n",
    "print(date_diff_mean )\n",
    "\n",
    "\n"
   ]
  },
  {
   "cell_type": "markdown",
   "metadata": {},
   "source": [
    " ### 4. Создание и преобразование столбцов с помощью функций\n",
    "\n",
    "  ##### адрес строится следующим образом: сначала указывается номер дома и корпус, после указывается название улицы, а в конце — подтип улицы, но в некоторых случаях к подтипу добавляется географическая отметка (N — север, S — юг и т. д.), она нам не нужна . Для того чтобы выделить подтип улицы, на которой находится объект, можно использовать следующую функцию:"
   ]
  },
  {
   "cell_type": "code",
   "execution_count": 13,
   "metadata": {},
   "outputs": [
    {
     "name": "stdout",
     "output_type": "stream",
     "text": [
      "2/119 Railway St N\n",
      "9/400 Dandenong Rd\n",
      "172 Danks St\n",
      "13378\n"
     ]
    }
   ],
   "source": [
    "print(melb_df['Address'].loc[177])\n",
    "print(melb_df['Address'].loc[1812])\n",
    "print(melb_df['Address'].loc[9001])\n",
    "\n",
    "print(melb_df['Address'].nunique())\n",
    "#13378\n",
    "\n",
    "\n",
    "# На вход данной функции поступает строка с адресом.\n",
    "def get_street_type(address):\n",
    "# Создаём список географических пометок exclude_list.\n",
    "    exclude_list = ['N', 'S', 'W', 'E']\n",
    "# Метод split() разбивает строку на слова по пробелу.\n",
    "# В результате получаем список слов в строке и заносим его в переменную address_list.\n",
    "    address_list = address.split(' ')\n",
    "# Обрезаем список, оставляя в нём только последний элемент,\n",
    "# потенциальный подтип улицы, и заносим в переменную street_type.\n",
    "    street_type = address_list[-1]\n",
    "# Делаем проверку на то, что полученный подтип является географической пометкой.\n",
    "# Для этого проверяем его на наличие в списке exclude_list.\n",
    "    if street_type in exclude_list:\n",
    "# Если переменная street_type является географической пометкой,\n",
    "# переопределяем её на второй элемент с конца списка address_list.\n",
    "        street_type = address_list[-2]\n",
    "# Возвращаем переменную street_type, в которой хранится подтип улицы.\n",
    "    return street_type\n",
    "\n"
   ]
  },
  {
   "cell_type": "code",
   "execution_count": 14,
   "metadata": {},
   "outputs": [
    {
     "data": {
      "text/plain": [
       "0        St\n",
       "1        St\n",
       "2        St\n",
       "3        La\n",
       "4        St\n",
       "         ..\n",
       "13575    Cr\n",
       "13576    Dr\n",
       "13577    St\n",
       "13578    St\n",
       "13579    St\n",
       "Name: Address, Length: 13580, dtype: object"
      ]
     },
     "metadata": {},
     "output_type": "display_data"
    },
    {
     "name": "stdout",
     "output_type": "stream",
     "text": [
      "56\n",
      "Address\n",
      "St           8012\n",
      "Rd           2825\n",
      "Ct            612\n",
      "Dr            447\n",
      "Av            321\n",
      "Gr            311\n",
      "Pde           211\n",
      "Pl            169\n",
      "Cr            152\n",
      "Cl            100\n",
      "La             67\n",
      "Bvd            53\n",
      "Tce            47\n",
      "Wy             40\n",
      "Avenue         40\n",
      "Cct            25\n",
      "Hwy            24\n",
      "Parade         15\n",
      "Boulevard      13\n",
      "Sq             11\n",
      "Crescent        9\n",
      "Cir             7\n",
      "Strand          7\n",
      "Esplanade       6\n",
      "Grove           5\n",
      "Grn             4\n",
      "Fairway         4\n",
      "Mews            4\n",
      "Gdns            4\n",
      "Righi           3\n",
      "Crossway        3\n",
      "Esp             2\n",
      "Ridge           2\n",
      "Victoria        2\n",
      "Crofts          2\n",
      "Athol           1\n",
      "Highway         1\n",
      "Cove            1\n",
      "Grange          1\n",
      "Res             1\n",
      "Terrace         1\n",
      "Qy              1\n",
      "Glade           1\n",
      "Nook            1\n",
      "Eyrie           1\n",
      "Loop            1\n",
      "Dell            1\n",
      "East            1\n",
      "Summit          1\n",
      "Grand           1\n",
      "Gra             1\n",
      "Hts             1\n",
      "Outlook         1\n",
      "Woodland        1\n",
      "Ave             1\n",
      "Corso           1\n",
      "Name: count, dtype: int64\n",
      "Address\n",
      "St           8012\n",
      "Rd           2825\n",
      "Ct            612\n",
      "Dr            447\n",
      "Av            361\n",
      "Gr            311\n",
      "Pde           226\n",
      "Pl            169\n",
      "Cr            152\n",
      "Cl            100\n",
      "La             67\n",
      "Bvd            66\n",
      "Tce            47\n",
      "Wy             40\n",
      "Cct            25\n",
      "Hwy            24\n",
      "Sq             11\n",
      "Crescent        9\n",
      "Strand          7\n",
      "Cir             7\n",
      "Esplanade       6\n",
      "Grove           5\n",
      "Fairway         4\n",
      "Gdns            4\n",
      "Mews            4\n",
      "Grn             4\n",
      "Crossway        3\n",
      "Righi           3\n",
      "Esp             2\n",
      "Ridge           2\n",
      "Crofts          2\n",
      "Victoria        2\n",
      "Highway         1\n",
      "Athol           1\n",
      "Cove            1\n",
      "Grange          1\n",
      "Res             1\n",
      "Terrace         1\n",
      "Qy              1\n",
      "Glade           1\n",
      "Nook            1\n",
      "Dell            1\n",
      "Eyrie           1\n",
      "East            1\n",
      "Loop            1\n",
      "Grand           1\n",
      "Gra             1\n",
      "Summit          1\n",
      "Hts             1\n",
      "Outlook         1\n",
      "Woodland        1\n",
      "Ave             1\n",
      "Corso           1\n",
      "Name: count, dtype: int64\n",
      "53\n"
     ]
    }
   ],
   "source": [
    "# Теперь применим эту функцию к столбцу c адресом. Для этого передадим функцию get_street_type в аргумент метода столбца apply(). \n",
    "# В результате получим объект Series, который положим в переменную street_types:\n",
    "street_types = melb_df['Address'].apply(get_street_type)\n",
    "display(street_types)\n",
    "\n",
    "#Обратите внимание, что функция пишется для одного элемента столбца, а метод apply() применяется к каждому его элементу. \n",
    "# Используемая функция обязательно должна иметь возвращаемое значение.\n",
    "\n",
    "print(street_types.nunique())\n",
    "print(street_types.value_counts())\n",
    "\n",
    "# в списке подтипов улиц street_types можно заметить подтипы, которые именуются различным образом, но при этом обозначают одинаковые вещи. \n",
    "# Например, подтипы Av и Avenue, Bvd и Boulevard, Pde и Parade.\n",
    "#попробуйте написать функцию-преобразование (lambda-функцию-преобразование), которая возвращала бы вместо значений\n",
    "# Avenue, Boulevard и Parade их топографические сокращения, и примените её к данным о подтипах улиц.\n",
    "#street_types = street_types.apply(lambda x: 'Av' if x == 'Avenue','Bvd' if x == 'Boulevard','Pde' if x == 'Parade' else x)\n",
    "street_types = street_types.apply(lambda x: 'Av' if x == 'Avenue' else x)\n",
    "street_types = street_types.apply(lambda x: 'Bvd' if x == 'Boulevard' else x)\n",
    "street_types = street_types.apply(lambda x: 'Pde' if x == 'Parade' else x)\n",
    "print(street_types.value_counts())\n",
    "print(street_types.nunique())"
   ]
  },
  {
   "cell_type": "code",
   "execution_count": 15,
   "metadata": {},
   "outputs": [
    {
     "name": "stdout",
     "output_type": "stream",
     "text": [
      "Index(['St', 'Rd', 'Ct', 'Dr', 'Av', 'Gr', 'Pde', 'Pl', 'Cr', 'Cl'], dtype='object', name='Address')\n"
     ]
    },
    {
     "data": {
      "text/plain": [
       "0           St\n",
       "1           St\n",
       "2           St\n",
       "3        other\n",
       "4           St\n",
       "         ...  \n",
       "13575       Cr\n",
       "13576       Dr\n",
       "13577       St\n",
       "13578       St\n",
       "13579       St\n",
       "Name: StreetType, Length: 13580, dtype: object"
      ]
     },
     "metadata": {},
     "output_type": "display_data"
    },
    {
     "name": "stdout",
     "output_type": "stream",
     "text": [
      "11\n"
     ]
    },
    {
     "data": {
      "text/plain": [
       "StreetType\n",
       "St       8012\n",
       "Rd       2825\n",
       "Ct        612\n",
       "Dr        447\n",
       "other     365\n",
       "Av        361\n",
       "Gr        311\n",
       "Pde       226\n",
       "Pl        169\n",
       "Cr        152\n",
       "Cl        100\n",
       "Name: count, dtype: int64"
      ]
     },
     "metadata": {},
     "output_type": "display_data"
    }
   ],
   "source": [
    "#В таком случае давайте применим очень распространённый метод уменьшения количества уникальных категорий — выделим n подтипов, \n",
    "# которые встречаются чаще всего, а остальные обозначим как 'other' (другие).\n",
    "#Для этого к результату метода value_counts применим метод nlargest(), который возвращает n наибольших значений из Series.\n",
    "# Зададим n=10, т. е. мы хотим отобрать десять наиболее популярных подтипов. Извлечём их названия с помощью атрибута index,\n",
    "# а результат занесём в переменную popular_stypes:\n",
    "\n",
    "popular_stypes = street_types.value_counts().nlargest(10).index\n",
    "print(popular_stypes)\n",
    "\n",
    "melb_df['StreetType'] = street_types.apply(lambda x: x if x in popular_stypes else 'other')\n",
    "display(melb_df['StreetType'])\n",
    "print(melb_df['StreetType'].nunique())\n",
    "display(melb_df['StreetType'].value_counts())\n",
    "#melb_df = melb_df.drop('Address', axis=1)\n",
    "#display(melb_df.dtypes)\n",
    "#display(melb_df.head(1))\n"
   ]
  },
  {
   "cell_type": "code",
   "execution_count": 16,
   "metadata": {},
   "outputs": [
    {
     "name": "stdout",
     "output_type": "stream",
     "text": [
      "1081199.0\n"
     ]
    }
   ],
   "source": [
    "# Задание 4.2\n",
    "#Напишите функцию get_weekend(weekday), которая принимает на вход элемент столбца WeekdaySale и возвращает 1, \n",
    "# если день является выходным, и 0 — в противном случае, и создайте столбец Weekend в таблице melb_df с помощью неё.\n",
    "#Примените эту функцию к столбцу и вычислите среднюю цену объекта недвижимости, проданного в выходные дни. Результат округлите до целых.\n",
    "def get_weekend(weekday):\n",
    "    if weekday in [5,6]:\n",
    "        return 1\n",
    "    return 0\n",
    "\n",
    "melb_df['Weekend'] = melb_df['WeekdaySale'].apply(get_weekend)\n",
    "print(round(melb_df[melb_df['Weekend'] == 1]['Price'].mean(), 0))"
   ]
  },
  {
   "cell_type": "code",
   "execution_count": 17,
   "metadata": {},
   "outputs": [
    {
     "name": "stdout",
     "output_type": "stream",
     "text": [
      "268\n",
      "Index(['Nelson', 'Jellis', 'hockingstuart', 'Barry', 'Ray', 'Marshall',\n",
      "       'Buxton', 'Biggin', 'Brad', 'Fletchers', 'Woodards', 'Jas', 'Greg',\n",
      "       'McGrath', 'Sweeney', 'Noel', 'Miles', 'RT', 'Gary', 'Harcourts',\n",
      "       'Hodges', 'YPA', 'Stockdale', 'Village', 'Kay', 'Raine', 'Williams',\n",
      "       'Love', 'Douglas', 'Chisholm', 'RW', 'Rendina', 'HAR', 'O'Brien', 'C21',\n",
      "       'Collins', 'Cayzer', 'Purplebricks', 'Eview', 'Philip', 'Buckingham',\n",
      "       'Bells', 'Thomson', 'Nick', 'Alexkarbon', 'Burnham', 'McDonald',\n",
      "       'Moonee', 'LITTLE'],\n",
      "      dtype='object', name='SellerG')\n",
      "50\n",
      "1.297709923664122\n"
     ]
    }
   ],
   "source": [
    "# 4.3\n",
    "#Преобразуйте столбец SellerG с наименованиями риелторских компаний в таблице melb_df следующим образом: \n",
    "# оставьте в столбце только 49 самых популярных компаний, а остальные обозначьте как 'other'.\n",
    "#Найдите, во сколько раз минимальная цена объектов недвижимости, проданных компанией 'Nelson',\n",
    "# больше минимальной цены объектов, проданных компаниями, обозначенными как 'other'. Ответ округлите до десятых.\n",
    "#print(melb_df['SellerG'].value_counts())\n",
    "print(melb_df['SellerG'].nunique())\n",
    "sellers_top = melb_df['SellerG'].value_counts().nlargest(49).index\n",
    "print(sellers_top)\n",
    "melb_df['SellerG'] = melb_df['SellerG'].apply(lambda x: x if x in sellers_top else 'other')\n",
    "print(melb_df['SellerG'].nunique())\n",
    "#print(melb_df['SellerG'].value_counts())\n",
    "\n",
    "Nelson_other = melb_df[melb_df['SellerG'] == 'Nelson']['Price'].min() / melb_df[melb_df['SellerG'] == 'other']['Price'].min()\n",
    "print(Nelson_other)\n",
    "a = 1.297709923664122 - Nelson_other"
   ]
  },
  {
   "cell_type": "code",
   "execution_count": 27,
   "metadata": {},
   "outputs": [
    {
     "name": "stdout",
     "output_type": "stream",
     "text": [
      "1\n"
     ]
    },
    {
     "data": {
      "text/plain": [
       "0    99\n",
       "1    41\n",
       "2    21\n",
       "3     3\n",
       "4    72\n",
       "dtype: int64"
      ]
     },
     "metadata": {},
     "output_type": "display_data"
    }
   ],
   "source": [
    "# 4.4\n",
    "def get_experience(arg):\n",
    "    word_list = arg.split(' ')\n",
    "    month_list = ['месяц', 'месяца', 'месяцев']\n",
    "    year_list = ['лет', 'года', 'год']\n",
    "    year, month = 0, 0\n",
    "    last_word = word_list[-1]\n",
    "    if word_list[-1] in month_list:\n",
    "        month = int(word_list[-2])\n",
    "    if word_list[-3] in year_list:\n",
    "        year = int(word_list[-4])\n",
    "    if word_list[-1] in year_list:\n",
    "        year = int(word_list[-2])\n",
    "    \n",
    "    return year*12 + month\n",
    "    \n",
    "arg = 'Опыт работы 1 месяц'\n",
    "print(get_experience(arg))\n",
    "\n",
    "import pandas as pd\n",
    "test_series_1 = pd.Series([\n",
    "    'Опыт работы 8 лет 3 месяца',\n",
    "    'Опыт работы 3 года 5 месяцев',\n",
    "    'Опыт работы 1 год 9 месяцев',\n",
    "    'Опыт работы 3 месяца',\n",
    "    'Опыт работы 6 лет'\n",
    "])\n",
    "\n",
    "test_series_2 = pd.Series([\n",
    "    'Опыт работы 5 лет',\n",
    "    'Опыт работы 5 месяцев',\n",
    "    'Опыт работы 1 год 1 месяц',\n",
    "    'Опыт работы 3 месяца',\n",
    "    'Опыт работы 7 лет'\n",
    "])\n",
    "display(test_series_1.apply(get_experience))\n"
   ]
  },
  {
   "cell_type": "code",
   "execution_count": 18,
   "metadata": {},
   "outputs": [
    {
     "data": {
      "text/html": [
       "<div>\n",
       "<style scoped>\n",
       "    .dataframe tbody tr th:only-of-type {\n",
       "        vertical-align: middle;\n",
       "    }\n",
       "\n",
       "    .dataframe tbody tr th {\n",
       "        vertical-align: top;\n",
       "    }\n",
       "\n",
       "    .dataframe thead th {\n",
       "        text-align: right;\n",
       "    }\n",
       "</style>\n",
       "<table border=\"1\" class=\"dataframe\">\n",
       "  <thead>\n",
       "    <tr style=\"text-align: right;\">\n",
       "      <th></th>\n",
       "      <th>Column_Name</th>\n",
       "      <th>Num_Unique</th>\n",
       "      <th>Type</th>\n",
       "    </tr>\n",
       "  </thead>\n",
       "  <tbody>\n",
       "    <tr>\n",
       "      <th>0</th>\n",
       "      <td>Weekend</td>\n",
       "      <td>2</td>\n",
       "      <td>int64</td>\n",
       "    </tr>\n",
       "    <tr>\n",
       "      <th>1</th>\n",
       "      <td>Type</td>\n",
       "      <td>3</td>\n",
       "      <td>object</td>\n",
       "    </tr>\n",
       "    <tr>\n",
       "      <th>2</th>\n",
       "      <td>WeekdaySale</td>\n",
       "      <td>5</td>\n",
       "      <td>int32</td>\n",
       "    </tr>\n",
       "    <tr>\n",
       "      <th>3</th>\n",
       "      <td>Method</td>\n",
       "      <td>5</td>\n",
       "      <td>object</td>\n",
       "    </tr>\n",
       "    <tr>\n",
       "      <th>4</th>\n",
       "      <td>Regionname</td>\n",
       "      <td>8</td>\n",
       "      <td>object</td>\n",
       "    </tr>\n",
       "    <tr>\n",
       "      <th>5</th>\n",
       "      <td>Rooms</td>\n",
       "      <td>9</td>\n",
       "      <td>int64</td>\n",
       "    </tr>\n",
       "    <tr>\n",
       "      <th>6</th>\n",
       "      <td>Bathroom</td>\n",
       "      <td>9</td>\n",
       "      <td>int64</td>\n",
       "    </tr>\n",
       "    <tr>\n",
       "      <th>7</th>\n",
       "      <td>Car</td>\n",
       "      <td>11</td>\n",
       "      <td>int64</td>\n",
       "    </tr>\n",
       "    <tr>\n",
       "      <th>8</th>\n",
       "      <td>StreetType</td>\n",
       "      <td>11</td>\n",
       "      <td>object</td>\n",
       "    </tr>\n",
       "    <tr>\n",
       "      <th>9</th>\n",
       "      <td>Bedroom</td>\n",
       "      <td>12</td>\n",
       "      <td>int64</td>\n",
       "    </tr>\n",
       "    <tr>\n",
       "      <th>10</th>\n",
       "      <td>CouncilArea</td>\n",
       "      <td>33</td>\n",
       "      <td>object</td>\n",
       "    </tr>\n",
       "    <tr>\n",
       "      <th>11</th>\n",
       "      <td>SellerG</td>\n",
       "      <td>50</td>\n",
       "      <td>object</td>\n",
       "    </tr>\n",
       "    <tr>\n",
       "      <th>12</th>\n",
       "      <td>Date</td>\n",
       "      <td>58</td>\n",
       "      <td>datetime64[ns]</td>\n",
       "    </tr>\n",
       "    <tr>\n",
       "      <th>13</th>\n",
       "      <td>Suburb</td>\n",
       "      <td>119</td>\n",
       "      <td>category</td>\n",
       "    </tr>\n",
       "    <tr>\n",
       "      <th>14</th>\n",
       "      <td>YearBuilt</td>\n",
       "      <td>144</td>\n",
       "      <td>int64</td>\n",
       "    </tr>\n",
       "    <tr>\n",
       "      <th>15</th>\n",
       "      <td>AgeBuilding</td>\n",
       "      <td>152</td>\n",
       "      <td>int64</td>\n",
       "    </tr>\n",
       "    <tr>\n",
       "      <th>16</th>\n",
       "      <td>Postcode</td>\n",
       "      <td>198</td>\n",
       "      <td>int64</td>\n",
       "    </tr>\n",
       "    <tr>\n",
       "      <th>17</th>\n",
       "      <td>Distance</td>\n",
       "      <td>202</td>\n",
       "      <td>float64</td>\n",
       "    </tr>\n",
       "    <tr>\n",
       "      <th>18</th>\n",
       "      <td>Propertycount</td>\n",
       "      <td>311</td>\n",
       "      <td>int64</td>\n",
       "    </tr>\n",
       "    <tr>\n",
       "      <th>19</th>\n",
       "      <td>BuildingArea</td>\n",
       "      <td>602</td>\n",
       "      <td>float64</td>\n",
       "    </tr>\n",
       "    <tr>\n",
       "      <th>20</th>\n",
       "      <td>MeanRoomsArea</td>\n",
       "      <td>1277</td>\n",
       "      <td>float64</td>\n",
       "    </tr>\n",
       "    <tr>\n",
       "      <th>21</th>\n",
       "      <td>Landsize</td>\n",
       "      <td>1448</td>\n",
       "      <td>float64</td>\n",
       "    </tr>\n",
       "    <tr>\n",
       "      <th>22</th>\n",
       "      <td>Price</td>\n",
       "      <td>2204</td>\n",
       "      <td>float64</td>\n",
       "    </tr>\n",
       "    <tr>\n",
       "      <th>23</th>\n",
       "      <td>Lattitude</td>\n",
       "      <td>6503</td>\n",
       "      <td>float64</td>\n",
       "    </tr>\n",
       "    <tr>\n",
       "      <th>24</th>\n",
       "      <td>AreaRatio</td>\n",
       "      <td>6521</td>\n",
       "      <td>float64</td>\n",
       "    </tr>\n",
       "    <tr>\n",
       "      <th>25</th>\n",
       "      <td>Longtitude</td>\n",
       "      <td>7063</td>\n",
       "      <td>float64</td>\n",
       "    </tr>\n",
       "    <tr>\n",
       "      <th>26</th>\n",
       "      <td>Address</td>\n",
       "      <td>13378</td>\n",
       "      <td>object</td>\n",
       "    </tr>\n",
       "  </tbody>\n",
       "</table>\n",
       "</div>"
      ],
      "text/plain": [
       "      Column_Name  Num_Unique            Type\n",
       "0         Weekend           2           int64\n",
       "1            Type           3          object\n",
       "2     WeekdaySale           5           int32\n",
       "3          Method           5          object\n",
       "4      Regionname           8          object\n",
       "5           Rooms           9           int64\n",
       "6        Bathroom           9           int64\n",
       "7             Car          11           int64\n",
       "8      StreetType          11          object\n",
       "9         Bedroom          12           int64\n",
       "10    CouncilArea          33          object\n",
       "11        SellerG          50          object\n",
       "12           Date          58  datetime64[ns]\n",
       "13         Suburb         119        category\n",
       "14      YearBuilt         144           int64\n",
       "15    AgeBuilding         152           int64\n",
       "16       Postcode         198           int64\n",
       "17       Distance         202         float64\n",
       "18  Propertycount         311           int64\n",
       "19   BuildingArea         602         float64\n",
       "20  MeanRoomsArea        1277         float64\n",
       "21       Landsize        1448         float64\n",
       "22          Price        2204         float64\n",
       "23      Lattitude        6503         float64\n",
       "24      AreaRatio        6521         float64\n",
       "25     Longtitude        7063         float64\n",
       "26        Address       13378          object"
      ]
     },
     "metadata": {},
     "output_type": "display_data"
    }
   ],
   "source": [
    "# определим число уникальных категорий в каждом столбце нашей таблицы melb_df. Для этого создадим вспомогательную таблицу unique_counts:\n",
    "# создаём пустой список\n",
    "unique_list = []\n",
    "# пробегаемся по именам столбцов в таблице\n",
    "for col in melb_df.columns:\n",
    "     # создаём кортеж (имя столбца, число уникальных значений, тип)\n",
    "     item = (col, melb_df[col].nunique(), melb_df[col].dtypes)\n",
    "     unique_list.append(item)\n",
    "# создаём вспомогательную таблицу и сортируем её\n",
    "unique_counts = pd.DataFrame(unique_list, columns=['Column_Name', 'Num_Unique', 'Type']).sort_values(by='Num_Unique',  ignore_index=True)\n",
    "\n",
    "#melb_df = melb_df.drop('Address', axis=1)\n",
    "display(unique_counts)"
   ]
  },
  {
   "cell_type": "code",
   "execution_count": 19,
   "metadata": {},
   "outputs": [
    {
     "name": "stdout",
     "output_type": "stream",
     "text": [
      "<class 'pandas.core.frame.DataFrame'>\n",
      "RangeIndex: 13580 entries, 0 to 13579\n",
      "Data columns (total 27 columns):\n",
      " #   Column         Non-Null Count  Dtype         \n",
      "---  ------         --------------  -----         \n",
      " 0   Suburb         13580 non-null  category      \n",
      " 1   Address        13580 non-null  object        \n",
      " 2   Rooms          13580 non-null  int64         \n",
      " 3   Type           13580 non-null  category      \n",
      " 4   Price          13580 non-null  float64       \n",
      " 5   Method         13580 non-null  category      \n",
      " 6   SellerG        13580 non-null  category      \n",
      " 7   Date           13580 non-null  datetime64[ns]\n",
      " 8   Distance       13580 non-null  float64       \n",
      " 9   Postcode       13580 non-null  int64         \n",
      " 10  Bedroom        13580 non-null  int64         \n",
      " 11  Bathroom       13580 non-null  int64         \n",
      " 12  Car            13580 non-null  int64         \n",
      " 13  Landsize       13580 non-null  float64       \n",
      " 14  BuildingArea   13580 non-null  float64       \n",
      " 15  YearBuilt      13580 non-null  category      \n",
      " 16  CouncilArea    12211 non-null  category      \n",
      " 17  Lattitude      13580 non-null  float64       \n",
      " 18  Longtitude     13580 non-null  float64       \n",
      " 19  Regionname     13580 non-null  category      \n",
      " 20  Propertycount  13580 non-null  int64         \n",
      " 21  MeanRoomsArea  13580 non-null  float64       \n",
      " 22  AreaRatio      13580 non-null  float64       \n",
      " 23  AgeBuilding    13580 non-null  int64         \n",
      " 24  WeekdaySale    13580 non-null  category      \n",
      " 25  StreetType     13580 non-null  category      \n",
      " 26  Weekend        13580 non-null  category      \n",
      "dtypes: category(10), datetime64[ns](1), float64(8), int64(7), object(1)\n",
      "memory usage: 1.9+ MB\n"
     ]
    },
    {
     "data": {
      "text/plain": [
       "None"
      ]
     },
     "metadata": {},
     "output_type": "display_data"
    }
   ],
   "source": [
    "# Сделаем преобразование столбцов к типу данных category:\n",
    "cols_to_exclude = ['Date', 'Rooms', 'Bedroom', 'Bathroom', 'Car'] # список столбцов, которые мы не берём во внимание\n",
    "max_unique_count = 150 # задаём максимальное число уникальных категорий\n",
    "for col in melb_df.columns:\n",
    "    if melb_df[col].nunique() < max_unique_count and col not in cols_to_exclude:\n",
    "        melb_df[col] = melb_df[col].astype('category')\n",
    "\n",
    "\n",
    "display(melb_df.info())"
   ]
  },
  {
   "cell_type": "code",
   "execution_count": 20,
   "metadata": {},
   "outputs": [
    {
     "name": "stdout",
     "output_type": "stream",
     "text": [
      "Index(['Eastern Metropolitan', 'Eastern Victoria', 'Northern Metropolitan',\n",
      "       'Northern Victoria', 'South-Eastern Metropolitan',\n",
      "       'Southern Metropolitan', 'Western Metropolitan', 'Western Victoria'],\n",
      "      dtype='object')\n"
     ]
    },
    {
     "data": {
      "text/plain": [
       "5    4695\n",
       "2    3890\n",
       "6    2948\n",
       "0    1471\n",
       "4     450\n",
       "1      53\n",
       "3      41\n",
       "7      32\n",
       "Name: count, dtype: int64"
      ]
     },
     "metadata": {},
     "output_type": "display_data"
    },
    {
     "data": {
      "text/plain": [
       "Regionname\n",
       "Southern Metropolitan         4695\n",
       "Northern Metropolitan         3890\n",
       "Western Metropolitan          2948\n",
       "Eastern Metropolitan          1471\n",
       "South-Eastern Metropolitan     450\n",
       "Eastern Victoria                53\n",
       "Northern Victoria               41\n",
       "Western Victoria                32\n",
       "Name: count, dtype: int64"
      ]
     },
     "metadata": {},
     "output_type": "display_data"
    }
   ],
   "source": [
    "#У типа данных category есть свой специальный аксесcор cat, который позволяет получать информацию о своих значениях и преобразовывать их.\n",
    "# Например, с помощью атрибута этого аксессора categories мы можем получить список уникальных категорий в столбце Regionname:\n",
    "print(melb_df['Regionname'].cat.categories)\n",
    "display(melb_df['Regionname'].cat.codes.value_counts())\n",
    "display(melb_df['Regionname'].value_counts())"
   ]
  },
  {
   "cell_type": "code",
   "execution_count": 21,
   "metadata": {},
   "outputs": [
    {
     "data": {
      "text/plain": [
       "Type\n",
       "house        9449\n",
       "unit         3017\n",
       "townhouse    1114\n",
       "Name: count, dtype: int64"
      ]
     },
     "metadata": {},
     "output_type": "display_data"
    }
   ],
   "source": [
    "#С помощью метода аксессора rename_categories() можно легко переименовать текущие значения категорий.\n",
    "# Для этого в данный метод нужно передать словарь, ключи которого — старые имена категорий, а значения — новые.\n",
    "melb_df['Type'] = melb_df['Type'].cat.rename_categories({'u': 'unit','t': 'townhouse','h': 'house'})\n",
    "display(melb_df['Type'].value_counts())"
   ]
  },
  {
   "cell_type": "code",
   "execution_count": 22,
   "metadata": {},
   "outputs": [
    {
     "data": {
      "text/plain": [
       "0     unit\n",
       "1    house\n",
       "2     flat\n",
       "3     flat\n",
       "4    house\n",
       "dtype: category\n",
       "Categories (4, object): ['house', 'townhouse', 'unit', 'flat']"
      ]
     },
     "metadata": {},
     "output_type": "display_data"
    }
   ],
   "source": [
    "melb_df['Type'] = melb_df['Type'].cat.add_categories('flat')\n",
    "new_houses_types = pd.Series(['unit', 'house', 'flat', 'flat', 'house'])\n",
    "new_houses_types = new_houses_types.astype(melb_df['Type'].dtype)\n",
    "display(new_houses_types)"
   ]
  },
  {
   "cell_type": "code",
   "execution_count": 15,
   "metadata": {},
   "outputs": [
    {
     "name": "stdout",
     "output_type": "stream",
     "text": [
      "<class 'pandas.core.frame.DataFrame'>\n",
      "RangeIndex: 13580 entries, 0 to 13579\n",
      "Data columns (total 27 columns):\n",
      " #   Column         Non-Null Count  Dtype         \n",
      "---  ------         --------------  -----         \n",
      " 0   Suburb         13580 non-null  object        \n",
      " 1   Address        13580 non-null  object        \n",
      " 2   Rooms          13580 non-null  int64         \n",
      " 3   Type           13580 non-null  category      \n",
      " 4   Price          13580 non-null  float64       \n",
      " 5   Method         13580 non-null  category      \n",
      " 6   SellerG        13580 non-null  category      \n",
      " 7   Date           13580 non-null  datetime64[ns]\n",
      " 8   Distance       13580 non-null  float64       \n",
      " 9   Postcode       13580 non-null  int64         \n",
      " 10  Bedroom        13580 non-null  int64         \n",
      " 11  Bathroom       13580 non-null  int64         \n",
      " 12  Car            13580 non-null  int64         \n",
      " 13  Landsize       13580 non-null  float64       \n",
      " 14  BuildingArea   13580 non-null  float64       \n",
      " 15  YearBuilt      13580 non-null  category      \n",
      " 16  CouncilArea    12211 non-null  category      \n",
      " 17  Lattitude      13580 non-null  float64       \n",
      " 18  Longtitude     13580 non-null  float64       \n",
      " 19  Regionname     13580 non-null  category      \n",
      " 20  Propertycount  13580 non-null  int64         \n",
      " 21  MeanRoomsArea  13580 non-null  float64       \n",
      " 22  AreaRatio      13580 non-null  float64       \n",
      " 23  AgeBuilding    13580 non-null  int64         \n",
      " 24  WeekdaySale    13580 non-null  category      \n",
      " 25  StreetType     13580 non-null  category      \n",
      " 26  Weekend        13580 non-null  category      \n",
      "dtypes: category(9), datetime64[ns](1), float64(8), int64(7), object(2)\n",
      "memory usage: 2.0+ MB\n"
     ]
    },
    {
     "data": {
      "text/plain": [
       "None"
      ]
     },
     "metadata": {},
     "output_type": "display_data"
    }
   ],
   "source": [
    "display(melb_df.info())"
   ]
  },
  {
   "cell_type": "code",
   "execution_count": 27,
   "metadata": {},
   "outputs": [
    {
     "data": {
      "text/plain": [
       "Suburb\n",
       "other              2215\n",
       "Reservoir           359\n",
       "Richmond            260\n",
       "Bentleigh East      249\n",
       "Preston             239\n",
       "                   ... \n",
       "Greensborough        36\n",
       "Chadstone            35\n",
       "Caulfield North      35\n",
       "Hughesdale           35\n",
       "Mont Albert          34\n",
       "Name: count, Length: 119, dtype: int64"
      ]
     },
     "metadata": {},
     "output_type": "display_data"
    },
    {
     "data": {
      "text/plain": [
       "119"
      ]
     },
     "metadata": {},
     "output_type": "display_data"
    },
    {
     "data": {
      "text/plain": [
       "119"
      ]
     },
     "metadata": {},
     "output_type": "display_data"
    },
    {
     "data": {
      "text/plain": [
       "Suburb\n",
       "other              2215\n",
       "Reservoir           359\n",
       "Richmond            260\n",
       "Bentleigh East      249\n",
       "Preston             239\n",
       "                   ... \n",
       "Greensborough        36\n",
       "Chadstone            35\n",
       "Caulfield North      35\n",
       "Hughesdale           35\n",
       "Mont Albert          34\n",
       "Name: count, Length: 119, dtype: int64"
      ]
     },
     "metadata": {},
     "output_type": "display_data"
    },
    {
     "name": "stdout",
     "output_type": "stream",
     "text": [
      "<class 'pandas.core.frame.DataFrame'>\n",
      "RangeIndex: 13580 entries, 0 to 13579\n",
      "Data columns (total 26 columns):\n",
      " #   Column         Non-Null Count  Dtype         \n",
      "---  ------         --------------  -----         \n",
      " 0   Suburb         13580 non-null  category      \n",
      " 1   Rooms          13580 non-null  int64         \n",
      " 2   Type           13580 non-null  category      \n",
      " 3   Price          13580 non-null  float64       \n",
      " 4   Method         13580 non-null  category      \n",
      " 5   SellerG        13580 non-null  category      \n",
      " 6   Date           13580 non-null  datetime64[ns]\n",
      " 7   Distance       13580 non-null  float64       \n",
      " 8   Postcode       13580 non-null  int64         \n",
      " 9   Bedroom        13580 non-null  int64         \n",
      " 10  Bathroom       13580 non-null  int64         \n",
      " 11  Car            13580 non-null  int64         \n",
      " 12  Landsize       13580 non-null  float64       \n",
      " 13  BuildingArea   13580 non-null  float64       \n",
      " 14  YearBuilt      13580 non-null  category      \n",
      " 15  CouncilArea    12211 non-null  category      \n",
      " 16  Lattitude      13580 non-null  float64       \n",
      " 17  Longtitude     13580 non-null  float64       \n",
      " 18  Regionname     13580 non-null  category      \n",
      " 19  Propertycount  13580 non-null  int64         \n",
      " 20  MeanRoomsArea  13580 non-null  float64       \n",
      " 21  AreaRatio      13580 non-null  float64       \n",
      " 22  AgeBuilding    13580 non-null  int64         \n",
      " 23  WeekdaySale    13580 non-null  category      \n",
      " 24  StreetType     13580 non-null  category      \n",
      " 25  Weekend        13580 non-null  category      \n",
      "dtypes: category(10), datetime64[ns](1), float64(8), int64(7)\n",
      "memory usage: 1.8 MB\n"
     ]
    }
   ],
   "source": [
    "# Преобразуйте признак Suburb следующим образом: оставьте в столбце только 119 наиболее популярных пригородов, остальные замените на 'other'.\n",
    "\n",
    "suburb_pop = melb_df['Suburb'].value_counts().nlargest(119)\n",
    "#melb_df['Suburb'] = melb_df['Suburb'].apply(lambda x: x if x in suburb_pop else 'other')\n",
    "#melb_df['Suburb'] = melb_df['Suburb'].astype('object')\n",
    "display(suburb_pop)\n",
    "display(melb_df['Suburb'].nunique())\n",
    "melb_df['Suburb'] = melb_df['Suburb'].apply(lambda x: x if x in suburb_pop else 'other')\n",
    "display(melb_df['Suburb'].nunique())\n",
    "display(melb_df['Suburb'].value_counts())\n",
    "melb_df['Suburb'] = melb_df['Suburb'].astype('category')\n",
    "melb_df.info()\n",
    "#melb_df = melb_df.drop('Address', axis=1)"
   ]
  },
  {
   "cell_type": "code",
   "execution_count": null,
   "metadata": {},
   "outputs": [],
   "source": []
  }
 ],
 "metadata": {
  "kernelspec": {
   "display_name": "Python 3",
   "language": "python",
   "name": "python3"
  },
  "language_info": {
   "codemirror_mode": {
    "name": "ipython",
    "version": 3
   },
   "file_extension": ".py",
   "mimetype": "text/x-python",
   "name": "python",
   "nbconvert_exporter": "python",
   "pygments_lexer": "ipython3",
   "version": "3.13.1"
  }
 },
 "nbformat": 4,
 "nbformat_minor": 2
}
