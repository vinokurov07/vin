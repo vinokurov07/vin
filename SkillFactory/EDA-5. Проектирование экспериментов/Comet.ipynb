{
 "cells": [
  {
   "cell_type": "markdown",
   "id": "1b9c5ab4",
   "metadata": {},
   "source": [
    "# **4. Знакомство с Comet.ml**"
   ]
  },
  {
   "cell_type": "markdown",
   "id": "bb4b97b1",
   "metadata": {},
   "source": [
    "Comet предоставляет следующие возможности:\n",
    "\n",
    "* сравнивать эксперименты с точки зрения метрик, параметров и так далее;\n",
    "* следить за моделью от создания до вывода в продакшен;\n",
    "* делиться своим проектом с другими людьми, которые в режиме реального времени будут следить за результатами;\n",
    "* строить отчёты исходя из результатов эксперимента;\n",
    "* оставить проект приватным или сделать его общедоступным.  \n",
    "\n",
    "Платформа генерирует новый API для эксперимента, который можно использовать в коде Python:"
   ]
  },
  {
   "cell_type": "code",
   "execution_count": null,
   "id": "4f7fa48b",
   "metadata": {},
   "outputs": [
    {
     "name": "stderr",
     "output_type": "stream",
     "text": [
      "\u001b[1;38;5;214mCOMET WARNING:\u001b[0m As you are running in a Jupyter environment, you will need to call `experiment.end()` when finished to ensure all metrics and code are logged before exiting.\n",
      "\u001b[1;38;5;39mCOMET INFO:\u001b[0m Experiment is live on comet.com https://www.comet.com/vinokurov07/medical-appointment/3575be20b9f84f2d9b67dea2b3030b66\n",
      "\n"
     ]
    },
    {
     "name": "stderr",
     "output_type": "stream",
     "text": [
      "\u001b[1;38;5;196mCOMET ERROR:\u001b[0m Due to connectivity issues, there's an error in processing the heartbeat. The experiment's status updates might be inaccurate until the connection issues are resolved.\n"
     ]
    }
   ],
   "source": [
    "from comet_ml import Experiment\n",
    "\n",
    "# Создайте эксперимент с помощью вашего API ключа\n",
    "experiment = Experiment(\n",
    "    api_key=\"OJym3kEUHnFvl8wBOLuCZADKA\",\n",
    "    project_name=\"medical-appointment\",\n",
    "    workspace=\"vinokurov07\",\n",
    ")"
   ]
  },
  {
   "cell_type": "markdown",
   "id": "0dd6b719",
   "metadata": {},
   "source": [
    "Класс Experiment — это интерфейс локального кода для Comet. Он определяет множество методов, описанных в официальной документации Comet. Платформа позволяет хранить информацию о коде, логировать графики, гиперпараметры модели (о них вы узнаете дальше в курсе), метрики. \n",
    "\n",
    "Давайте рассмотрим некоторые популярные методы:\n",
    "\n",
    "* log_metric() и log_metrics() — логируют в эксперименте одну или несколько оценочных метрик, таких как accuracy;\n",
    "* log_figure() — логирует рисунок;\n",
    "* display() — создаёт интерактивную среду в Jupyter, показывающую приборную панель Comet как вывод ячейки;\n",
    "* end() — если эксперимент выполняется в Jupyter, этот метод указывает, что эксперимент завершён.\n",
    "\n",
    "После завершения эксперимента Comet предоставляет информационную панель, где можно увидеть все залогированные в коде метрики, цифры, параметры и так далее.\n",
    "\n",
    "Показатели оценки отображаются автоматически. Например, если эксперимент состоит из нескольких шагов, можно легко нарисовать графики, показывающие метрики в зависимости от количества шагов.\n",
    "\n",
    "Ниже представлен пример графика, иллюстрирующего изменение accuracy на каждом шаге обучения нейронной сети (про нейронные сети вы узнаете далее по курсу). "
   ]
  },
  {
   "cell_type": "markdown",
   "id": "87782286",
   "metadata": {},
   "source": [
    "Итак, Comet.ml — это платформа для экспериментов с машинным обучением, которую специалисты по данным используют для отслеживания, сравнения и объяснения своих экспериментов по машинному обучению. Она обеспечивает воспроизведение моделей, простое обслуживание рабочего процесса машинного обучения и бесперебойную совместную работу на протяжении всего жизненного цикла проекта.  \n",
    "\n",
    "Например, вы в команде строите модель оценки спроса на лекарство. Вы можете разделить пайплайн машинного обучения между участниками проекта, при этом каждый участник получит возможность отслеживать все эксперименты каждого этапа в Comet: от логирования визуализаций до подбора параметров обучения модели и оценки её производительности."
   ]
  }
 ],
 "metadata": {
  "kernelspec": {
   "display_name": "Python 3",
   "language": "python",
   "name": "python3"
  },
  "language_info": {
   "codemirror_mode": {
    "name": "ipython",
    "version": 3
   },
   "file_extension": ".py",
   "mimetype": "text/x-python",
   "name": "python",
   "nbconvert_exporter": "python",
   "pygments_lexer": "ipython3",
   "version": "3.13.1"
  }
 },
 "nbformat": 4,
 "nbformat_minor": 5
}
