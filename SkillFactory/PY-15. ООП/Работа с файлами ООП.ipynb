{
 "cells": [
  {
   "cell_type": "code",
   "execution_count": 2,
   "metadata": {},
   "outputs": [
    {
     "name": "stdout",
     "output_type": "stream",
     "text": [
      "c:\\Users\\Lario\\OneDrive\\Рабочий стол\\Data Sсientist\\IDE\\SkillFactory\\PY-15. ООП\n"
     ]
    }
   ],
   "source": [
    "import os\n",
    "# получить текущий путь\n",
    "start_path = os.getcwd()\n",
    "print(start_path) # /home/nbuser/library"
   ]
  },
  {
   "cell_type": "code",
   "execution_count": 4,
   "metadata": {},
   "outputs": [
    {
     "data": {
      "text/plain": [
       "'c:\\\\Users\\\\Lario\\\\OneDrive\\\\Рабочий стол\\\\Data Sсientist'"
      ]
     },
     "execution_count": 4,
     "metadata": {},
     "output_type": "execute_result"
    }
   ],
   "source": [
    "os.chdir(\"..\") # подняться на один уровень выше\n",
    "os.getcwd() # '/home/nbuser'\n",
    "os.chdir(\"..\") # подняться на один уровень выше\n",
    "os.getcwd() # '/home/nbuser'"
   ]
  },
  {
   "cell_type": "code",
   "execution_count": 7,
   "metadata": {},
   "outputs": [
    {
     "name": "stdout",
     "output_type": "stream",
     "text": [
      "['helpers', 'Классы.ipynb', 'Работа с файлами ООП.ipynb']\n",
      "Файл отсутствует в данной директории\n"
     ]
    }
   ],
   "source": [
    "os.chdir(start_path)\n",
    "os.getcwd() # '/home/nbuser/library'\n",
    "print(os.listdir())\n",
    "if 'tmp.py' not in os.listdir():\n",
    "    print(\"Файл отсутствует в данной директории\")"
   ]
  },
  {
   "cell_type": "code",
   "execution_count": 8,
   "metadata": {},
   "outputs": [
    {
     "name": "stdout",
     "output_type": "stream",
     "text": [
      "c:\\Users\\Lario\\OneDrive\\Рабочий стол\\Data Sсientist\\IDE\\SkillFactory\\PY-15. ООП\n",
      "c:\\Users\\Lario\\OneDrive\\Рабочий стол\\Data Sсientist\\IDE\\SkillFactory\\PY-15. ООП\\test\n"
     ]
    }
   ],
   "source": [
    "# соединяет пути с учётом особенностей операционной системы\n",
    "print(start_path)\n",
    "print(os.path.join(start_path, 'test'))"
   ]
  },
  {
   "cell_type": "markdown",
   "metadata": {},
   "source": [
    "## 7.3 \n",
    "Сделайте функцию, которая принимает от пользователя путь и выводит всю информацию о содержимом этой папки. Для реализации используйте функцию встроенного модуля os.walk(). Если путь не указан, то сравнение начинается с текущей директории."
   ]
  },
  {
   "cell_type": "code",
   "execution_count": 18,
   "metadata": {},
   "outputs": [
    {
     "name": "stdout",
     "output_type": "stream",
     "text": [
      "Текущая директория c:\\Users\\Lario\\OneDrive\\Рабочий стол\\Data Sсientist\\IDE\\SkillFactory\\PY-15. ООП\n",
      "---\n",
      "Список папок ['helpers']\n",
      "---\n",
      "Список файлов ['Классы.ipynb', 'Работа с файлами ООП.ipynb']\n",
      "---\n",
      "Все пути:\n",
      "Файл  c:\\Users\\Lario\\OneDrive\\Рабочий стол\\Data Sсientist\\IDE\\SkillFactory\\PY-15. ООП\\Классы.ipynb\n",
      "Файл  c:\\Users\\Lario\\OneDrive\\Рабочий стол\\Data Sсientist\\IDE\\SkillFactory\\PY-15. ООП\\Работа с файлами ООП.ipynb\n",
      "Папка  c:\\Users\\Lario\\OneDrive\\Рабочий стол\\Data Sсientist\\IDE\\SkillFactory\\PY-15. ООП\\helpers\n",
      "===\n",
      "Текущая директория c:\\Users\\Lario\\OneDrive\\Рабочий стол\\Data Sсientist\\IDE\\SkillFactory\\PY-15. ООП\\helpers\n",
      "---\n",
      "Список папок ['__pycache__']\n",
      "---\n",
      "Список файлов ['client.py', 'data_frame.py', 'dumper.py', '__init__.py']\n",
      "---\n",
      "Все пути:\n",
      "Файл  c:\\Users\\Lario\\OneDrive\\Рабочий стол\\Data Sсientist\\IDE\\SkillFactory\\PY-15. ООП\\helpers\\client.py\n",
      "Файл  c:\\Users\\Lario\\OneDrive\\Рабочий стол\\Data Sсientist\\IDE\\SkillFactory\\PY-15. ООП\\helpers\\data_frame.py\n",
      "Файл  c:\\Users\\Lario\\OneDrive\\Рабочий стол\\Data Sсientist\\IDE\\SkillFactory\\PY-15. ООП\\helpers\\dumper.py\n",
      "Файл  c:\\Users\\Lario\\OneDrive\\Рабочий стол\\Data Sсientist\\IDE\\SkillFactory\\PY-15. ООП\\helpers\\__init__.py\n",
      "Папка  c:\\Users\\Lario\\OneDrive\\Рабочий стол\\Data Sсientist\\IDE\\SkillFactory\\PY-15. ООП\\helpers\\__pycache__\n",
      "===\n",
      "Текущая директория c:\\Users\\Lario\\OneDrive\\Рабочий стол\\Data Sсientist\\IDE\\SkillFactory\\PY-15. ООП\\helpers\\__pycache__\n",
      "---\n",
      "Папок нет\n",
      "---\n",
      "Список файлов ['client.cpython-313.pyc', 'data_frame.cpython-313.pyc', 'dumper.cpython-313.pyc', '__init__.cpython-313.pyc']\n",
      "---\n",
      "Файл  c:\\Users\\Lario\\OneDrive\\Рабочий стол\\Data Sсientist\\IDE\\SkillFactory\\PY-15. ООП\\helpers\\__pycache__\\client.cpython-313.pyc\n",
      "Файл  c:\\Users\\Lario\\OneDrive\\Рабочий стол\\Data Sсientist\\IDE\\SkillFactory\\PY-15. ООП\\helpers\\__pycache__\\data_frame.cpython-313.pyc\n",
      "Файл  c:\\Users\\Lario\\OneDrive\\Рабочий стол\\Data Sсientist\\IDE\\SkillFactory\\PY-15. ООП\\helpers\\__pycache__\\dumper.cpython-313.pyc\n",
      "Файл  c:\\Users\\Lario\\OneDrive\\Рабочий стол\\Data Sсientist\\IDE\\SkillFactory\\PY-15. ООП\\helpers\\__pycache__\\__init__.cpython-313.pyc\n",
      "===\n"
     ]
    }
   ],
   "source": [
    "import os\n",
    "\n",
    "def walk_desc(path=None):\n",
    "    start_path = path if path is not None else os.getcwd()\n",
    "\n",
    "    for root, dirs, files in os.walk(start_path):\n",
    "        print(\"Текущая директория\", root)\n",
    "        print(\"---\")\n",
    "\n",
    "        if dirs:\n",
    "            print(\"Список папок\", dirs)\n",
    "        else:\n",
    "            print(\"Папок нет\")\n",
    "        print(\"---\")\n",
    "\n",
    "        if files:\n",
    "            print(\"Список файлов\", files)\n",
    "        else:\n",
    "            print(\"Файлов нет\")\n",
    "        print(\"---\")\n",
    "\n",
    "        if files and dirs:\n",
    "            print(\"Все пути:\")\n",
    "        for f in files:\n",
    "            print(\"Файл \", os.path.join(root, f))\n",
    "        for d in dirs:\n",
    "            print(\"Папка \", os.path.join(root, d))\n",
    "        print(\"===\")\n",
    "\n",
    "walk_desc()"
   ]
  },
  {
   "cell_type": "markdown",
   "metadata": {},
   "source": [
    "### Задание 7.4\n",
    "Задание на самопроверку.\n",
    "\n",
    "Создайте любой файл на операционной системе под название input.txt и построчно перепишите его в файл output.txt."
   ]
  },
  {
   "cell_type": "code",
   "execution_count": null,
   "metadata": {},
   "outputs": [],
   "source": [
    "with open(\"input.txt\", \"r\") as input_file:\n",
    "    with open(\"output.txt\", \"w\") as output_file:\n",
    "        for line in input_file:\n",
    "            output_file.write(line)"
   ]
  },
  {
   "cell_type": "code",
   "execution_count": 35,
   "metadata": {},
   "outputs": [
    {
     "data": {
      "text/plain": [
       "'Пацану господь за брата\\nСтарший, добрый и пиздатый\\nФелигранная чушь\\nЭти пацанские цитатники\\n'"
      ]
     },
     "execution_count": 35,
     "metadata": {},
     "output_type": "execute_result"
    }
   ],
   "source": [
    "f=open('input.txt', 'w', encoding='utf8')\n",
    "f.write('Пацану господь за брата\\n')\n",
    "f.write('Старший, добрый и пиздатый\\n')\n",
    "row = ['Фелигранная чушь\\n', 'Эти пацанские цитатники\\n']\n",
    "f.writelines(row)\n",
    "f.close\n",
    "f=open('input.txt', 'r', encoding='utf8')\n",
    "f2=open('output.txt','w', encoding='utf8')\n",
    "for line in f:\n",
    "    f2.write(line)\n",
    "f2.close\n",
    "f2=open('output.txt','r', encoding='utf8')\n",
    "f2.read()"
   ]
  },
  {
   "cell_type": "code",
   "execution_count": 50,
   "metadata": {},
   "outputs": [
    {
     "name": "stdout",
     "output_type": "stream",
     "text": [
      "Неправильный возраст\n"
     ]
    }
   ],
   "source": [
    "try:\n",
    "    age = int(input(\"Сколько тебе лет?\"))\n",
    "\n",
    "    if age > 100 or age <= 0:\n",
    "        raise ValueError(\"Тебе не может быть столько лет\")\n",
    "\n",
    "        # Возраст выводится только если пользователь ввёл правильный возраст.\n",
    "    print(f\"Тебе {age} лет!\")\n",
    "except ValueError:\n",
    "    print(\"Неправильный возраст\")"
   ]
  },
  {
   "cell_type": "code",
   "execution_count": 64,
   "metadata": {},
   "outputs": [
    {
     "name": "stdout",
     "output_type": "stream",
     "text": [
      "Вы ввели неправильное число\n",
      "Выход из программы\n"
     ]
    }
   ],
   "source": [
    "try:\n",
    "    num = int(input('Введите число:'))\n",
    "except ValueError:\n",
    "    print('Вы ввели неправильное число')\n",
    "else:\n",
    "    print(f'Вы ввели {num}')\n",
    "finally:\n",
    "    print('Выход из программы')"
   ]
  }
 ],
 "metadata": {
  "kernelspec": {
   "display_name": "Python 3",
   "language": "python",
   "name": "python3"
  },
  "language_info": {
   "codemirror_mode": {
    "name": "ipython",
    "version": 3
   },
   "file_extension": ".py",
   "mimetype": "text/x-python",
   "name": "python",
   "nbconvert_exporter": "python",
   "pygments_lexer": "ipython3",
   "version": "3.13.1"
  }
 },
 "nbformat": 4,
 "nbformat_minor": 2
}
