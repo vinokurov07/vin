{
 "cells": [
  {
   "cell_type": "code",
   "execution_count": 2,
   "metadata": {},
   "outputs": [
    {
     "name": "stdout",
     "output_type": "stream",
     "text": [
      "pandas\n"
     ]
    }
   ],
   "source": [
    "import pandas as pd\n",
    "pd.__version__\n",
    "print(pd.__name__)"
   ]
  },
  {
   "cell_type": "code",
   "execution_count": 99,
   "metadata": {},
   "outputs": [
    {
     "data": {
      "text/plain": [
       "chlorhexidine    15\n",
       "cyntomycin       18\n",
       "afobazol          7\n",
       "Name: Series_medications, dtype: int64"
      ]
     },
     "metadata": {},
     "output_type": "display_data"
    },
    {
     "data": {
      "text/plain": [
       "np.float64(45.0)"
      ]
     },
     "metadata": {},
     "output_type": "display_data"
    },
    {
     "name": "stdout",
     "output_type": "stream",
     "text": [
      "40\n"
     ]
    }
   ],
   "source": [
    "#2.4 \n",
    "names = ['chlorhexidine', 'cyntomycin', 'afobazol'] \n",
    "counts = [15, 18, 7]\n",
    "\n",
    "def create_medications(names, counts):\n",
    "    medications = pd.Series(data = counts, index = names, name = 'Series_medications')\n",
    "    return medications\n",
    "\n",
    "\n",
    "medications = create_medications(names, counts)\n",
    "display(medications)\n",
    "\n",
    "def get_percent(medications, name):\n",
    "    percent = medications.loc[name]/sum(counts)*100\n",
    "    return percent\n",
    "\n",
    "display(get_percent(medications, \"cyntomycin\"))\n",
    "print(sum(counts))"
   ]
  },
  {
   "cell_type": "code",
   "execution_count": 50,
   "metadata": {},
   "outputs": [
    {
     "data": {
      "text/plain": [
       "UK       Англия\n",
       "CA       Канада\n",
       "US          США\n",
       "RU       Россия\n",
       "UA      Украина\n",
       "BY     Беларусь\n",
       "KZ    Казахстан\n",
       "Name: countries, dtype: object"
      ]
     },
     "metadata": {},
     "output_type": "display_data"
    },
    {
     "name": "stdout",
     "output_type": "stream",
     "text": [
      "Канада\n"
     ]
    }
   ],
   "source": [
    "#Создаем серию через список\n",
    "countries = pd.Series(\n",
    "    data = ['Англия', 'Канада', 'США', 'Россия', 'Украина', 'Беларусь', 'Казахстан'],\n",
    "    index = ['UK', 'CA', 'US', 'RU', 'UA', 'BY', 'KZ'],\n",
    "    name = 'countries'\n",
    ")\n",
    "display(countries)\n",
    "# Создаем серию через словарь\n",
    "countries = pd.Series({\n",
    "    'UK': 'Англия',\n",
    "    'CA': 'Канада',\n",
    "    'US' : 'США',\n",
    "    'RU': 'Россия',\n",
    "    'UA': 'Украина',\n",
    "    'BY': 'Беларусь',\n",
    "    'KZ': 'Казахстан'},\n",
    "    name = 'countries'\n",
    ")\n",
    "#display(countries)\n",
    "print(countries.iloc[1])"
   ]
  },
  {
   "cell_type": "code",
   "execution_count": 20,
   "metadata": {},
   "outputs": [
    {
     "name": "stdout",
     "output_type": "stream",
     "text": [
      "    population     area\n",
      "UA       45.50   603628\n",
      "BY        9.50   207600\n",
      "KZ       17.04  2724902\n"
     ]
    }
   ],
   "source": [
    "# Создаем DataFrame через словарь\n",
    "countries_df = pd.DataFrame({\n",
    "    'country': ['Англия', 'Канада', 'США', 'Россия', 'Украина', 'Беларусь', 'Казахстан'],\n",
    "    'population': [56.29, 38.05, 322.28, 146.24, 45.5, 9.5, 17.04],\n",
    "    'area': [133396, 9984670, 9826630, 17125191, 603628, 207600, 2724902]\n",
    "})\n",
    "countries_df.index = ['UK', 'CA', 'US', 'RU', 'UA', 'BY', 'KZ']\n",
    "\n",
    "\n",
    "# Создаем DataFrame через список\n",
    "countries_df = pd.DataFrame(\n",
    "    data = [\n",
    "        ['Англия', 56.29, 13339],\n",
    "        ['Канада', 38.05, 9984670],\n",
    "        ['США', 322.28, 9826630],\n",
    "        ['Россия', 146.24, 17125191],\n",
    "        ['Украина', 45.5, 603628],\n",
    "        ['Беларусь', 9.5, 207600],\n",
    "        ['Казахстан', 17.04, 2724902]\n",
    "    ],\n",
    "    columns= ['country', 'population', 'area'],\n",
    "    index = ['UK', 'CA', 'US', 'RU', 'UA', 'BY', 'KZ']\n",
    ")\n",
    "\n",
    "countries_df.to_csv('data/countries.csv', sep = ';', index = False)\n",
    "#display(countries_df)\n",
    "\n",
    "countries_df['population']\n",
    "countries_df.population\n",
    "\n",
    "#print(countries_df.loc[['UA','BY', 'KZ'],['area', 'population']])\n",
    "print(countries_df.iloc[4:7 , 1:3])\n"
   ]
  },
  {
   "cell_type": "code",
   "execution_count": 27,
   "metadata": {},
   "outputs": [
    {
     "data": {
      "text/html": [
       "<div>\n",
       "<style scoped>\n",
       "    .dataframe tbody tr th:only-of-type {\n",
       "        vertical-align: middle;\n",
       "    }\n",
       "\n",
       "    .dataframe tbody tr th {\n",
       "        vertical-align: top;\n",
       "    }\n",
       "\n",
       "    .dataframe thead th {\n",
       "        text-align: right;\n",
       "    }\n",
       "</style>\n",
       "<table border=\"1\" class=\"dataframe\">\n",
       "  <thead>\n",
       "    <tr style=\"text-align: right;\">\n",
       "      <th></th>\n",
       "      <th>col1</th>\n",
       "      <th>col2</th>\n",
       "    </tr>\n",
       "  </thead>\n",
       "  <tbody>\n",
       "    <tr>\n",
       "      <th>0</th>\n",
       "      <td>0</td>\n",
       "      <td>2.0</td>\n",
       "    </tr>\n",
       "    <tr>\n",
       "      <th>1</th>\n",
       "      <td>1</td>\n",
       "      <td>NaN</td>\n",
       "    </tr>\n",
       "    <tr>\n",
       "      <th>2</th>\n",
       "      <td>2</td>\n",
       "      <td>3.0</td>\n",
       "    </tr>\n",
       "    <tr>\n",
       "      <th>3</th>\n",
       "      <td>3</td>\n",
       "      <td>NaN</td>\n",
       "    </tr>\n",
       "  </tbody>\n",
       "</table>\n",
       "</div>"
      ],
      "text/plain": [
       "   col1  col2\n",
       "0     0   2.0\n",
       "1     1   NaN\n",
       "2     2   3.0\n",
       "3     3   NaN"
      ]
     },
     "execution_count": 27,
     "metadata": {},
     "output_type": "execute_result"
    }
   ],
   "source": [
    "d = {'col1': [0, 1, 2, 3], 'col2': pd.Series([2, 3], index=[0, 2])}\n",
    "pd.DataFrame(data=d, index=[0, 1, 2, 3])"
   ]
  },
  {
   "cell_type": "code",
   "execution_count": 97,
   "metadata": {},
   "outputs": [
    {
     "data": {
      "text/html": [
       "<div>\n",
       "<style scoped>\n",
       "    .dataframe tbody tr th:only-of-type {\n",
       "        vertical-align: middle;\n",
       "    }\n",
       "\n",
       "    .dataframe tbody tr th {\n",
       "        vertical-align: top;\n",
       "    }\n",
       "\n",
       "    .dataframe thead th {\n",
       "        text-align: right;\n",
       "    }\n",
       "</style>\n",
       "<table border=\"1\" class=\"dataframe\">\n",
       "  <thead>\n",
       "    <tr style=\"text-align: right;\">\n",
       "      <th></th>\n",
       "      <th>Income</th>\n",
       "      <th>Expenses</th>\n",
       "      <th>Profit</th>\n",
       "    </tr>\n",
       "  </thead>\n",
       "  <tbody>\n",
       "    <tr>\n",
       "      <th>2018</th>\n",
       "      <td>478</td>\n",
       "      <td>156</td>\n",
       "      <td>322</td>\n",
       "    </tr>\n",
       "    <tr>\n",
       "      <th>2019</th>\n",
       "      <td>512</td>\n",
       "      <td>130</td>\n",
       "      <td>382</td>\n",
       "    </tr>\n",
       "    <tr>\n",
       "      <th>2020</th>\n",
       "      <td>196</td>\n",
       "      <td>270</td>\n",
       "      <td>-74</td>\n",
       "    </tr>\n",
       "  </tbody>\n",
       "</table>\n",
       "</div>"
      ],
      "text/plain": [
       "      Income  Expenses  Profit\n",
       "2018     478       156     322\n",
       "2019     512       130     382\n",
       "2020     196       270     -74"
      ]
     },
     "metadata": {},
     "output_type": "display_data"
    },
    {
     "name": "stdout",
     "output_type": "stream",
     "text": [
      "322\n"
     ]
    }
   ],
   "source": [
    "# 3.5 Мое решение\n",
    "import numpy as np\n",
    "import pandas as pd\n",
    "income = [478, 512, 196]\n",
    "expenses = [156, 130, 270]\n",
    "years = [2018, 2019, 2020]\n",
    "\n",
    "def create_companyDF(income,expenses, years):\n",
    "    data_dict = {'Income': income,'Expenses': expenses}\n",
    "    DataFrame = pd.DataFrame(data_dict, index = years)\n",
    "    return DataFrame \n",
    "\n",
    "df = create_companyDF(income,expenses, years)\n",
    "\n",
    "\n",
    "def get_profit(df, year):\n",
    "    # считаем прибыль, для этого переведем списки в массивы нампай, посчитаем\n",
    "    # разность и обратно в список\n",
    "    arr_income = np.array(income)\n",
    "    arr_exp = np.array(expenses)\n",
    "    arr_del = arr_income-arr_exp\n",
    "    profit = list(arr_del)\n",
    "    # дополняем DF новым столбцом\n",
    "    df.insert(2, 'Profit', profit)\n",
    "    # Проверяем есть ли заданный год в индексах\n",
    "    if year in df.index:\n",
    "        return df.loc[year, 'Profit']\n",
    "    return None\n",
    "get_profit(df, year)\n",
    "display(df) \n",
    "print(df.loc[2018,'Income']-df.loc[2018,'Expenses'])   \n",
    "    "
   ]
  },
  {
   "cell_type": "code",
   "execution_count": null,
   "metadata": {},
   "outputs": [],
   "source": [
    "# 3.5 эталонное решение\n",
    "import pandas as pd\n",
    "\n",
    "def create_companyDF(income, expenses, years):\n",
    "    df = pd.DataFrame({\n",
    "        'Income': income,\n",
    "        'Expenses': expenses\n",
    "        },\n",
    "        index = years\n",
    "    )\n",
    "    return df\n",
    "\n",
    "def get_profit(df, year):\n",
    "    if year in df.index:\n",
    "        profit = df.loc[year, 'Income'] - df.loc[year, 'Expenses']\n",
    "    else:\n",
    "        profit=None\n",
    "    return profit"
   ]
  },
  {
   "cell_type": "code",
   "execution_count": 4,
   "metadata": {},
   "outputs": [
    {
     "data": {
      "text/plain": [
       "np.float64(126.0)"
      ]
     },
     "metadata": {},
     "output_type": "display_data"
    },
    {
     "data": {
      "text/plain": [
       "0    Northern Metropolitan\n",
       "Name: Regionname, dtype: object"
      ]
     },
     "metadata": {},
     "output_type": "display_data"
    }
   ],
   "source": [
    "melb_data = pd.read_csv('data/melb_data.csv', sep = ',')\n",
    "\n",
    "#melb_data.describe(include='object')\n",
    "melb_data.dtypes\n",
    "melb_data['Car'] = melb_data['Car'].astype('int64')\n",
    "melb_data['Bedroom'] = melb_data['Bedroom'].astype('int64')\n",
    "melb_data['Bathroom'] = melb_data['Bathroom'].astype('int64')\n",
    "melb_data['Propertycount'] = melb_data['Propertycount'].astype('int64')\n",
    "melb_data['YearBuilt'] = melb_data['YearBuilt'].astype('int64')\n",
    "#display(abs((melb_data.BuildingArea.median() - melb_data.BuildingArea.mean())/melb_data.BuildingArea.mean())*100)\n",
    "mask = melb_data.Price > 2000000\n",
    "\n",
    "#теперь нас будут интересовать дома с ценой менее 300 тысяч, у которых либо число комнат равно 3 либо площадь домов более 100 квадратных метров:\n",
    "#display(melb_data[((melb_data.Rooms == 3) | (melb_data.BuildingArea > 100)) & (melb_data.Price < 300000)])\n",
    "#Давайте найдём максимальное количество комнат в таунхаусах\n",
    "#display(melb_data[melb_data.Type == 't'].Rooms.max())\n",
    "\n",
    "#найдём медианную площадь здания у объектов, чья цена выше средней.\n",
    "mean_price = melb_data.Price.mean()\n",
    "display(melb_data[melb_data.Price > mean_price].BuildingArea.median())\n",
    "\n",
    "display(melb_data[(melb_data.Price < 3*10**6) & (melb_data.Type == 'h')].Regionname.mode())\n"
   ]
  },
  {
   "cell_type": "code",
   "execution_count": 8,
   "metadata": {},
   "outputs": [
    {
     "name": "stdout",
     "output_type": "stream",
     "text": [
      "parental level of education\n",
      "some college          0.226\n",
      "associate's degree    0.222\n",
      "high school           0.196\n",
      "some high school      0.179\n",
      "bachelor's degree     0.118\n",
      "master's degree       0.059\n",
      "Name: proportion, dtype: float64\n",
      "6.0\n"
     ]
    }
   ],
   "source": [
    "\n",
    "students = pd.read_csv('data/students_performance.csv')\n",
    "#display(students.head())\n",
    "#display(students['math score'].describe())\n",
    "stand_lunch = students[students['lunch'] == 'standard']['math score'].mean()\n",
    "free_lunch = students[students.lunch != 'standard']['math score'].mean()\n",
    "#display(stand_lunch, free_lunch)\n",
    "print(students['parental level of education'].value_counts(normalize=True))\n",
    "med_write_students = pd.read_csv('data/students_performance.csv', sep = ',')\n",
    "med_write_a = students[students['race/ethnicity'] == 'group A']['writing score'].median()\n",
    "mean_write_b = students[students['race/ethnicity'] == 'group C']['writing score'].mean()\n",
    "print(abs(round(med_write_a-mean_write_b, 0)))"
   ]
  },
  {
   "cell_type": "code",
   "execution_count": 1,
   "metadata": {},
   "outputs": [
    {
     "data": {
      "text/html": [
       "<div>\n",
       "<style scoped>\n",
       "    .dataframe tbody tr th:only-of-type {\n",
       "        vertical-align: middle;\n",
       "    }\n",
       "\n",
       "    .dataframe tbody tr th {\n",
       "        vertical-align: top;\n",
       "    }\n",
       "\n",
       "    .dataframe thead th {\n",
       "        text-align: right;\n",
       "    }\n",
       "</style>\n",
       "<table border=\"1\" class=\"dataframe\">\n",
       "  <thead>\n",
       "    <tr style=\"text-align: right;\">\n",
       "      <th></th>\n",
       "      <th>A</th>\n",
       "      <th>B</th>\n",
       "      <th>C</th>\n",
       "    </tr>\n",
       "  </thead>\n",
       "  <tbody>\n",
       "    <tr>\n",
       "      <th>0</th>\n",
       "      <td>1.0</td>\n",
       "      <td>5.0</td>\n",
       "      <td>1</td>\n",
       "    </tr>\n",
       "    <tr>\n",
       "      <th>1</th>\n",
       "      <td>2.0</td>\n",
       "      <td>NaN</td>\n",
       "      <td>2</td>\n",
       "    </tr>\n",
       "    <tr>\n",
       "      <th>2</th>\n",
       "      <td>NaN</td>\n",
       "      <td>NaN</td>\n",
       "      <td>3</td>\n",
       "    </tr>\n",
       "  </tbody>\n",
       "</table>\n",
       "</div>"
      ],
      "text/plain": [
       "     A    B  C\n",
       "0  1.0  5.0  1\n",
       "1  2.0  NaN  2\n",
       "2  NaN  NaN  3"
      ]
     },
     "metadata": {},
     "output_type": "display_data"
    },
    {
     "name": "stdout",
     "output_type": "stream",
     "text": [
      "A    3\n",
      "B    3\n",
      "C    3\n",
      "dtype: int64\n"
     ]
    }
   ],
   "source": [
    "\n",
    "import pandas as pd\n",
    "import numpy as np\n",
    " \n",
    "data = {'A': [1, 2, np.nan], 'B': [5, np.nan, np.nan], 'C': [1, 2, 3]}\n",
    "df = pd.DataFrame(data)\n",
    "display(df)\n",
    "print(np.isnan(df).count())"
   ]
  }
 ],
 "metadata": {
  "kernelspec": {
   "display_name": "Python 3",
   "language": "python",
   "name": "python3"
  },
  "language_info": {
   "codemirror_mode": {
    "name": "ipython",
    "version": 3
   },
   "file_extension": ".py",
   "mimetype": "text/x-python",
   "name": "python",
   "nbconvert_exporter": "python",
   "pygments_lexer": "ipython3",
   "version": "3.13.1"
  }
 },
 "nbformat": 4,
 "nbformat_minor": 2
}
