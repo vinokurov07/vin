{
  "cells": [
    {
      "cell_type": "markdown",
      "id": "42289889-bd57-434e-9637-d3e354756316",
      "metadata": {
        "id": "42289889-bd57-434e-9637-d3e354756316"
      },
      "source": [
        "<center> <img src = https://raw.githubusercontent.com/AndreyRysistov/DatasetsForPandas/main/hh%20label.jpg alt=\"drawing\" style=\"width:400px;\">"
      ]
    },
    {
      "cell_type": "markdown",
      "id": "829cb75b-f14e-4ba8-9195-7ba929a7d656",
      "metadata": {
        "id": "829cb75b-f14e-4ba8-9195-7ba929a7d656",
        "tags": []
      },
      "source": [
        "# <center> Проект: Анализ вакансий из HeadHunter\n",
        "   "
      ]
    },
    {
      "cell_type": "markdown",
      "id": "c3ead9a7",
      "metadata": {},
      "source": [
        "Имеется база резюме, выгруженная с сайта поиска вакансий hh.ru. Будущий проект — создание модели машинного обучения, которая будет рекомендовать вакансии клиентам агентства, претендующим на позицию Data Scientist. Необходимо понять, что из себя представляют данные и насколько они соответствуют целям проекта.  \n",
        "Проблема в том, что данные находятся в PostgreSQL. Необходимо с помощью Python отправлять запросы в Postgres и принимать оттуда результаты."
      ]
    },
    {
      "cell_type": "code",
      "execution_count": 45,
      "id": "dccfde33-2452-43fb-a8a5-5c6ebc02a71d",
      "metadata": {
        "id": "dccfde33-2452-43fb-a8a5-5c6ebc02a71d"
      },
      "outputs": [],
      "source": [
        "import pandas as pd\n",
        "import psycopg2"
      ]
    },
    {
      "cell_type": "code",
      "execution_count": 46,
      "id": "fcc53683",
      "metadata": {},
      "outputs": [],
      "source": [
        "# Чтобы избежать отображение предупреждений об использовании sqlalchemy \n",
        "import warnings\n",
        "warnings.filterwarnings(\"ignore\")"
      ]
    },
    {
      "cell_type": "code",
      "execution_count": 47,
      "id": "a4075859",
      "metadata": {},
      "outputs": [],
      "source": [
        "# давайте научимся хранить скрытую информацию правильно\n",
        "# в корневой папке с проектом создаём файл .env туда переносим 5 переменных из ячейки выше\n",
        "# во кладке source control добавляем .env файл в gitignore\n",
        "\n",
        "import os\n",
        "from dotenv import load_dotenv\n",
        "\n",
        "load_dotenv()\n",
        "DBNAME = os.getenv(\"DBNAME\")\n",
        "USER = os.getenv(\"USER\")\n",
        "PASSWORD = os.getenv(\"PASSWORD\")\n",
        "HOST = os.getenv(\"HOST\")\n",
        "PORT = os.getenv(\"PORT\")"
      ]
    },
    {
      "cell_type": "code",
      "execution_count": 48,
      "id": "G4X_q8KBf7SF",
      "metadata": {
        "id": "G4X_q8KBf7SF"
      },
      "outputs": [],
      "source": [
        "# Выполняем правильное подключение к базе данных\n",
        "connection = psycopg2.connect(\n",
        "    dbname=DBNAME,\n",
        "    user=USER,\n",
        "    host=HOST,\n",
        "    password=PASSWORD,\n",
        "    port=PORT\n",
        ")"
      ]
    },
    {
      "cell_type": "markdown",
      "id": "0dc6476b-7a00-44f1-ac93-6e3baed33a29",
      "metadata": {
        "id": "0dc6476b-7a00-44f1-ac93-6e3baed33a29"
      },
      "source": [
        "# Юнит 3. Предварительный анализ данных"
      ]
    },
    {
      "cell_type": "markdown",
      "id": "889782b6-8d1c-410e-8920-e57f27917c64",
      "metadata": {
        "id": "889782b6-8d1c-410e-8920-e57f27917c64"
      },
      "source": [
        "1. Напишите запрос, который посчитает количество вакансий в нашей базе (вакансии находятся в таблице vacancies). "
      ]
    },
    {
      "cell_type": "code",
      "execution_count": 49,
      "id": "bc39e68e-ed02-4ee2-9235-7258a2f867a8",
      "metadata": {
        "id": "bc39e68e-ed02-4ee2-9235-7258a2f867a8"
      },
      "outputs": [],
      "source": [
        "# текст запроса\n",
        "query_3_1 = f'''select count(distinct id)\n",
        "            from public.vacancies\n",
        "            '''"
      ]
    },
    {
      "cell_type": "code",
      "execution_count": 50,
      "id": "7mAwtsk4hEHY",
      "metadata": {
        "id": "7mAwtsk4hEHY"
      },
      "outputs": [
        {
          "data": {
            "text/html": [
              "<div>\n",
              "<style scoped>\n",
              "    .dataframe tbody tr th:only-of-type {\n",
              "        vertical-align: middle;\n",
              "    }\n",
              "\n",
              "    .dataframe tbody tr th {\n",
              "        vertical-align: top;\n",
              "    }\n",
              "\n",
              "    .dataframe thead th {\n",
              "        text-align: right;\n",
              "    }\n",
              "</style>\n",
              "<table border=\"1\" class=\"dataframe\">\n",
              "  <thead>\n",
              "    <tr style=\"text-align: right;\">\n",
              "      <th></th>\n",
              "      <th>count</th>\n",
              "    </tr>\n",
              "  </thead>\n",
              "  <tbody>\n",
              "    <tr>\n",
              "      <th>0</th>\n",
              "      <td>49197</td>\n",
              "    </tr>\n",
              "  </tbody>\n",
              "</table>\n",
              "</div>"
            ],
            "text/plain": [
              "   count\n",
              "0  49197"
            ]
          },
          "metadata": {},
          "output_type": "display_data"
        }
      ],
      "source": [
        "# результат запроса\n",
        "vacancies_count = pd.read_sql_query(query_3_1, connection) # выполняем запрос к БД, результат сохраняем в переменную\n",
        "display(vacancies_count)"
      ]
    },
    {
      "cell_type": "markdown",
      "id": "b583485d-1f9e-494e-ada4-80ffff7c53d6",
      "metadata": {
        "id": "b583485d-1f9e-494e-ada4-80ffff7c53d6"
      },
      "source": [
        "2. Напишите запрос, который посчитает количество работодателей (таблица employers). "
      ]
    },
    {
      "cell_type": "code",
      "execution_count": 51,
      "id": "5408c52c-3407-4a63-b25b-1aafa2322d28",
      "metadata": {
        "id": "5408c52c-3407-4a63-b25b-1aafa2322d28"
      },
      "outputs": [],
      "source": [
        "# текст запроса\n",
        "query_3_2 = f'''select count(distinct id)\n",
        "            from public.employers\n",
        "            '''"
      ]
    },
    {
      "cell_type": "code",
      "execution_count": 52,
      "id": "jVL4eshKhdqc",
      "metadata": {
        "id": "jVL4eshKhdqc"
      },
      "outputs": [
        {
          "data": {
            "text/html": [
              "<div>\n",
              "<style scoped>\n",
              "    .dataframe tbody tr th:only-of-type {\n",
              "        vertical-align: middle;\n",
              "    }\n",
              "\n",
              "    .dataframe tbody tr th {\n",
              "        vertical-align: top;\n",
              "    }\n",
              "\n",
              "    .dataframe thead th {\n",
              "        text-align: right;\n",
              "    }\n",
              "</style>\n",
              "<table border=\"1\" class=\"dataframe\">\n",
              "  <thead>\n",
              "    <tr style=\"text-align: right;\">\n",
              "      <th></th>\n",
              "      <th>count</th>\n",
              "    </tr>\n",
              "  </thead>\n",
              "  <tbody>\n",
              "    <tr>\n",
              "      <th>0</th>\n",
              "      <td>23501</td>\n",
              "    </tr>\n",
              "  </tbody>\n",
              "</table>\n",
              "</div>"
            ],
            "text/plain": [
              "   count\n",
              "0  23501"
            ]
          },
          "metadata": {},
          "output_type": "display_data"
        }
      ],
      "source": [
        "# результат запроса\n",
        "employers_count = pd.read_sql_query(query_3_2, connection)\n",
        "display(employers_count)"
      ]
    },
    {
      "cell_type": "markdown",
      "id": "a2bfff1f-c975-4bf6-84be-2185d79dcb76",
      "metadata": {
        "id": "a2bfff1f-c975-4bf6-84be-2185d79dcb76"
      },
      "source": [
        "3. Посчитате с помощью запроса количество регионов (таблица areas)."
      ]
    },
    {
      "cell_type": "code",
      "execution_count": 53,
      "id": "1m8QJwBYhey6",
      "metadata": {
        "id": "1m8QJwBYhey6"
      },
      "outputs": [],
      "source": [
        "# текст запроса\n",
        "query_3_3 = f'''select count(distinct id)\n",
        "            from public.areas\n",
        "            '''"
      ]
    },
    {
      "cell_type": "code",
      "execution_count": 54,
      "id": "EZsn9tlfhe7f",
      "metadata": {
        "id": "EZsn9tlfhe7f"
      },
      "outputs": [
        {
          "data": {
            "text/html": [
              "<div>\n",
              "<style scoped>\n",
              "    .dataframe tbody tr th:only-of-type {\n",
              "        vertical-align: middle;\n",
              "    }\n",
              "\n",
              "    .dataframe tbody tr th {\n",
              "        vertical-align: top;\n",
              "    }\n",
              "\n",
              "    .dataframe thead th {\n",
              "        text-align: right;\n",
              "    }\n",
              "</style>\n",
              "<table border=\"1\" class=\"dataframe\">\n",
              "  <thead>\n",
              "    <tr style=\"text-align: right;\">\n",
              "      <th></th>\n",
              "      <th>count</th>\n",
              "    </tr>\n",
              "  </thead>\n",
              "  <tbody>\n",
              "    <tr>\n",
              "      <th>0</th>\n",
              "      <td>1362</td>\n",
              "    </tr>\n",
              "  </tbody>\n",
              "</table>\n",
              "</div>"
            ],
            "text/plain": [
              "   count\n",
              "0   1362"
            ]
          },
          "metadata": {},
          "output_type": "display_data"
        }
      ],
      "source": [
        "# результат запроса\n",
        "areas_count = pd.read_sql_query(query_3_3, connection)\n",
        "display(areas_count)"
      ]
    },
    {
      "cell_type": "markdown",
      "id": "41bb59f3-53cc-4a67-a5bc-bedf573955e4",
      "metadata": {
        "id": "41bb59f3-53cc-4a67-a5bc-bedf573955e4"
      },
      "source": [
        "4. Посчитате с помощью запроса количество сфер деятельности в базе (таблица industries)."
      ]
    },
    {
      "cell_type": "code",
      "execution_count": 55,
      "id": "d286cf4c-707b-4cd2-9190-7ab3587d04a1",
      "metadata": {
        "id": "d286cf4c-707b-4cd2-9190-7ab3587d04a1"
      },
      "outputs": [],
      "source": [
        "# текст запроса\n",
        "query_3_4 = f'''select count(distinct id)\n",
        "            from public.industries\n",
        "            '''"
      ]
    },
    {
      "cell_type": "code",
      "execution_count": 56,
      "id": "JYAaoZ4qhfzW",
      "metadata": {
        "id": "JYAaoZ4qhfzW"
      },
      "outputs": [
        {
          "data": {
            "text/html": [
              "<div>\n",
              "<style scoped>\n",
              "    .dataframe tbody tr th:only-of-type {\n",
              "        vertical-align: middle;\n",
              "    }\n",
              "\n",
              "    .dataframe tbody tr th {\n",
              "        vertical-align: top;\n",
              "    }\n",
              "\n",
              "    .dataframe thead th {\n",
              "        text-align: right;\n",
              "    }\n",
              "</style>\n",
              "<table border=\"1\" class=\"dataframe\">\n",
              "  <thead>\n",
              "    <tr style=\"text-align: right;\">\n",
              "      <th></th>\n",
              "      <th>count</th>\n",
              "    </tr>\n",
              "  </thead>\n",
              "  <tbody>\n",
              "    <tr>\n",
              "      <th>0</th>\n",
              "      <td>294</td>\n",
              "    </tr>\n",
              "  </tbody>\n",
              "</table>\n",
              "</div>"
            ],
            "text/plain": [
              "   count\n",
              "0    294"
            ]
          },
          "metadata": {},
          "output_type": "display_data"
        }
      ],
      "source": [
        "# результат запроса\n",
        "industries_count = pd.read_sql_query(query_3_4, connection)\n",
        "display(industries_count)"
      ]
    },
    {
      "cell_type": "markdown",
      "id": "9a8a2181-6914-448b-85f1-38f5f18b8a93",
      "metadata": {
        "id": "9a8a2181-6914-448b-85f1-38f5f18b8a93"
      },
      "source": [
        "***"
      ]
    },
    {
      "cell_type": "code",
      "execution_count": 57,
      "id": "be4e9bd3-a4db-4a20-82fb-6b02fc2957e0",
      "metadata": {
        "id": "be4e9bd3-a4db-4a20-82fb-6b02fc2957e0"
      },
      "outputs": [],
      "source": [
        "# выводы по предварительному анализу данных"
      ]
    },
    {
      "cell_type": "markdown",
      "id": "2de967fe",
      "metadata": {},
      "source": [
        "##### Из рассмотренных метрик сложно сделать вывод, данные носят ознакомительный характер. Можно оценить масштаб базы данных, представвлены много сфер деятельности по многим городам. Также в среднем получается, что каждый работодатель имеет около 2х вакансий(но эта информация мало полезна, т.к. тут важнее медианное значение)."
      ]
    },
    {
      "cell_type": "markdown",
      "id": "8d62a9f3-f64e-4fe7-bdac-c4dffa16155e",
      "metadata": {
        "id": "8d62a9f3-f64e-4fe7-bdac-c4dffa16155e"
      },
      "source": [
        "# Юнит 4. Детальный анализ вакансий"
      ]
    },
    {
      "cell_type": "markdown",
      "id": "93053d3d-b284-481a-9cf7-012d7014c0e0",
      "metadata": {
        "id": "93053d3d-b284-481a-9cf7-012d7014c0e0"
      },
      "source": [
        "1. Напишите запрос, который позволит узнать, сколько (cnt) вакансий в каждом регионе (area).\n",
        "Отсортируйте по количеству вакансий в порядке убывания."
      ]
    },
    {
      "cell_type": "code",
      "execution_count": 58,
      "id": "3f069da6-fdc9-4ae7-b514-fafe2675efd3",
      "metadata": {
        "id": "3f069da6-fdc9-4ae7-b514-fafe2675efd3"
      },
      "outputs": [],
      "source": [
        "# текст запроса\n",
        "query_4_1 = f'''select count(v.id) cnt,\n",
        "                    a.name area\n",
        "            from public.vacancies v         -- соединяем таблицы вакансий и регионов\n",
        "                join public.areas a on v.area_id = a.id\n",
        "            group by a.id                   -- группируем по региону\n",
        "            order by cnt desc               -- сортируем по убыванию\n",
        "            \n",
        "            '''"
      ]
    },
    {
      "cell_type": "code",
      "execution_count": 59,
      "id": "P7QL86hrjhRJ",
      "metadata": {
        "id": "P7QL86hrjhRJ"
      },
      "outputs": [
        {
          "data": {
            "text/html": [
              "<div>\n",
              "<style scoped>\n",
              "    .dataframe tbody tr th:only-of-type {\n",
              "        vertical-align: middle;\n",
              "    }\n",
              "\n",
              "    .dataframe tbody tr th {\n",
              "        vertical-align: top;\n",
              "    }\n",
              "\n",
              "    .dataframe thead th {\n",
              "        text-align: right;\n",
              "    }\n",
              "</style>\n",
              "<table border=\"1\" class=\"dataframe\">\n",
              "  <thead>\n",
              "    <tr style=\"text-align: right;\">\n",
              "      <th></th>\n",
              "      <th>cnt</th>\n",
              "      <th>area</th>\n",
              "    </tr>\n",
              "  </thead>\n",
              "  <tbody>\n",
              "    <tr>\n",
              "      <th>0</th>\n",
              "      <td>5333</td>\n",
              "      <td>Москва</td>\n",
              "    </tr>\n",
              "    <tr>\n",
              "      <th>1</th>\n",
              "      <td>2851</td>\n",
              "      <td>Санкт-Петербург</td>\n",
              "    </tr>\n",
              "    <tr>\n",
              "      <th>2</th>\n",
              "      <td>2112</td>\n",
              "      <td>Минск</td>\n",
              "    </tr>\n",
              "    <tr>\n",
              "      <th>3</th>\n",
              "      <td>2006</td>\n",
              "      <td>Новосибирск</td>\n",
              "    </tr>\n",
              "    <tr>\n",
              "      <th>4</th>\n",
              "      <td>1892</td>\n",
              "      <td>Алматы</td>\n",
              "    </tr>\n",
              "    <tr>\n",
              "      <th>...</th>\n",
              "      <td>...</td>\n",
              "      <td>...</td>\n",
              "    </tr>\n",
              "    <tr>\n",
              "      <th>764</th>\n",
              "      <td>1</td>\n",
              "      <td>Кизляр</td>\n",
              "    </tr>\n",
              "    <tr>\n",
              "      <th>765</th>\n",
              "      <td>1</td>\n",
              "      <td>Джизак</td>\n",
              "    </tr>\n",
              "    <tr>\n",
              "      <th>766</th>\n",
              "      <td>1</td>\n",
              "      <td>Эртиль</td>\n",
              "    </tr>\n",
              "    <tr>\n",
              "      <th>767</th>\n",
              "      <td>1</td>\n",
              "      <td>Арсеньев</td>\n",
              "    </tr>\n",
              "    <tr>\n",
              "      <th>768</th>\n",
              "      <td>1</td>\n",
              "      <td>Тура (Красноярский край)</td>\n",
              "    </tr>\n",
              "  </tbody>\n",
              "</table>\n",
              "<p>769 rows × 2 columns</p>\n",
              "</div>"
            ],
            "text/plain": [
              "      cnt                      area\n",
              "0    5333                    Москва\n",
              "1    2851           Санкт-Петербург\n",
              "2    2112                     Минск\n",
              "3    2006               Новосибирск\n",
              "4    1892                    Алматы\n",
              "..    ...                       ...\n",
              "764     1                    Кизляр\n",
              "765     1                    Джизак\n",
              "766     1                    Эртиль\n",
              "767     1                  Арсеньев\n",
              "768     1  Тура (Красноярский край)\n",
              "\n",
              "[769 rows x 2 columns]"
            ]
          },
          "metadata": {},
          "output_type": "display_data"
        }
      ],
      "source": [
        "# результат запроса\n",
        "cnt_vacansiesINarea = pd.read_sql_query(query_4_1, connection)\n",
        "display(cnt_vacansiesINarea)"
      ]
    },
    {
      "cell_type": "markdown",
      "id": "4266f0b6-1646-492a-88b4-2f6a46502135",
      "metadata": {
        "id": "4266f0b6-1646-492a-88b4-2f6a46502135"
      },
      "source": [
        "2. Напишите запрос, чтобы определить у какого количества вакансий заполнено хотя бы одно из двух полей с зарплатой."
      ]
    },
    {
      "cell_type": "code",
      "execution_count": 60,
      "id": "0c44b350-72eb-4d65-8b54-a1fc449ba9fd",
      "metadata": {
        "id": "0c44b350-72eb-4d65-8b54-a1fc449ba9fd"
      },
      "outputs": [],
      "source": [
        "# текст запроса\n",
        "query_4_2 = f'''select count(v.id) cnt\n",
        "            from public.vacancies v\n",
        "            where v.salary_from is not null or v.salary_to is not null\n",
        "            '''"
      ]
    },
    {
      "cell_type": "code",
      "execution_count": 61,
      "id": "rhvwaMDkoWTi",
      "metadata": {
        "id": "rhvwaMDkoWTi"
      },
      "outputs": [
        {
          "data": {
            "text/html": [
              "<div>\n",
              "<style scoped>\n",
              "    .dataframe tbody tr th:only-of-type {\n",
              "        vertical-align: middle;\n",
              "    }\n",
              "\n",
              "    .dataframe tbody tr th {\n",
              "        vertical-align: top;\n",
              "    }\n",
              "\n",
              "    .dataframe thead th {\n",
              "        text-align: right;\n",
              "    }\n",
              "</style>\n",
              "<table border=\"1\" class=\"dataframe\">\n",
              "  <thead>\n",
              "    <tr style=\"text-align: right;\">\n",
              "      <th></th>\n",
              "      <th>cnt</th>\n",
              "    </tr>\n",
              "  </thead>\n",
              "  <tbody>\n",
              "    <tr>\n",
              "      <th>0</th>\n",
              "      <td>24073</td>\n",
              "    </tr>\n",
              "  </tbody>\n",
              "</table>\n",
              "</div>"
            ],
            "text/plain": [
              "     cnt\n",
              "0  24073"
            ]
          },
          "metadata": {},
          "output_type": "display_data"
        }
      ],
      "source": [
        "# результат запроса\n",
        "cnt_vacansies_withSALARY = pd.read_sql_query(query_4_2, connection)\n",
        "display(cnt_vacansies_withSALARY)"
      ]
    },
    {
      "cell_type": "markdown",
      "id": "635c4d5d-f323-4c66-b428-50a088120aa0",
      "metadata": {
        "id": "635c4d5d-f323-4c66-b428-50a088120aa0"
      },
      "source": [
        "3. Найдите средние значения для нижней и верхней границы зарплатной вилки. Округлите значения до целого."
      ]
    },
    {
      "cell_type": "code",
      "execution_count": 62,
      "id": "603cdbe4-0ec3-4106-8eaf-c73fcdd29165",
      "metadata": {
        "id": "603cdbe4-0ec3-4106-8eaf-c73fcdd29165"
      },
      "outputs": [],
      "source": [
        "# текст запроса\n",
        "query_4_3 = f'''select avg(v.salary_from) bottom,\n",
        "                avg(v.salary_to) top\n",
        "            from public.vacancies v\n",
        "            '''"
      ]
    },
    {
      "cell_type": "code",
      "execution_count": 63,
      "id": "pswpAb66ovZZ",
      "metadata": {
        "id": "pswpAb66ovZZ"
      },
      "outputs": [
        {
          "data": {
            "text/html": [
              "<div>\n",
              "<style scoped>\n",
              "    .dataframe tbody tr th:only-of-type {\n",
              "        vertical-align: middle;\n",
              "    }\n",
              "\n",
              "    .dataframe tbody tr th {\n",
              "        vertical-align: top;\n",
              "    }\n",
              "\n",
              "    .dataframe thead th {\n",
              "        text-align: right;\n",
              "    }\n",
              "</style>\n",
              "<table border=\"1\" class=\"dataframe\">\n",
              "  <thead>\n",
              "    <tr style=\"text-align: right;\">\n",
              "      <th></th>\n",
              "      <th>bottom</th>\n",
              "      <th>top</th>\n",
              "    </tr>\n",
              "  </thead>\n",
              "  <tbody>\n",
              "    <tr>\n",
              "      <th>0</th>\n",
              "      <td>71065.0</td>\n",
              "      <td>110537.0</td>\n",
              "    </tr>\n",
              "  </tbody>\n",
              "</table>\n",
              "</div>"
            ],
            "text/plain": [
              "    bottom       top\n",
              "0  71065.0  110537.0"
            ]
          },
          "metadata": {},
          "output_type": "display_data"
        }
      ],
      "source": [
        "# результат запроса\n",
        "salary = pd.read_sql_query(query_4_3, connection)\n",
        "display(round(salary, 0))"
      ]
    },
    {
      "cell_type": "markdown",
      "id": "f3fdaec9-5fd3-4260-9cf5-1d7406b628a5",
      "metadata": {
        "id": "f3fdaec9-5fd3-4260-9cf5-1d7406b628a5"
      },
      "source": [
        "4. Напишите запрос, который выведет количество вакансий для каждого сочетания типа рабочего графика (schedule) и типа трудоустройства (employment), используемого в вакансиях. Результат отсортируйте по убыванию количества.\n"
      ]
    },
    {
      "cell_type": "code",
      "execution_count": 64,
      "id": "1ea710ec-871b-431e-9462-c7d0fd87011b",
      "metadata": {
        "id": "1ea710ec-871b-431e-9462-c7d0fd87011b"
      },
      "outputs": [],
      "source": [
        "# текст запроса\n",
        "query_4_4 = f'''select schedule,\n",
        "                employment,\n",
        "                count(id)                   -- считаем количество вакансий\n",
        "            from public.vacancies v\n",
        "            group by schedule, employment   -- группируем по графику, типу трудоустройства\n",
        "            order by 3 desc\n",
        "            '''"
      ]
    },
    {
      "cell_type": "code",
      "execution_count": 65,
      "id": "lGUVqavdo4JQ",
      "metadata": {
        "id": "lGUVqavdo4JQ"
      },
      "outputs": [
        {
          "data": {
            "text/html": [
              "<div>\n",
              "<style scoped>\n",
              "    .dataframe tbody tr th:only-of-type {\n",
              "        vertical-align: middle;\n",
              "    }\n",
              "\n",
              "    .dataframe tbody tr th {\n",
              "        vertical-align: top;\n",
              "    }\n",
              "\n",
              "    .dataframe thead th {\n",
              "        text-align: right;\n",
              "    }\n",
              "</style>\n",
              "<table border=\"1\" class=\"dataframe\">\n",
              "  <thead>\n",
              "    <tr style=\"text-align: right;\">\n",
              "      <th></th>\n",
              "      <th>schedule</th>\n",
              "      <th>employment</th>\n",
              "      <th>count</th>\n",
              "    </tr>\n",
              "  </thead>\n",
              "  <tbody>\n",
              "    <tr>\n",
              "      <th>0</th>\n",
              "      <td>Полный день</td>\n",
              "      <td>Полная занятость</td>\n",
              "      <td>35367</td>\n",
              "    </tr>\n",
              "    <tr>\n",
              "      <th>1</th>\n",
              "      <td>Удаленная работа</td>\n",
              "      <td>Полная занятость</td>\n",
              "      <td>7802</td>\n",
              "    </tr>\n",
              "    <tr>\n",
              "      <th>2</th>\n",
              "      <td>Гибкий график</td>\n",
              "      <td>Полная занятость</td>\n",
              "      <td>1593</td>\n",
              "    </tr>\n",
              "    <tr>\n",
              "      <th>3</th>\n",
              "      <td>Удаленная работа</td>\n",
              "      <td>Частичная занятость</td>\n",
              "      <td>1312</td>\n",
              "    </tr>\n",
              "    <tr>\n",
              "      <th>4</th>\n",
              "      <td>Сменный график</td>\n",
              "      <td>Полная занятость</td>\n",
              "      <td>940</td>\n",
              "    </tr>\n",
              "    <tr>\n",
              "      <th>5</th>\n",
              "      <td>Полный день</td>\n",
              "      <td>Стажировка</td>\n",
              "      <td>569</td>\n",
              "    </tr>\n",
              "    <tr>\n",
              "      <th>6</th>\n",
              "      <td>Вахтовый метод</td>\n",
              "      <td>Полная занятость</td>\n",
              "      <td>367</td>\n",
              "    </tr>\n",
              "    <tr>\n",
              "      <th>7</th>\n",
              "      <td>Полный день</td>\n",
              "      <td>Частичная занятость</td>\n",
              "      <td>347</td>\n",
              "    </tr>\n",
              "    <tr>\n",
              "      <th>8</th>\n",
              "      <td>Гибкий график</td>\n",
              "      <td>Частичная занятость</td>\n",
              "      <td>312</td>\n",
              "    </tr>\n",
              "    <tr>\n",
              "      <th>9</th>\n",
              "      <td>Полный день</td>\n",
              "      <td>Проектная работа</td>\n",
              "      <td>141</td>\n",
              "    </tr>\n",
              "    <tr>\n",
              "      <th>10</th>\n",
              "      <td>Удаленная работа</td>\n",
              "      <td>Проектная работа</td>\n",
              "      <td>133</td>\n",
              "    </tr>\n",
              "    <tr>\n",
              "      <th>11</th>\n",
              "      <td>Гибкий график</td>\n",
              "      <td>Стажировка</td>\n",
              "      <td>116</td>\n",
              "    </tr>\n",
              "    <tr>\n",
              "      <th>12</th>\n",
              "      <td>Сменный график</td>\n",
              "      <td>Частичная занятость</td>\n",
              "      <td>101</td>\n",
              "    </tr>\n",
              "    <tr>\n",
              "      <th>13</th>\n",
              "      <td>Удаленная работа</td>\n",
              "      <td>Стажировка</td>\n",
              "      <td>64</td>\n",
              "    </tr>\n",
              "    <tr>\n",
              "      <th>14</th>\n",
              "      <td>Гибкий график</td>\n",
              "      <td>Проектная работа</td>\n",
              "      <td>18</td>\n",
              "    </tr>\n",
              "    <tr>\n",
              "      <th>15</th>\n",
              "      <td>Сменный график</td>\n",
              "      <td>Стажировка</td>\n",
              "      <td>12</td>\n",
              "    </tr>\n",
              "    <tr>\n",
              "      <th>16</th>\n",
              "      <td>Вахтовый метод</td>\n",
              "      <td>Проектная работа</td>\n",
              "      <td>2</td>\n",
              "    </tr>\n",
              "    <tr>\n",
              "      <th>17</th>\n",
              "      <td>Сменный график</td>\n",
              "      <td>Проектная работа</td>\n",
              "      <td>1</td>\n",
              "    </tr>\n",
              "  </tbody>\n",
              "</table>\n",
              "</div>"
            ],
            "text/plain": [
              "            schedule           employment  count\n",
              "0        Полный день     Полная занятость  35367\n",
              "1   Удаленная работа     Полная занятость   7802\n",
              "2      Гибкий график     Полная занятость   1593\n",
              "3   Удаленная работа  Частичная занятость   1312\n",
              "4     Сменный график     Полная занятость    940\n",
              "5        Полный день           Стажировка    569\n",
              "6     Вахтовый метод     Полная занятость    367\n",
              "7        Полный день  Частичная занятость    347\n",
              "8      Гибкий график  Частичная занятость    312\n",
              "9        Полный день     Проектная работа    141\n",
              "10  Удаленная работа     Проектная работа    133\n",
              "11     Гибкий график           Стажировка    116\n",
              "12    Сменный график  Частичная занятость    101\n",
              "13  Удаленная работа           Стажировка     64\n",
              "14     Гибкий график     Проектная работа     18\n",
              "15    Сменный график           Стажировка     12\n",
              "16    Вахтовый метод     Проектная работа      2\n",
              "17    Сменный график     Проектная работа      1"
            ]
          },
          "metadata": {},
          "output_type": "display_data"
        }
      ],
      "source": [
        "# результат запроса\n",
        "Cnt_4_4 = pd.read_sql_query(query_4_4, connection)\n",
        "display(Cnt_4_4)"
      ]
    },
    {
      "cell_type": "markdown",
      "id": "0136ffee-0ead-4a6b-b608-61d1c753a438",
      "metadata": {
        "id": "0136ffee-0ead-4a6b-b608-61d1c753a438"
      },
      "source": [
        "5. Напишите запрос, выводящий значения поля Требуемый опыт работы (experience) в порядке возрастания количества вакансий, в которых указан данный вариант опыта. "
      ]
    },
    {
      "cell_type": "code",
      "execution_count": 66,
      "id": "5b3a8e79-f7ab-4008-b767-12aea3a205ea",
      "metadata": {
        "id": "5b3a8e79-f7ab-4008-b767-12aea3a205ea"
      },
      "outputs": [],
      "source": [
        "# текст запроса\n",
        "query_4_5 = f'''select experience,\n",
        "                count(id)\n",
        "            from public.vacancies \n",
        "            group by experience\n",
        "            order by 2\n",
        "            '''"
      ]
    },
    {
      "cell_type": "code",
      "execution_count": 67,
      "id": "3Is64Y-hpDpq",
      "metadata": {
        "id": "3Is64Y-hpDpq"
      },
      "outputs": [
        {
          "data": {
            "text/html": [
              "<div>\n",
              "<style scoped>\n",
              "    .dataframe tbody tr th:only-of-type {\n",
              "        vertical-align: middle;\n",
              "    }\n",
              "\n",
              "    .dataframe tbody tr th {\n",
              "        vertical-align: top;\n",
              "    }\n",
              "\n",
              "    .dataframe thead th {\n",
              "        text-align: right;\n",
              "    }\n",
              "</style>\n",
              "<table border=\"1\" class=\"dataframe\">\n",
              "  <thead>\n",
              "    <tr style=\"text-align: right;\">\n",
              "      <th></th>\n",
              "      <th>experience</th>\n",
              "      <th>count</th>\n",
              "    </tr>\n",
              "  </thead>\n",
              "  <tbody>\n",
              "    <tr>\n",
              "      <th>0</th>\n",
              "      <td>Более 6 лет</td>\n",
              "      <td>1337</td>\n",
              "    </tr>\n",
              "    <tr>\n",
              "      <th>1</th>\n",
              "      <td>Нет опыта</td>\n",
              "      <td>7197</td>\n",
              "    </tr>\n",
              "    <tr>\n",
              "      <th>2</th>\n",
              "      <td>От 3 до 6 лет</td>\n",
              "      <td>14511</td>\n",
              "    </tr>\n",
              "    <tr>\n",
              "      <th>3</th>\n",
              "      <td>От 1 года до 3 лет</td>\n",
              "      <td>26152</td>\n",
              "    </tr>\n",
              "  </tbody>\n",
              "</table>\n",
              "</div>"
            ],
            "text/plain": [
              "           experience  count\n",
              "0         Более 6 лет   1337\n",
              "1           Нет опыта   7197\n",
              "2       От 3 до 6 лет  14511\n",
              "3  От 1 года до 3 лет  26152"
            ]
          },
          "metadata": {},
          "output_type": "display_data"
        }
      ],
      "source": [
        "# результат запроса\n",
        "experience = pd.read_sql_query(query_4_5, connection)\n",
        "display(experience)"
      ]
    },
    {
      "cell_type": "markdown",
      "id": "oq2b7n1QpIka",
      "metadata": {
        "id": "oq2b7n1QpIka"
      },
      "source": [
        "***"
      ]
    },
    {
      "cell_type": "code",
      "execution_count": 68,
      "id": "e91f87ed-e25c-4f96-9f92-b642e8c0b4fa",
      "metadata": {
        "id": "e91f87ed-e25c-4f96-9f92-b642e8c0b4fa"
      },
      "outputs": [],
      "source": [
        "# выводы по детальному анализу вакансий"
      ]
    },
    {
      "cell_type": "markdown",
      "metadata": {},
      "source": [
        "#### Наибольшее количество вакансий в крупных городах, все закономерно. Только у половины из размещенных вакансий указан хотя бы одна граница по зарплате. В среденм уровень зарплат находится в диапазоне 71000 - 110000 руб.  Наиболее распространенный график работы для вакансий с большим отрывом - удаленная работа(полная занятость), тут тоже ничего удивительного, это самый распростаненный вариант, на втором месте удаленная работа, но таких вакансий в 5 раз меньше. В основном в вакансиях ищут работников с опытом работы от 1 года до 3 лет."
      ]
    },
    {
      "cell_type": "markdown",
      "id": "7ea20ab6-04a7-40a0-adec-443a0e5a42c3",
      "metadata": {
        "id": "7ea20ab6-04a7-40a0-adec-443a0e5a42c3"
      },
      "source": [
        "# Юнит 5. Анализ работодателей"
      ]
    },
    {
      "cell_type": "markdown",
      "id": "968aed80-74ef-4ffb-b5bf-c65b84e9caea",
      "metadata": {
        "id": "968aed80-74ef-4ffb-b5bf-c65b84e9caea"
      },
      "source": [
        "1. Напишите запрос, который позволит узнать, какие работодатели находятся на первом и пятом месте по количеству вакансий."
      ]
    },
    {
      "cell_type": "code",
      "execution_count": 69,
      "id": "f2d62796-d400-4ec1-a675-88112739a50e",
      "metadata": {
        "id": "f2d62796-d400-4ec1-a675-88112739a50e"
      },
      "outputs": [],
      "source": [
        "# текст запроса\n",
        "query_5_1 = f''' select e.name, count(v.id)\n",
        "                from public.vacancies v                          -- соединяем таблицы вакансии и работодатели по ключу\n",
        "                join public.employers e on v.employer_id = e.id\n",
        "                group by e.id\n",
        "                order by count(v.id) desc\n",
        "        '''"
      ]
    },
    {
      "cell_type": "code",
      "execution_count": 70,
      "id": "64tOMkAxqkQk",
      "metadata": {
        "id": "64tOMkAxqkQk"
      },
      "outputs": [
        {
          "data": {
            "text/html": [
              "<div>\n",
              "<style scoped>\n",
              "    .dataframe tbody tr th:only-of-type {\n",
              "        vertical-align: middle;\n",
              "    }\n",
              "\n",
              "    .dataframe tbody tr th {\n",
              "        vertical-align: top;\n",
              "    }\n",
              "\n",
              "    .dataframe thead th {\n",
              "        text-align: right;\n",
              "    }\n",
              "</style>\n",
              "<table border=\"1\" class=\"dataframe\">\n",
              "  <thead>\n",
              "    <tr style=\"text-align: right;\">\n",
              "      <th></th>\n",
              "      <th>name</th>\n",
              "      <th>count</th>\n",
              "    </tr>\n",
              "  </thead>\n",
              "  <tbody>\n",
              "    <tr>\n",
              "      <th>0</th>\n",
              "      <td>Яндекс</td>\n",
              "      <td>1933</td>\n",
              "    </tr>\n",
              "    <tr>\n",
              "      <th>4</th>\n",
              "      <td>Газпром нефть</td>\n",
              "      <td>331</td>\n",
              "    </tr>\n",
              "  </tbody>\n",
              "</table>\n",
              "</div>"
            ],
            "text/plain": [
              "            name  count\n",
              "0         Яндекс   1933\n",
              "4  Газпром нефть    331"
            ]
          },
          "metadata": {},
          "output_type": "display_data"
        }
      ],
      "source": [
        "# результат запроса\n",
        "top_employers = pd.read_sql_query(query_5_1, connection)\n",
        "display(top_employers.iloc[[0,4]])                      # Выводим 1е и 5е места "
      ]
    },
    {
      "cell_type": "markdown",
      "id": "68377cfc-b378-43dc-ab7d-1195abf2c515",
      "metadata": {
        "id": "68377cfc-b378-43dc-ab7d-1195abf2c515"
      },
      "source": [
        "2. Напишите запрос, который для каждого региона выведет количество работодателей и вакансий в нём.\n",
        "Среди регионов, в которых нет вакансий, найдите тот, в котором наибольшее количество работодателей.\n"
      ]
    },
    {
      "cell_type": "code",
      "execution_count": 71,
      "id": "dd7df27a-e3e8-412e-a21a-5d389b71e891",
      "metadata": {
        "id": "dd7df27a-e3e8-412e-a21a-5d389b71e891"
      },
      "outputs": [],
      "source": [
        "# текст запроса\n",
        "query_5_2 = f''' select a.name,\n",
        "                        count(e.id) cnt_employers, \n",
        "                        count(v.id) cnt_vacancies\n",
        "                from public.areas a                               --к таблице с регионами присоединяем таблицы с вакансиями\n",
        "                left join public.vacancies v on a.id = v.area_id  -- и работодателями, причем оставляем все регионы\n",
        "                left join public.employers e on e.area = a.id\n",
        "                group by a.id\n",
        "                having count(v.id) = 0                             -- по условию, что вакансий нет\n",
        "                order by cnt_employers desc  \n",
        "                limit 1           \n",
        "'''"
      ]
    },
    {
      "cell_type": "code",
      "execution_count": 72,
      "id": "x1ikWbydrbf6",
      "metadata": {
        "id": "x1ikWbydrbf6"
      },
      "outputs": [
        {
          "data": {
            "text/html": [
              "<div>\n",
              "<style scoped>\n",
              "    .dataframe tbody tr th:only-of-type {\n",
              "        vertical-align: middle;\n",
              "    }\n",
              "\n",
              "    .dataframe tbody tr th {\n",
              "        vertical-align: top;\n",
              "    }\n",
              "\n",
              "    .dataframe thead th {\n",
              "        text-align: right;\n",
              "    }\n",
              "</style>\n",
              "<table border=\"1\" class=\"dataframe\">\n",
              "  <thead>\n",
              "    <tr style=\"text-align: right;\">\n",
              "      <th></th>\n",
              "      <th>name</th>\n",
              "      <th>cnt_employers</th>\n",
              "      <th>cnt_vacancies</th>\n",
              "    </tr>\n",
              "  </thead>\n",
              "  <tbody>\n",
              "    <tr>\n",
              "      <th>0</th>\n",
              "      <td>Россия</td>\n",
              "      <td>410</td>\n",
              "      <td>0</td>\n",
              "    </tr>\n",
              "  </tbody>\n",
              "</table>\n",
              "</div>"
            ],
            "text/plain": [
              "     name  cnt_employers  cnt_vacancies\n",
              "0  Россия            410              0"
            ]
          },
          "metadata": {},
          "output_type": "display_data"
        }
      ],
      "source": [
        "# результат запроса\n",
        "area_cnt_empANDvac = pd.read_sql_query(query_5_2,connection)\n",
        "display(area_cnt_empANDvac)"
      ]
    },
    {
      "cell_type": "markdown",
      "id": "f2fe0acb-ab1a-4e15-9326-2560e22d73c1",
      "metadata": {
        "id": "f2fe0acb-ab1a-4e15-9326-2560e22d73c1"
      },
      "source": [
        "3. Для каждого работодателя посчитайте количество регионов, в которых он публикует свои вакансии. Отсортируйте результат по убыванию количества.\n"
      ]
    },
    {
      "cell_type": "code",
      "execution_count": 73,
      "id": "6271f8ad-bd2e-4196-ae4a-5b39c4c1010e",
      "metadata": {
        "id": "6271f8ad-bd2e-4196-ae4a-5b39c4c1010e"
      },
      "outputs": [],
      "source": [
        "# текст запроса\n",
        "query_5_3 = f'''select e.name,\n",
        "                        count(distinct v.area_id)\n",
        "                from public.employers e\n",
        "                join public.vacancies v on e.id = v.employer_id\n",
        "                group by e.id\n",
        "                order by 2 desc  \n",
        "                  '''"
      ]
    },
    {
      "cell_type": "code",
      "execution_count": 74,
      "id": "1EIvX3HasH4F",
      "metadata": {
        "id": "1EIvX3HasH4F"
      },
      "outputs": [
        {
          "data": {
            "text/html": [
              "<div>\n",
              "<style scoped>\n",
              "    .dataframe tbody tr th:only-of-type {\n",
              "        vertical-align: middle;\n",
              "    }\n",
              "\n",
              "    .dataframe tbody tr th {\n",
              "        vertical-align: top;\n",
              "    }\n",
              "\n",
              "    .dataframe thead th {\n",
              "        text-align: right;\n",
              "    }\n",
              "</style>\n",
              "<table border=\"1\" class=\"dataframe\">\n",
              "  <thead>\n",
              "    <tr style=\"text-align: right;\">\n",
              "      <th></th>\n",
              "      <th>name</th>\n",
              "      <th>count</th>\n",
              "    </tr>\n",
              "  </thead>\n",
              "  <tbody>\n",
              "    <tr>\n",
              "      <th>0</th>\n",
              "      <td>Яндекс</td>\n",
              "      <td>181</td>\n",
              "    </tr>\n",
              "    <tr>\n",
              "      <th>1</th>\n",
              "      <td>Ростелеком</td>\n",
              "      <td>152</td>\n",
              "    </tr>\n",
              "    <tr>\n",
              "      <th>2</th>\n",
              "      <td>Спецремонт</td>\n",
              "      <td>116</td>\n",
              "    </tr>\n",
              "    <tr>\n",
              "      <th>3</th>\n",
              "      <td>Поляков Денис Иванович</td>\n",
              "      <td>88</td>\n",
              "    </tr>\n",
              "    <tr>\n",
              "      <th>4</th>\n",
              "      <td>ООО ЕФИН</td>\n",
              "      <td>71</td>\n",
              "    </tr>\n",
              "    <tr>\n",
              "      <th>...</th>\n",
              "      <td>...</td>\n",
              "      <td>...</td>\n",
              "    </tr>\n",
              "    <tr>\n",
              "      <th>14901</th>\n",
              "      <td>НПП Авиатрон</td>\n",
              "      <td>1</td>\n",
              "    </tr>\n",
              "    <tr>\n",
              "      <th>14902</th>\n",
              "      <td>Центр дистанционных торгов</td>\n",
              "      <td>1</td>\n",
              "    </tr>\n",
              "    <tr>\n",
              "      <th>14903</th>\n",
              "      <td>Городские Телекоммуникационные Системы</td>\n",
              "      <td>1</td>\n",
              "    </tr>\n",
              "    <tr>\n",
              "      <th>14904</th>\n",
              "      <td>Введенский, Отель</td>\n",
              "      <td>1</td>\n",
              "    </tr>\n",
              "    <tr>\n",
              "      <th>14905</th>\n",
              "      <td>Группа Компаний Автоимпорт</td>\n",
              "      <td>1</td>\n",
              "    </tr>\n",
              "  </tbody>\n",
              "</table>\n",
              "<p>14906 rows × 2 columns</p>\n",
              "</div>"
            ],
            "text/plain": [
              "                                         name  count\n",
              "0                                      Яндекс    181\n",
              "1                                  Ростелеком    152\n",
              "2                                  Спецремонт    116\n",
              "3                      Поляков Денис Иванович     88\n",
              "4                                   ООО ЕФИН      71\n",
              "...                                       ...    ...\n",
              "14901                            НПП Авиатрон      1\n",
              "14902              Центр дистанционных торгов      1\n",
              "14903  Городские Телекоммуникационные Системы      1\n",
              "14904                       Введенский, Отель      1\n",
              "14905              Группа Компаний Автоимпорт      1\n",
              "\n",
              "[14906 rows x 2 columns]"
            ]
          },
          "metadata": {},
          "output_type": "display_data"
        }
      ],
      "source": [
        "# результат запроса\n",
        "empoyers_area = pd.read_sql_query(query_5_3,connection)\n",
        "display(empoyers_area)"
      ]
    },
    {
      "cell_type": "markdown",
      "id": "eab2206d-d95b-468b-8e5f-34381abf0ce7",
      "metadata": {
        "id": "eab2206d-d95b-468b-8e5f-34381abf0ce7"
      },
      "source": [
        "4. Напишите запрос для подсчёта количества работодателей, у которых не указана сфера деятельности. "
      ]
    },
    {
      "cell_type": "code",
      "execution_count": 75,
      "id": "80defb23-bfb1-4a18-8be6-bf36aa7165d5",
      "metadata": {
        "id": "80defb23-bfb1-4a18-8be6-bf36aa7165d5"
      },
      "outputs": [],
      "source": [
        "# текст запроса\n",
        "query_5_4 = f''' select count(e.id)\n",
        "                from public.employers e\n",
        "                left join public.employers_industries ei on e.id = ei.employer_id\n",
        "                where ei.industry_id is null\n",
        "                  '''\n"
      ]
    },
    {
      "cell_type": "code",
      "execution_count": 76,
      "id": "Dp_yCx6ysQSu",
      "metadata": {
        "id": "Dp_yCx6ysQSu"
      },
      "outputs": [
        {
          "data": {
            "text/html": [
              "<div>\n",
              "<style scoped>\n",
              "    .dataframe tbody tr th:only-of-type {\n",
              "        vertical-align: middle;\n",
              "    }\n",
              "\n",
              "    .dataframe tbody tr th {\n",
              "        vertical-align: top;\n",
              "    }\n",
              "\n",
              "    .dataframe thead th {\n",
              "        text-align: right;\n",
              "    }\n",
              "</style>\n",
              "<table border=\"1\" class=\"dataframe\">\n",
              "  <thead>\n",
              "    <tr style=\"text-align: right;\">\n",
              "      <th></th>\n",
              "      <th>count</th>\n",
              "    </tr>\n",
              "  </thead>\n",
              "  <tbody>\n",
              "    <tr>\n",
              "      <th>0</th>\n",
              "      <td>8419</td>\n",
              "    </tr>\n",
              "  </tbody>\n",
              "</table>\n",
              "</div>"
            ],
            "text/plain": [
              "   count\n",
              "0   8419"
            ]
          },
          "metadata": {},
          "output_type": "display_data"
        }
      ],
      "source": [
        "# результат запроса\n",
        "empolyers_ = pd.read_sql_query(query_5_4,connection)\n",
        "display(empolyers_)\n"
      ]
    },
    {
      "cell_type": "markdown",
      "id": "0112af31-f6b0-4e3b-82ab-71296e752e5e",
      "metadata": {
        "id": "0112af31-f6b0-4e3b-82ab-71296e752e5e"
      },
      "source": [
        "5. Напишите запрос, чтобы узнать название компании, находящейся на третьем месте в алфавитном списке (по названию) компаний, у которых указано четыре сферы деятельности. "
      ]
    },
    {
      "cell_type": "code",
      "execution_count": 77,
      "id": "973b0cfc-a972-470a-8b4a-68744ef220c4",
      "metadata": {
        "id": "973b0cfc-a972-470a-8b4a-68744ef220c4"
      },
      "outputs": [],
      "source": [
        "# текст запроса\n",
        "query_5_5 = f''' select e.name\n",
        "                from public.employers e                                -- соединяя таблицы, оставляем всех работодателей\n",
        "                left join public.employers_industries ei on e.id = ei.employer_id\n",
        "                group by e.id\n",
        "                having count(ei.industry_id) = 4\n",
        "                order by 1\n",
        "                offset 2\n",
        "                limit 1\n",
        "                \n",
        "                  '''\n"
      ]
    },
    {
      "cell_type": "code",
      "execution_count": 78,
      "id": "xsPtpp8EsaED",
      "metadata": {
        "id": "xsPtpp8EsaED"
      },
      "outputs": [
        {
          "data": {
            "text/html": [
              "<div>\n",
              "<style scoped>\n",
              "    .dataframe tbody tr th:only-of-type {\n",
              "        vertical-align: middle;\n",
              "    }\n",
              "\n",
              "    .dataframe tbody tr th {\n",
              "        vertical-align: top;\n",
              "    }\n",
              "\n",
              "    .dataframe thead th {\n",
              "        text-align: right;\n",
              "    }\n",
              "</style>\n",
              "<table border=\"1\" class=\"dataframe\">\n",
              "  <thead>\n",
              "    <tr style=\"text-align: right;\">\n",
              "      <th></th>\n",
              "      <th>name</th>\n",
              "    </tr>\n",
              "  </thead>\n",
              "  <tbody>\n",
              "    <tr>\n",
              "      <th>0</th>\n",
              "      <td>2ГИС</td>\n",
              "    </tr>\n",
              "  </tbody>\n",
              "</table>\n",
              "</div>"
            ],
            "text/plain": [
              "   name\n",
              "0  2ГИС"
            ]
          },
          "metadata": {},
          "output_type": "display_data"
        }
      ],
      "source": [
        "# результат запроса\n",
        "empolyers_ = pd.read_sql_query(query_5_5,connection)\n",
        "display(empolyers_)"
      ]
    },
    {
      "cell_type": "markdown",
      "id": "3bfcfdaf-755d-4d2b-8ed8-326201dc07ab",
      "metadata": {
        "id": "3bfcfdaf-755d-4d2b-8ed8-326201dc07ab"
      },
      "source": [
        "6. С помощью запроса выясните, у какого количества работодателей в качестве сферы деятельности указана Разработка программного обеспечения.\n"
      ]
    },
    {
      "cell_type": "code",
      "execution_count": 79,
      "id": "ad3f270f-2991-47eb-929b-e8f88a55b0d1",
      "metadata": {
        "id": "ad3f270f-2991-47eb-929b-e8f88a55b0d1"
      },
      "outputs": [],
      "source": [
        "# текст запроса\n",
        "query_5_6 = f''' select count(e.id)\n",
        "                from public.employers e           -- тут тоже оставляем всех работодателей, даже тех, у коно не указаны сферы дейстельности\n",
        "                left join public.employers_industries ei on e.id = ei.employer_id\n",
        "                left join public.industries i on i.id = ei.industry_id\n",
        "                where i.name = 'Разработка программного обеспечения'\n",
        "                \n",
        "                  '''"
      ]
    },
    {
      "cell_type": "code",
      "execution_count": 80,
      "id": "H72qxWM0shPR",
      "metadata": {
        "id": "H72qxWM0shPR"
      },
      "outputs": [
        {
          "data": {
            "text/html": [
              "<div>\n",
              "<style scoped>\n",
              "    .dataframe tbody tr th:only-of-type {\n",
              "        vertical-align: middle;\n",
              "    }\n",
              "\n",
              "    .dataframe tbody tr th {\n",
              "        vertical-align: top;\n",
              "    }\n",
              "\n",
              "    .dataframe thead th {\n",
              "        text-align: right;\n",
              "    }\n",
              "</style>\n",
              "<table border=\"1\" class=\"dataframe\">\n",
              "  <thead>\n",
              "    <tr style=\"text-align: right;\">\n",
              "      <th></th>\n",
              "      <th>count</th>\n",
              "    </tr>\n",
              "  </thead>\n",
              "  <tbody>\n",
              "    <tr>\n",
              "      <th>0</th>\n",
              "      <td>3553</td>\n",
              "    </tr>\n",
              "  </tbody>\n",
              "</table>\n",
              "</div>"
            ],
            "text/plain": [
              "   count\n",
              "0   3553"
            ]
          },
          "metadata": {},
          "output_type": "display_data"
        }
      ],
      "source": [
        "# результат запроса\n",
        "empolyers_cnt = pd.read_sql_query(query_5_6,connection)\n",
        "display(empolyers_cnt)"
      ]
    },
    {
      "cell_type": "markdown",
      "id": "7b02bb86-0546-40fb-94a4-242f050a5c57",
      "metadata": {
        "id": "7b02bb86-0546-40fb-94a4-242f050a5c57"
      },
      "source": [
        "7. Для компании «Яндекс» выведите список регионов-миллионников, в которых представлены вакансии компании, вместе с количеством вакансий в этих регионах. Также добавьте строку Total с общим количеством вакансий компании. Результат отсортируйте по возрастанию количества.\n",
        "\n",
        "Список городов-милионников надо взять [отсюда](https://ru.wikipedia.org/wiki/%D0%93%D0%BE%D1%80%D0%BE%D0%B4%D0%B0-%D0%BC%D0%B8%D0%BB%D0%BB%D0%B8%D0%BE%D0%BD%D0%B5%D1%80%D1%8B_%D0%A0%D0%BE%D1%81%D1%81%D0%B8%D0%B8). \n",
        "\n",
        "Если возникнут трудности с этим задание посмотрите материалы модуля  PYTHON-17. Как получать данные из веб-источников и API. "
      ]
    },
    {
      "cell_type": "code",
      "execution_count": 81,
      "id": "ZdfrL6gIs1Pn",
      "metadata": {
        "id": "ZdfrL6gIs1Pn"
      },
      "outputs": [
        {
          "name": "stdout",
          "output_type": "stream",
          "text": [
            "0\n"
          ]
        },
        {
          "ename": "ValueError",
          "evalue": "'Москва' is not in list",
          "output_type": "error",
          "traceback": [
            "\u001b[1;31m---------------------------------------------------------------------------\u001b[0m",
            "\u001b[1;31mValueError\u001b[0m                                Traceback (most recent call last)",
            "Cell \u001b[1;32mIn[81], line 16\u001b[0m\n\u001b[0;32m     14\u001b[0m     city\u001b[38;5;241m.\u001b[39mappend(link\u001b[38;5;241m.\u001b[39mtext)\n\u001b[0;32m     15\u001b[0m \u001b[38;5;66;03m#Далее получим только города из всего, что нашлось. \u001b[39;00m\n\u001b[1;32m---> 16\u001b[0m index \u001b[38;5;241m=\u001b[39m \u001b[43mcity\u001b[49m\u001b[38;5;241;43m.\u001b[39;49m\u001b[43mindex\u001b[49m\u001b[43m(\u001b[49m\u001b[38;5;124;43m'\u001b[39;49m\u001b[38;5;124;43mМосква\u001b[39;49m\u001b[38;5;124;43m'\u001b[39;49m\u001b[43m)\u001b[49m \u001b[38;5;66;03m# Находим индекс первого города\u001b[39;00m\n\u001b[0;32m     17\u001b[0m \u001b[38;5;28mprint\u001b[39m(index)\n\u001b[0;32m     18\u001b[0m city_millions \u001b[38;5;241m=\u001b[39m \u001b[38;5;28mtuple\u001b[39m(city[\u001b[38;5;241m41\u001b[39m:\u001b[38;5;241m57\u001b[39m]) \u001b[38;5;66;03m# Зная, что городов-миллионников 16, берем соответствующие индексы\u001b[39;00m\n",
            "\u001b[1;31mValueError\u001b[0m: 'Москва' is not in list"
          ]
        }
      ],
      "source": [
        "# код для получения списка городов-милионников\n",
        "import requests # Импортируем библиотеку requests\n",
        "from bs4 import BeautifulSoup # Импортируем библиотеку BeautifulSoup\n",
        "from pprint import pprint\n",
        "url = 'https://ru.wikipedia.org/wiki/%D0%93%D0%BE%D1%80%D0%BE%D0%B4%D0%B0-%D0%BC%D0%B8%D0%BB%D0%BB%D0%B8%D0%BE%D0%BD%D0%B5%D1%80%D1%8B_%D0%A0%D0%BE%D1%81%D1%81%D0%B8%D0%B8#%D0%A1%D0%BF%D0%B8%D1%81%D0%BE%D0%BA_%D0%B3%D0%BE%D1%80%D0%BE%D0%B4%D0%BE%D0%B2' # Определяем адрес страницы\n",
        "response = requests.get(url) # Выполняем GET-запрос, содержимое ответа присваивается переменной response\n",
        "page = BeautifulSoup(response.text, 'html.parser') # Создаём объект BeautifulSoup, указывая html-парсер\n",
        "# Далее видим, что название городов находятся в теге <a>. Таких тегов много, поэтому:\n",
        "links = page.find_all('a') # Ищем все ссылки на странице и сохраняем в переменной links в виде списка\n",
        "print(len(links)) # Выводим количество найденных ссылок\n",
        "# Запишем все что нашли в список city, \n",
        "city = []\n",
        "for link in links:\n",
        "    city.append(link.text)\n",
        "#Далее получим только города из всего, что нашлось. \n",
        "index = city.index('Москва') # Находим индекс первого города\n",
        "print(index)\n",
        "city_millions = tuple(city[41:57]) # Зная, что городов-миллионников 16, берем соответствующие индексы\n",
        "                            # и сохраним результат в кортеже city_millions\n",
        "print(type(city_millions))"
      ]
    },
    {
      "cell_type": "code",
      "execution_count": null,
      "id": "5a0e32a4-e68a-4365-8a39-2fe24c542c36",
      "metadata": {
        "id": "5a0e32a4-e68a-4365-8a39-2fe24c542c36"
      },
      "outputs": [],
      "source": [
        "# текст запроса\n",
        "query_5_7 = f''' select e.name as \"Компания\",\n",
        "                        a.name as \"Город\",\n",
        "                        count(v.id) as \"Количество вакансий\"\n",
        "                from public.vacancies v   -- соединяем таблицу с вакансиями с таблицами работодателей и регионов\n",
        "                join public.employers e on e.id = v.employer_id\n",
        "                join public.areas a on a.id = v.area_id\n",
        "                where e.name = 'Яндекс' and a.name in {city_millions}  --фильтруем по компании и городам-миллионникам\n",
        "                group by e.name, a.name                                -- группируем по компании и городу\n",
        "                UNION ALL                                              -- Соединяем со строкой Total\n",
        "                select 'Яндекс',\n",
        "                        'Total',\n",
        "                        count(v.id)\n",
        "                from public.vacancies v\n",
        "                join public.employers e on e.id = v.employer_id\n",
        "                join public.areas a on a.id = v.area_id\n",
        "                where e.name = 'Яндекс' and a.name in {city_millions}\n",
        "                group by e.name                                       -- группируем только по компании\n",
        "                order by 3\n",
        "                  '''"
      ]
    },
    {
      "cell_type": "code",
      "execution_count": null,
      "id": "ttPhiO1rsvPq",
      "metadata": {
        "id": "ttPhiO1rsvPq"
      },
      "outputs": [
        {
          "data": {
            "text/html": [
              "<div>\n",
              "<style scoped>\n",
              "    .dataframe tbody tr th:only-of-type {\n",
              "        vertical-align: middle;\n",
              "    }\n",
              "\n",
              "    .dataframe tbody tr th {\n",
              "        vertical-align: top;\n",
              "    }\n",
              "\n",
              "    .dataframe thead th {\n",
              "        text-align: right;\n",
              "    }\n",
              "</style>\n",
              "<table border=\"1\" class=\"dataframe\">\n",
              "  <thead>\n",
              "    <tr style=\"text-align: right;\">\n",
              "      <th></th>\n",
              "      <th>Компания</th>\n",
              "      <th>Город</th>\n",
              "      <th>Количество вакансий</th>\n",
              "    </tr>\n",
              "  </thead>\n",
              "  <tbody>\n",
              "    <tr>\n",
              "      <th>0</th>\n",
              "      <td>Яндекс</td>\n",
              "      <td>Омск</td>\n",
              "      <td>21</td>\n",
              "    </tr>\n",
              "    <tr>\n",
              "      <th>1</th>\n",
              "      <td>Яндекс</td>\n",
              "      <td>Челябинск</td>\n",
              "      <td>22</td>\n",
              "    </tr>\n",
              "    <tr>\n",
              "      <th>2</th>\n",
              "      <td>Яндекс</td>\n",
              "      <td>Красноярск</td>\n",
              "      <td>23</td>\n",
              "    </tr>\n",
              "    <tr>\n",
              "      <th>3</th>\n",
              "      <td>Яндекс</td>\n",
              "      <td>Волгоград</td>\n",
              "      <td>24</td>\n",
              "    </tr>\n",
              "    <tr>\n",
              "      <th>4</th>\n",
              "      <td>Яндекс</td>\n",
              "      <td>Пермь</td>\n",
              "      <td>25</td>\n",
              "    </tr>\n",
              "    <tr>\n",
              "      <th>5</th>\n",
              "      <td>Яндекс</td>\n",
              "      <td>Казань</td>\n",
              "      <td>25</td>\n",
              "    </tr>\n",
              "    <tr>\n",
              "      <th>6</th>\n",
              "      <td>Яндекс</td>\n",
              "      <td>Ростов-на-Дону</td>\n",
              "      <td>25</td>\n",
              "    </tr>\n",
              "    <tr>\n",
              "      <th>7</th>\n",
              "      <td>Яндекс</td>\n",
              "      <td>Уфа</td>\n",
              "      <td>26</td>\n",
              "    </tr>\n",
              "    <tr>\n",
              "      <th>8</th>\n",
              "      <td>Яндекс</td>\n",
              "      <td>Самара</td>\n",
              "      <td>26</td>\n",
              "    </tr>\n",
              "    <tr>\n",
              "      <th>9</th>\n",
              "      <td>Яндекс</td>\n",
              "      <td>Краснодар</td>\n",
              "      <td>30</td>\n",
              "    </tr>\n",
              "    <tr>\n",
              "      <th>10</th>\n",
              "      <td>Яндекс</td>\n",
              "      <td>Воронеж</td>\n",
              "      <td>32</td>\n",
              "    </tr>\n",
              "    <tr>\n",
              "      <th>11</th>\n",
              "      <td>Яндекс</td>\n",
              "      <td>Новосибирск</td>\n",
              "      <td>35</td>\n",
              "    </tr>\n",
              "    <tr>\n",
              "      <th>12</th>\n",
              "      <td>Яндекс</td>\n",
              "      <td>Нижний Новгород</td>\n",
              "      <td>36</td>\n",
              "    </tr>\n",
              "    <tr>\n",
              "      <th>13</th>\n",
              "      <td>Яндекс</td>\n",
              "      <td>Екатеринбург</td>\n",
              "      <td>39</td>\n",
              "    </tr>\n",
              "    <tr>\n",
              "      <th>14</th>\n",
              "      <td>Яндекс</td>\n",
              "      <td>Санкт-Петербург</td>\n",
              "      <td>42</td>\n",
              "    </tr>\n",
              "    <tr>\n",
              "      <th>15</th>\n",
              "      <td>Яндекс</td>\n",
              "      <td>Москва</td>\n",
              "      <td>54</td>\n",
              "    </tr>\n",
              "    <tr>\n",
              "      <th>16</th>\n",
              "      <td>Яндекс</td>\n",
              "      <td>Total</td>\n",
              "      <td>485</td>\n",
              "    </tr>\n",
              "  </tbody>\n",
              "</table>\n",
              "</div>"
            ],
            "text/plain": [
              "   Компания            Город  Количество вакансий\n",
              "0    Яндекс             Омск                   21\n",
              "1    Яндекс        Челябинск                   22\n",
              "2    Яндекс       Красноярск                   23\n",
              "3    Яндекс        Волгоград                   24\n",
              "4    Яндекс            Пермь                   25\n",
              "5    Яндекс           Казань                   25\n",
              "6    Яндекс   Ростов-на-Дону                   25\n",
              "7    Яндекс              Уфа                   26\n",
              "8    Яндекс           Самара                   26\n",
              "9    Яндекс        Краснодар                   30\n",
              "10   Яндекс          Воронеж                   32\n",
              "11   Яндекс      Новосибирск                   35\n",
              "12   Яндекс  Нижний Новгород                   36\n",
              "13   Яндекс     Екатеринбург                   39\n",
              "14   Яндекс  Санкт-Петербург                   42\n",
              "15   Яндекс           Москва                   54\n",
              "16   Яндекс            Total                  485"
            ]
          },
          "metadata": {},
          "output_type": "display_data"
        }
      ],
      "source": [
        "# результат запроса\n",
        "yandex_vac = pd.read_sql_query(query_5_7,connection)\n",
        "display(yandex_vac)"
      ]
    },
    {
      "cell_type": "markdown",
      "id": "04966e40-3bc3-4dc8-9ba2-e80580ce3abc",
      "metadata": {
        "id": "04966e40-3bc3-4dc8-9ba2-e80580ce3abc"
      },
      "source": [
        "***"
      ]
    },
    {
      "cell_type": "markdown",
      "id": "03ad01e1",
      "metadata": {},
      "source": [
        "#### Выводы\n",
        "Всего в БД представлен 23501 работодатель. В процессе анализа мы выяснили, что Яндекс является лидером по количеству вакансий(1933) с большим отрывом (остальные менее 500). В первой пятерке 4 компании, так или иначе качающиеся IT (Ростелеком, Тинькофф, СБЕР). Также часть этих компаний имеют широкое представительство по многим регионам России(Яндекс, Ростелеком), что объясняет их количество вакансий. Причем на примере компании Яндекс мы выяснили, что она широко представлена в небольших городах, т.к. всего около 25% вакансий представлены в городах-миллионниках. У 15% вакансий в качестве сферы деятельности указано \"Разработка программного обеспечения\", а около четверти работодателей вообще не указывают сферу деятельности."
      ]
    },
    {
      "cell_type": "markdown",
      "id": "b1ef156a-efcb-49ce-bb23-90763e7f35b2",
      "metadata": {
        "id": "b1ef156a-efcb-49ce-bb23-90763e7f35b2",
        "tags": []
      },
      "source": [
        "# Юнит 6. Предметный анализ"
      ]
    },
    {
      "cell_type": "markdown",
      "id": "b9cd50a0-992d-4988-8463-2b2b1c4629b4",
      "metadata": {
        "id": "b9cd50a0-992d-4988-8463-2b2b1c4629b4"
      },
      "source": [
        "1. Сколько вакансий имеет отношение к данным?\n",
        "\n",
        "Считаем, что вакансия имеет отношение к данным, если в её названии содержатся слова 'data' или 'данн'.\n",
        "\n",
        "*Подсказка: Обратите внимание, что названия вакансий могут быть написаны в любом регистре.* \n"
      ]
    },
    {
      "cell_type": "code",
      "execution_count": null,
      "id": "54ab0e50-c0f1-47cc-a54b-bc5c8bc363f9",
      "metadata": {
        "id": "54ab0e50-c0f1-47cc-a54b-bc5c8bc363f9"
      },
      "outputs": [],
      "source": [
        "# текст запроса\n",
        "query_6_1 = f'''select count(*)\n",
        "                from vacancies v\n",
        "                where lower(v.name) like '%данн%' or lower(v.name) like '%data%' --приводим к нижнему регистру и ищем совпадения\n",
        "                '''"
      ]
    },
    {
      "cell_type": "code",
      "execution_count": null,
      "id": "9F1meAqsuUjd",
      "metadata": {
        "id": "9F1meAqsuUjd"
      },
      "outputs": [
        {
          "data": {
            "text/html": [
              "<div>\n",
              "<style scoped>\n",
              "    .dataframe tbody tr th:only-of-type {\n",
              "        vertical-align: middle;\n",
              "    }\n",
              "\n",
              "    .dataframe tbody tr th {\n",
              "        vertical-align: top;\n",
              "    }\n",
              "\n",
              "    .dataframe thead th {\n",
              "        text-align: right;\n",
              "    }\n",
              "</style>\n",
              "<table border=\"1\" class=\"dataframe\">\n",
              "  <thead>\n",
              "    <tr style=\"text-align: right;\">\n",
              "      <th></th>\n",
              "      <th>count</th>\n",
              "    </tr>\n",
              "  </thead>\n",
              "  <tbody>\n",
              "    <tr>\n",
              "      <th>0</th>\n",
              "      <td>1771</td>\n",
              "    </tr>\n",
              "  </tbody>\n",
              "</table>\n",
              "</div>"
            ],
            "text/plain": [
              "   count\n",
              "0   1771"
            ]
          },
          "metadata": {},
          "output_type": "display_data"
        }
      ],
      "source": [
        "# результат запроса\n",
        "DS_vacancies_count = pd.read_sql_query(query_6_1,connection)\n",
        "display(DS_vacancies_count)"
      ]
    },
    {
      "cell_type": "markdown",
      "id": "4dea20cb-a36b-474a-a0b9-e08e8e3857a5",
      "metadata": {
        "id": "4dea20cb-a36b-474a-a0b9-e08e8e3857a5"
      },
      "source": [
        "2. Сколько есть подходящих вакансий для начинающего дата-сайентиста? \n",
        "Будем считать вакансиями для дата-сайентистов такие, в названии которых есть хотя бы одно из следующих сочетаний:\n",
        "* 'data scientist'\n",
        "* 'data science'\n",
        "* 'исследователь данных'\n",
        "* 'ML' (здесь не нужно брать вакансии по HTML)\n",
        "* 'machine learning'\n",
        "* 'машинн%обучен%'\n",
        "\n",
        "** В следующих заданиях мы продолжим работать с вакансиями по этому условию.*\n",
        "\n",
        "Считаем вакансиями для специалистов уровня Junior следующие:\n",
        "* в названии есть слово 'junior' *или*\n",
        "* требуемый опыт — Нет опыта *или*\n",
        "* тип трудоустройства — Стажировка.\n",
        " "
      ]
    },
    {
      "cell_type": "code",
      "execution_count": null,
      "id": "9c61b3c0-bb66-46c9-ae1e-81d3f5752b4a",
      "metadata": {
        "id": "9c61b3c0-bb66-46c9-ae1e-81d3f5752b4a"
      },
      "outputs": [],
      "source": [
        "# текст запроса\n",
        "\n",
        "query_6_2 = f'''select count(id)\n",
        "                from vacancies \n",
        "                where \n",
        "                (lower(name) like '%data scientist%'    -- записываем условия для отнесения вакансии к DS\n",
        "                or lower(name) like '%data science%'\n",
        "                or lower(name) like '%исследователь данных%'\n",
        "                or (lower(name) like '%ml%' and lower(name) not like '%html%')\n",
        "                or lower(name) like '%machine learning%'\n",
        "                or lower(name) like '%машинн%обучен%')\n",
        "                and \n",
        "                (lower(name) like '%junior%'            -- записываем условия для отнесения вакансии к уровню Junior\n",
        "                or experience like 'Нет опыта'\n",
        "                or employment like 'Стажировка')\n",
        "                '''\n"
      ]
    },
    {
      "cell_type": "code",
      "execution_count": null,
      "id": "ZNM-LLYuu1dj",
      "metadata": {
        "id": "ZNM-LLYuu1dj"
      },
      "outputs": [
        {
          "data": {
            "text/html": [
              "<div>\n",
              "<style scoped>\n",
              "    .dataframe tbody tr th:only-of-type {\n",
              "        vertical-align: middle;\n",
              "    }\n",
              "\n",
              "    .dataframe tbody tr th {\n",
              "        vertical-align: top;\n",
              "    }\n",
              "\n",
              "    .dataframe thead th {\n",
              "        text-align: right;\n",
              "    }\n",
              "</style>\n",
              "<table border=\"1\" class=\"dataframe\">\n",
              "  <thead>\n",
              "    <tr style=\"text-align: right;\">\n",
              "      <th></th>\n",
              "      <th>count</th>\n",
              "    </tr>\n",
              "  </thead>\n",
              "  <tbody>\n",
              "    <tr>\n",
              "      <th>0</th>\n",
              "      <td>51</td>\n",
              "    </tr>\n",
              "  </tbody>\n",
              "</table>\n",
              "</div>"
            ],
            "text/plain": [
              "   count\n",
              "0     51"
            ]
          },
          "metadata": {},
          "output_type": "display_data"
        }
      ],
      "source": [
        "# результат запроса\n",
        "\n",
        "young_DS_vacancies_count = pd.read_sql_query(query_6_2,connection)\n",
        "display(young_DS_vacancies_count)"
      ]
    },
    {
      "cell_type": "markdown",
      "id": "eedceb80-c5ca-480e-b27a-278dfb8b4438",
      "metadata": {
        "id": "eedceb80-c5ca-480e-b27a-278dfb8b4438"
      },
      "source": [
        "3. Сколько есть вакансий для DS, в которых в качестве ключевого навыка указан SQL или postgres?\n",
        "\n",
        "** Критерии для отнесения вакансии к DS указаны в предыдущем задании.*"
      ]
    },
    {
      "cell_type": "code",
      "execution_count": null,
      "id": "69621713-0cc5-4f1b-a1d7-bb144fa6148c",
      "metadata": {
        "id": "69621713-0cc5-4f1b-a1d7-bb144fa6148c"
      },
      "outputs": [],
      "source": [
        "# текст запроса\n",
        "query_6_3 = f'''select count(id)\n",
        "                from vacancies \n",
        "                where \n",
        "                (lower(name) like '%data scientist%'        -- записываем условия для отнесения вакансии к DS\n",
        "                or lower(name) like '%data science%'\n",
        "                or lower(name) like '%исследователь данных%'\n",
        "                or (lower(name) like '%ml%' and lower(name) not like '%html%')\n",
        "                or lower(name) like '%machine learning%'\n",
        "                or lower(name) like '%машинн%обучен%')\n",
        "                and \n",
        "                (lower(key_skills) like '%sql%'            -- записываем условия для соответсвия навыка заданному условию\n",
        "                or lower(key_skills) like '%postgres%' \n",
        "                )\n",
        "                '''"
      ]
    },
    {
      "cell_type": "code",
      "execution_count": null,
      "id": "alA8WEAAvGdf",
      "metadata": {
        "id": "alA8WEAAvGdf"
      },
      "outputs": [
        {
          "data": {
            "text/html": [
              "<div>\n",
              "<style scoped>\n",
              "    .dataframe tbody tr th:only-of-type {\n",
              "        vertical-align: middle;\n",
              "    }\n",
              "\n",
              "    .dataframe tbody tr th {\n",
              "        vertical-align: top;\n",
              "    }\n",
              "\n",
              "    .dataframe thead th {\n",
              "        text-align: right;\n",
              "    }\n",
              "</style>\n",
              "<table border=\"1\" class=\"dataframe\">\n",
              "  <thead>\n",
              "    <tr style=\"text-align: right;\">\n",
              "      <th></th>\n",
              "      <th>count</th>\n",
              "    </tr>\n",
              "  </thead>\n",
              "  <tbody>\n",
              "    <tr>\n",
              "      <th>0</th>\n",
              "      <td>229</td>\n",
              "    </tr>\n",
              "  </tbody>\n",
              "</table>\n",
              "</div>"
            ],
            "text/plain": [
              "   count\n",
              "0    229"
            ]
          },
          "metadata": {},
          "output_type": "display_data"
        }
      ],
      "source": [
        "# результат запроса\n",
        "DS_vacancies_sql = pd.read_sql_query(query_6_3,connection)\n",
        "display(DS_vacancies_sql)"
      ]
    },
    {
      "cell_type": "markdown",
      "id": "1be1e9c6-37cf-4a5f-bfeb-04cab799dc80",
      "metadata": {
        "id": "1be1e9c6-37cf-4a5f-bfeb-04cab799dc80"
      },
      "source": [
        "4. Проверьте, насколько популярен Python в требованиях работодателей к DS.Для этого вычислите количество вакансий, в которых в качестве ключевого навыка указан Python.\n",
        "\n",
        "** Это можно сделать помощью запроса, аналогичного предыдущему.*"
      ]
    },
    {
      "cell_type": "code",
      "execution_count": null,
      "id": "0036a355-9ccf-4564-8b01-73d8194297e7",
      "metadata": {
        "id": "0036a355-9ccf-4564-8b01-73d8194297e7"
      },
      "outputs": [],
      "source": [
        "# текст запроса\n",
        "query_6_4 = f'''select count(id)\n",
        "                from vacancies \n",
        "                where \n",
        "                (lower(name) like '%data scientist%'\n",
        "                or lower(name) like '%data science%'\n",
        "                or lower(name) like '%исследователь данных%'\n",
        "                or (lower(name) like '%ml%' and lower(name) not like '%html%')\n",
        "                or lower(name) like '%machine learning%'\n",
        "                or lower(name) like '%машинн%обучен%')\n",
        "                and \n",
        "                lower(key_skills) like '%python%'\n",
        "               '''"
      ]
    },
    {
      "cell_type": "code",
      "execution_count": null,
      "id": "1i-5WyucvQ6v",
      "metadata": {
        "id": "1i-5WyucvQ6v"
      },
      "outputs": [
        {
          "data": {
            "text/html": [
              "<div>\n",
              "<style scoped>\n",
              "    .dataframe tbody tr th:only-of-type {\n",
              "        vertical-align: middle;\n",
              "    }\n",
              "\n",
              "    .dataframe tbody tr th {\n",
              "        vertical-align: top;\n",
              "    }\n",
              "\n",
              "    .dataframe thead th {\n",
              "        text-align: right;\n",
              "    }\n",
              "</style>\n",
              "<table border=\"1\" class=\"dataframe\">\n",
              "  <thead>\n",
              "    <tr style=\"text-align: right;\">\n",
              "      <th></th>\n",
              "      <th>count</th>\n",
              "    </tr>\n",
              "  </thead>\n",
              "  <tbody>\n",
              "    <tr>\n",
              "      <th>0</th>\n",
              "      <td>357</td>\n",
              "    </tr>\n",
              "  </tbody>\n",
              "</table>\n",
              "</div>"
            ],
            "text/plain": [
              "   count\n",
              "0    357"
            ]
          },
          "metadata": {},
          "output_type": "display_data"
        }
      ],
      "source": [
        "# результат запроса\n",
        "DS_vacancies_python = pd.read_sql_query(query_6_4,connection)\n",
        "display(DS_vacancies_python)"
      ]
    },
    {
      "cell_type": "markdown",
      "id": "ec3c8db7-fa21-4a41-a994-1af63742a642",
      "metadata": {
        "id": "ec3c8db7-fa21-4a41-a994-1af63742a642"
      },
      "source": [
        "5. Сколько ключевых навыков в среднем указывают в вакансиях для DS?\n",
        "Ответ округлите до двух знаков после точки-разделителя."
      ]
    },
    {
      "cell_type": "code",
      "execution_count": null,
      "id": "949132bc-d5b6-4611-8218-0b9a504d74f4",
      "metadata": {
        "id": "949132bc-d5b6-4611-8218-0b9a504d74f4"
      },
      "outputs": [
        {
          "data": {
            "text/html": [
              "<div>\n",
              "<style scoped>\n",
              "    .dataframe tbody tr th:only-of-type {\n",
              "        vertical-align: middle;\n",
              "    }\n",
              "\n",
              "    .dataframe tbody tr th {\n",
              "        vertical-align: top;\n",
              "    }\n",
              "\n",
              "    .dataframe thead th {\n",
              "        text-align: right;\n",
              "    }\n",
              "</style>\n",
              "<table border=\"1\" class=\"dataframe\">\n",
              "  <thead>\n",
              "    <tr style=\"text-align: right;\">\n",
              "      <th></th>\n",
              "      <th>round</th>\n",
              "    </tr>\n",
              "  </thead>\n",
              "  <tbody>\n",
              "    <tr>\n",
              "      <th>0</th>\n",
              "      <td>6.41</td>\n",
              "    </tr>\n",
              "  </tbody>\n",
              "</table>\n",
              "</div>"
            ],
            "text/plain": [
              "   round\n",
              "0   6.41"
            ]
          },
          "metadata": {},
          "output_type": "display_data"
        }
      ],
      "source": [
        "# текст запроса (один вариант решения)\n",
        "query_6_5 = f'''\n",
        "with t as(                                                                      -- создаем таблицу t для вакансий DS\n",
        "select *              \n",
        "from vacancies \n",
        "where \n",
        "    (lower(name) like '%data scientist%'\n",
        "    or lower(name) like '%data science%'\n",
        "    or lower(name) like '%исследователь данных%'\n",
        "    or (name like '%ML%' and name not like '%HTML%')\n",
        "    or lower(name) like '%machine learning%'\n",
        "    or lower(name) like '%машинн%обучен%'))\n",
        "select \n",
        "    round(avg((length(key_skills) - length(REPLACE(key_skills, '\\t', '')))+1),2)  -- видим, что навыки разделяются символом \\t,\n",
        "    -- поэтому вычисляем длину строки, затем вычитаем длину строки без этих символов, добавляем 1 и считаем среднее\n",
        "from t\n",
        "where key_skills is not null                                                      -- явно говорим, что пустые поля key_skills не берем во\n",
        "'''\n",
        "DS_vacancies_python = pd.read_sql_query(query_6_5,connection)\n",
        "display(DS_vacancies_python)"
      ]
    },
    {
      "cell_type": "markdown",
      "id": "3cb8fac7",
      "metadata": {},
      "source": [
        "#### Замечание к заданию\n",
        "Ответ сошелся, но я не согласен с решением.  Как было в курсе - функция AVG если встречает Null, то функция его не считает, например условно две вакансии, в одной key_skills = 10, во второй None, то функция AVG разделит 10/1=10, но в среднем то на две вакансии будет 10/2=5 навыков. \n",
        "Собственно и в коде указывая условие key_skills IS NOT NULL мы явно убираем все пропуски в столбце key_skill, хотя это не обязательно, AVG и так их не берет во внимание (в нашем коде если убрать это условие, то ответ не изменится). \n",
        "Но получается мы на вопрос задания \"Сколько ключевых навыков в среднем указывают в вакансиях для DS?\" не отвечаем корректно, мы отвечаем на вопрос \"Из тех вакансий, где указаны ключевые навыки, сколько ключевых навыков в среднем указывают в вакансиях для DS?\". А чтоб на вопрос задания ответить, нужно вместо null подставить 0, чтоб AVG посчитал эти строки."
      ]
    },
    {
      "cell_type": "code",
      "execution_count": null,
      "id": "7c0808b3",
      "metadata": {},
      "outputs": [],
      "source": [
        "# Второй вариант решения\n",
        "query_6_5 = f'''\n",
        "   select\n",
        "round(avg(length(key_skills) - length(replace(key_skills,CHR(9),''))+1),2)  -- тут тоже самое, но без вложенного запроса\n",
        "                                                                            -- визуально легче понять\n",
        "from vacancies v\n",
        "\n",
        "WHERE\n",
        "(\n",
        "       (v.name ILIKE '%data scientist%')\n",
        "    OR (lower(v.name) ILIKE '%data science%')\n",
        "    OR (v.name ILIKE '%исследователь данных%')\n",
        "    OR (v.name  LIKE '%ML%' AND  (v.name NOT iLIKE '%html%'))\n",
        "    OR (v.name ILIKE '%machine learning%')\n",
        "    OR (v.name ILIKE '%машинн%обучен%')\n",
        "    --AND (key_skills IS NOT NULL)\n",
        ")\n",
        "    '''\n",
        "\n"
      ]
    },
    {
      "cell_type": "code",
      "execution_count": null,
      "id": "a3V24Tvmviqk",
      "metadata": {
        "id": "a3V24Tvmviqk"
      },
      "outputs": [
        {
          "data": {
            "text/html": [
              "<div>\n",
              "<style scoped>\n",
              "    .dataframe tbody tr th:only-of-type {\n",
              "        vertical-align: middle;\n",
              "    }\n",
              "\n",
              "    .dataframe tbody tr th {\n",
              "        vertical-align: top;\n",
              "    }\n",
              "\n",
              "    .dataframe thead th {\n",
              "        text-align: right;\n",
              "    }\n",
              "</style>\n",
              "<table border=\"1\" class=\"dataframe\">\n",
              "  <thead>\n",
              "    <tr style=\"text-align: right;\">\n",
              "      <th></th>\n",
              "      <th>round</th>\n",
              "    </tr>\n",
              "  </thead>\n",
              "  <tbody>\n",
              "    <tr>\n",
              "      <th>0</th>\n",
              "      <td>6.41</td>\n",
              "    </tr>\n",
              "  </tbody>\n",
              "</table>\n",
              "</div>"
            ],
            "text/plain": [
              "   round\n",
              "0   6.41"
            ]
          },
          "metadata": {},
          "output_type": "display_data"
        }
      ],
      "source": [
        "# результат запроса\n",
        "\n",
        "cnt_skills = pd.read_sql_query(query_6_5,connection)\n",
        "display(cnt_skills)"
      ]
    },
    {
      "cell_type": "markdown",
      "id": "1041c17a-ca8f-4543-a0ca-32778914fb00",
      "metadata": {
        "id": "1041c17a-ca8f-4543-a0ca-32778914fb00"
      },
      "source": [
        "6. Напишите запрос, позволяющий вычислить, какую зарплату для DS в **среднем** указывают для каждого типа требуемого опыта (уникальное значение из поля *experience*). \n",
        "\n",
        "При решении задачи примите во внимание следующее:\n",
        "1. Рассматриваем только вакансии, у которых заполнено хотя бы одно из двух полей с зарплатой.\n",
        "2. Если заполнены оба поля с зарплатой, то считаем зарплату по каждой вакансии как сумму двух полей, делённую на 2. Если заполнено только одно из полей, то его и считаем зарплатой по вакансии.\n",
        "3. Если в расчётах участвует null, в результате он тоже даст null (посмотрите, что возвращает запрос select 1 + null). Чтобы избежать этой ситуацию, мы воспользуемся функцией [coalesce](https://postgrespro.ru/docs/postgresql/9.5/functions-conditional#functions-coalesce-nvl-ifnull), которая заменит null на значение, которое мы передадим. Например, посмотрите, что возвращает запрос `select 1 + coalesce(null, 0)`\n",
        "\n",
        "Выясните, на какую зарплату в среднем может рассчитывать дата-сайентист с опытом работы от 3 до 6 лет. Результат округлите до целого числа. "
      ]
    },
    {
      "cell_type": "code",
      "execution_count": null,
      "id": "6a743d39-5204-48d3-8271-b9f88e68d40e",
      "metadata": {
        "id": "6a743d39-5204-48d3-8271-b9f88e68d40e"
      },
      "outputs": [],
      "source": [
        "# текст запроса\n",
        "query_6_6 = f'''\n",
        "select\n",
        "   experience,\n",
        "   round(AVG(case when (salary_from is not null and salary_to is not null)  -- когда оба поля с зарплатой ненулевые\n",
        "      then (salary_from + salary_to)/2                                      -- их сумму делим на 2\n",
        "      else (coalesce(salary_from, 0)+coalesce(salary_to, 0)) end)) as mean_salary -- иначе берем только одно значение (т.к. знаем, что )\n",
        "                                                                                 -- одно из них будет 0, и чтоб коррекно получить ответ\n",
        "                                                                                 -- используем функцию coalesce\n",
        "\n",
        "from vacancies v\n",
        "\n",
        "WHERE\n",
        "(\n",
        "       (v.name ILIKE '%data scientist%')                                      -- условие для вакансий DS\n",
        "    OR (lower(v.name) ILIKE '%data science%')\n",
        "    OR (v.name ILIKE '%исследователь данных%')\n",
        "    OR (v.name  LIKE '%ML%' AND  (v.name NOT iLIKE '%html%'))\n",
        "    OR (v.name ILIKE '%machine learning%')\n",
        "    OR (v.name ILIKE '%машинн%обучен%')\n",
        ")\n",
        "and (salary_from is not null or salary_to is not null)                         -- условие что хотя бы одна из запрлат не пустая\n",
        "group by experience\n",
        "    '''"
      ]
    },
    {
      "cell_type": "code",
      "execution_count": null,
      "id": "aRIJ0mZEwU1_",
      "metadata": {
        "id": "aRIJ0mZEwU1_"
      },
      "outputs": [
        {
          "data": {
            "text/html": [
              "<div>\n",
              "<style scoped>\n",
              "    .dataframe tbody tr th:only-of-type {\n",
              "        vertical-align: middle;\n",
              "    }\n",
              "\n",
              "    .dataframe tbody tr th {\n",
              "        vertical-align: top;\n",
              "    }\n",
              "\n",
              "    .dataframe thead th {\n",
              "        text-align: right;\n",
              "    }\n",
              "</style>\n",
              "<table border=\"1\" class=\"dataframe\">\n",
              "  <thead>\n",
              "    <tr style=\"text-align: right;\">\n",
              "      <th></th>\n",
              "      <th>experience</th>\n",
              "      <th>mean_salary</th>\n",
              "    </tr>\n",
              "  </thead>\n",
              "  <tbody>\n",
              "    <tr>\n",
              "      <th>0</th>\n",
              "      <td>Нет опыта</td>\n",
              "      <td>74643.0</td>\n",
              "    </tr>\n",
              "    <tr>\n",
              "      <th>1</th>\n",
              "      <td>От 1 года до 3 лет</td>\n",
              "      <td>139675.0</td>\n",
              "    </tr>\n",
              "    <tr>\n",
              "      <th>2</th>\n",
              "      <td>От 3 до 6 лет</td>\n",
              "      <td>243115.0</td>\n",
              "    </tr>\n",
              "  </tbody>\n",
              "</table>\n",
              "</div>"
            ],
            "text/plain": [
              "           experience  mean_salary\n",
              "0           Нет опыта      74643.0\n",
              "1  От 1 года до 3 лет     139675.0\n",
              "2       От 3 до 6 лет     243115.0"
            ]
          },
          "metadata": {},
          "output_type": "display_data"
        }
      ],
      "source": [
        "# результат запроса\n",
        "avg_salary = pd.read_sql_query(query_6_6,connection)\n",
        "display(avg_salary)"
      ]
    },
    {
      "cell_type": "markdown",
      "id": "6a7892b4-4113-4746-adce-18aa2844f18e",
      "metadata": {
        "id": "6a7892b4-4113-4746-adce-18aa2844f18e"
      },
      "source": [
        "***"
      ]
    },
    {
      "cell_type": "code",
      "execution_count": null,
      "id": "UjLWUptVwY1o",
      "metadata": {
        "id": "UjLWUptVwY1o"
      },
      "outputs": [],
      "source": [
        "# выводы по предметному анализу"
      ]
    },
    {
      "cell_type": "markdown",
      "id": "92c19ad5",
      "metadata": {},
      "source": [
        "##### Выводы\n",
        "В целом к данным имеет отношение не так много вакансий (1771/49197 = 3,5 %). \n",
        "Для начинающего DS ситуация не из простых, всего 51 вакансия. В среднем нужно иметь около 6-7 ключевых навыков, причем Python встречается примерно в полтора раза чаще, чем SQL. Средняя зарплата увеличивается чуть менее чем в 2 раза при переходе на каждую ступень опыта работы."
      ]
    },
    {
      "cell_type": "markdown",
      "id": "c0ED6fh7wiBT",
      "metadata": {
        "id": "c0ED6fh7wiBT"
      },
      "source": [
        "# Общий вывод по проекту"
      ]
    },
    {
      "cell_type": "code",
      "execution_count": null,
      "id": "h9B3BL-wwj18",
      "metadata": {
        "id": "h9B3BL-wwj18"
      },
      "outputs": [],
      "source": [
        "# подведем итог исследования, обобщите выводы\n",
        "# здесь можно (это будет плюсом) провести дополнительные исследования данных, сделать прогнозы, продумать варианты продолжения исследования"
      ]
    },
    {
      "cell_type": "markdown",
      "id": "7d476bc9",
      "metadata": {},
      "source": [
        "##### Итак, мы рассмотрели базу данных вакансий с сайта HH.ru, в которой было 49197 вакансий, 23501 компания(работодатель) по 1362 регионам в 294 сферах деятельности.\n",
        "Ожидаемо лидеры по работодателям и вакансиям - крупные города, причем Москва как мегаполис - с огромным отрывом. Средняя вилка зарплат составляет 71000 - 110000 рублей (при этом в этом диапазоне находится только средняя ЗП для начинающего DS, а с увеличением опыта ЗП для DS будет выше рынка, это радует).  \n",
        "Очевидно, что наиболее распространенный вариант работы - полный день, полная занятость. \n",
        "Прямой зависимости между опытом работы и количетсвом вакансий нет, но видно, что в приоритете нужны специалисты с опытом от 1 года до 3 лет (26152 вакансии).\n",
        "Интересно посмотреть на компании в разрезе широты регионов, где представлены их вакансии. Лидеры - Яндекс и Ростелеком. В случае с Ростелеком ситуация понятна, компания предоставляет услуги связи(домашнего интеренета) и должна быть представлена в регионах, но с Яндекс интереснее. Если взглянуть на топ регионов по вакансиям для этой компании не в городах-миллионниках, то вакансий в них будет столько же, как и в городах-миллионнках. Для чего компании яндекс такая широкая география? МОжно предполодить, что компания имеет несколько бизнесов, в том числе такси и доставка, но если посмотреть на вакансии на примере нескольких городов, то вакансий такси/доставка там не будет. Это говорит о том, что офисы компании яндекс широко диферсифицированы по регионам и направлены только на IT направление бизнеса.  \n",
        "Интересно, что компания Ozon имеет вакансии только в 36 регионах. Либо в других регионах все вакансии заняты и свободных нет, либо БД старая и с тех пор очевидно, что компания имеет вредставительство почти во всех регионах России.  \n",
        "Также из интересного можно выделить, что в с ростом опыта работы (ступени без опыта- 1-3 года - 3-6 лет) уровень зарплат увеличивается чуть менее чем в два раза. На последней ступени (более 6 лет) рост не такой большой.\n",
        "\n"
      ]
    },
    {
      "cell_type": "code",
      "execution_count": null,
      "id": "ab2bd76b",
      "metadata": {},
      "outputs": [
        {
          "data": {
            "text/html": [
              "<div>\n",
              "<style scoped>\n",
              "    .dataframe tbody tr th:only-of-type {\n",
              "        vertical-align: middle;\n",
              "    }\n",
              "\n",
              "    .dataframe tbody tr th {\n",
              "        vertical-align: top;\n",
              "    }\n",
              "\n",
              "    .dataframe thead th {\n",
              "        text-align: right;\n",
              "    }\n",
              "</style>\n",
              "<table border=\"1\" class=\"dataframe\">\n",
              "  <thead>\n",
              "    <tr style=\"text-align: right;\">\n",
              "      <th></th>\n",
              "      <th>name</th>\n",
              "      <th>cnt_employers</th>\n",
              "      <th>cnt_vacancies</th>\n",
              "    </tr>\n",
              "  </thead>\n",
              "  <tbody>\n",
              "    <tr>\n",
              "      <th>0</th>\n",
              "      <td>Москва</td>\n",
              "      <td>5864</td>\n",
              "      <td>31272712</td>\n",
              "    </tr>\n",
              "    <tr>\n",
              "      <th>1</th>\n",
              "      <td>Санкт-Петербург</td>\n",
              "      <td>2217</td>\n",
              "      <td>6320667</td>\n",
              "    </tr>\n",
              "    <tr>\n",
              "      <th>2</th>\n",
              "      <td>Минск</td>\n",
              "      <td>1115</td>\n",
              "      <td>2354880</td>\n",
              "    </tr>\n",
              "    <tr>\n",
              "      <th>3</th>\n",
              "      <td>Алматы</td>\n",
              "      <td>721</td>\n",
              "      <td>1364132</td>\n",
              "    </tr>\n",
              "    <tr>\n",
              "      <th>4</th>\n",
              "      <td>Екатеринбург</td>\n",
              "      <td>609</td>\n",
              "      <td>1034082</td>\n",
              "    </tr>\n",
              "    <tr>\n",
              "      <th>5</th>\n",
              "      <td>Новосибирск</td>\n",
              "      <td>573</td>\n",
              "      <td>1149438</td>\n",
              "    </tr>\n",
              "    <tr>\n",
              "      <th>6</th>\n",
              "      <td>Казань</td>\n",
              "      <td>480</td>\n",
              "      <td>679200</td>\n",
              "    </tr>\n",
              "    <tr>\n",
              "      <th>7</th>\n",
              "      <td>Нижний Новгород</td>\n",
              "      <td>426</td>\n",
              "      <td>711420</td>\n",
              "    </tr>\n",
              "    <tr>\n",
              "      <th>8</th>\n",
              "      <td>Россия</td>\n",
              "      <td>410</td>\n",
              "      <td>0</td>\n",
              "    </tr>\n",
              "    <tr>\n",
              "      <th>9</th>\n",
              "      <td>Краснодар</td>\n",
              "      <td>409</td>\n",
              "      <td>532109</td>\n",
              "    </tr>\n",
              "    <tr>\n",
              "      <th>10</th>\n",
              "      <td>Ростов-на-Дону</td>\n",
              "      <td>335</td>\n",
              "      <td>378885</td>\n",
              "    </tr>\n",
              "    <tr>\n",
              "      <th>11</th>\n",
              "      <td>Красноярск</td>\n",
              "      <td>331</td>\n",
              "      <td>280357</td>\n",
              "    </tr>\n",
              "    <tr>\n",
              "      <th>12</th>\n",
              "      <td>Ташкент</td>\n",
              "      <td>326</td>\n",
              "      <td>277426</td>\n",
              "    </tr>\n",
              "    <tr>\n",
              "      <th>13</th>\n",
              "      <td>Самара</td>\n",
              "      <td>315</td>\n",
              "      <td>360360</td>\n",
              "    </tr>\n",
              "    <tr>\n",
              "      <th>14</th>\n",
              "      <td>Нур-Султан</td>\n",
              "      <td>312</td>\n",
              "      <td>262080</td>\n",
              "    </tr>\n",
              "    <tr>\n",
              "      <th>15</th>\n",
              "      <td>Челябинск</td>\n",
              "      <td>310</td>\n",
              "      <td>243660</td>\n",
              "    </tr>\n",
              "    <tr>\n",
              "      <th>16</th>\n",
              "      <td>Воронеж</td>\n",
              "      <td>292</td>\n",
              "      <td>310396</td>\n",
              "    </tr>\n",
              "    <tr>\n",
              "      <th>17</th>\n",
              "      <td>Уфа</td>\n",
              "      <td>252</td>\n",
              "      <td>193284</td>\n",
              "    </tr>\n",
              "    <tr>\n",
              "      <th>18</th>\n",
              "      <td>Пермь</td>\n",
              "      <td>250</td>\n",
              "      <td>192750</td>\n",
              "    </tr>\n",
              "    <tr>\n",
              "      <th>19</th>\n",
              "      <td>Тюмень</td>\n",
              "      <td>218</td>\n",
              "      <td>119246</td>\n",
              "    </tr>\n",
              "  </tbody>\n",
              "</table>\n",
              "</div>"
            ],
            "text/plain": [
              "               name  cnt_employers  cnt_vacancies\n",
              "0            Москва           5864       31272712\n",
              "1   Санкт-Петербург           2217        6320667\n",
              "2             Минск           1115        2354880\n",
              "3            Алматы            721        1364132\n",
              "4      Екатеринбург            609        1034082\n",
              "5       Новосибирск            573        1149438\n",
              "6            Казань            480         679200\n",
              "7   Нижний Новгород            426         711420\n",
              "8            Россия            410              0\n",
              "9         Краснодар            409         532109\n",
              "10   Ростов-на-Дону            335         378885\n",
              "11       Красноярск            331         280357\n",
              "12          Ташкент            326         277426\n",
              "13           Самара            315         360360\n",
              "14       Нур-Султан            312         262080\n",
              "15        Челябинск            310         243660\n",
              "16          Воронеж            292         310396\n",
              "17              Уфа            252         193284\n",
              "18            Пермь            250         192750\n",
              "19           Тюмень            218         119246"
            ]
          },
          "metadata": {},
          "output_type": "display_data"
        }
      ],
      "source": [
        "# Посмотрим на топ 20 городов по количеству работодатлей и вакансий в этих городах\n",
        "query_7_1 = f''' select a.name,\n",
        "                        count(distinct e.id) cnt_employers, \n",
        "                        count(v.id) cnt_vacancies\n",
        "                from public.areas a                               --к таблице с регионами присоединяем таблицы с вакансиями\n",
        "                left join public.vacancies v on a.id = v.area_id  -- и работодателями, причем оставляем все регионы\n",
        "                left join public.employers e on e.area = a.id\n",
        "                group by a.id\n",
        "                order by cnt_employers desc  \n",
        "                   \n",
        "'''\n",
        "area_info = pd.read_sql_query(query_7_1,connection)\n",
        "display(area_info.head(20))"
      ]
    },
    {
      "cell_type": "code",
      "execution_count": null,
      "id": "c55878e9",
      "metadata": {},
      "outputs": [
        {
          "data": {
            "text/html": [
              "<div>\n",
              "<style scoped>\n",
              "    .dataframe tbody tr th:only-of-type {\n",
              "        vertical-align: middle;\n",
              "    }\n",
              "\n",
              "    .dataframe tbody tr th {\n",
              "        vertical-align: top;\n",
              "    }\n",
              "\n",
              "    .dataframe thead th {\n",
              "        text-align: right;\n",
              "    }\n",
              "</style>\n",
              "<table border=\"1\" class=\"dataframe\">\n",
              "  <thead>\n",
              "    <tr style=\"text-align: right;\">\n",
              "      <th></th>\n",
              "      <th>name</th>\n",
              "      <th>count</th>\n",
              "    </tr>\n",
              "  </thead>\n",
              "  <tbody>\n",
              "    <tr>\n",
              "      <th>0</th>\n",
              "      <td>Яндекс</td>\n",
              "      <td>181</td>\n",
              "    </tr>\n",
              "    <tr>\n",
              "      <th>1</th>\n",
              "      <td>Ростелеком</td>\n",
              "      <td>152</td>\n",
              "    </tr>\n",
              "    <tr>\n",
              "      <th>2</th>\n",
              "      <td>Спецремонт</td>\n",
              "      <td>116</td>\n",
              "    </tr>\n",
              "    <tr>\n",
              "      <th>3</th>\n",
              "      <td>Поляков Денис Иванович</td>\n",
              "      <td>88</td>\n",
              "    </tr>\n",
              "    <tr>\n",
              "      <th>4</th>\n",
              "      <td>ООО ЕФИН</td>\n",
              "      <td>71</td>\n",
              "    </tr>\n",
              "    <tr>\n",
              "      <th>5</th>\n",
              "      <td>Совкомбанк</td>\n",
              "      <td>63</td>\n",
              "    </tr>\n",
              "    <tr>\n",
              "      <th>6</th>\n",
              "      <td>МТС</td>\n",
              "      <td>55</td>\n",
              "    </tr>\n",
              "    <tr>\n",
              "      <th>7</th>\n",
              "      <td>ЭФКО, Управляющая компания</td>\n",
              "      <td>49</td>\n",
              "    </tr>\n",
              "    <tr>\n",
              "      <th>8</th>\n",
              "      <td>КРОН</td>\n",
              "      <td>48</td>\n",
              "    </tr>\n",
              "    <tr>\n",
              "      <th>9</th>\n",
              "      <td>Почта России</td>\n",
              "      <td>48</td>\n",
              "    </tr>\n",
              "    <tr>\n",
              "      <th>10</th>\n",
              "      <td>MCORE</td>\n",
              "      <td>46</td>\n",
              "    </tr>\n",
              "    <tr>\n",
              "      <th>11</th>\n",
              "      <td>ИК СИБИНТЕК</td>\n",
              "      <td>46</td>\n",
              "    </tr>\n",
              "    <tr>\n",
              "      <th>12</th>\n",
              "      <td>Сбербанк-Сервис</td>\n",
              "      <td>45</td>\n",
              "    </tr>\n",
              "    <tr>\n",
              "      <th>13</th>\n",
              "      <td>ANCOR</td>\n",
              "      <td>44</td>\n",
              "    </tr>\n",
              "    <tr>\n",
              "      <th>14</th>\n",
              "      <td>Первый Бит</td>\n",
              "      <td>43</td>\n",
              "    </tr>\n",
              "    <tr>\n",
              "      <th>15</th>\n",
              "      <td>Тинькофф</td>\n",
              "      <td>43</td>\n",
              "    </tr>\n",
              "    <tr>\n",
              "      <th>16</th>\n",
              "      <td>АЛНАС</td>\n",
              "      <td>41</td>\n",
              "    </tr>\n",
              "    <tr>\n",
              "      <th>17</th>\n",
              "      <td>Ozon</td>\n",
              "      <td>36</td>\n",
              "    </tr>\n",
              "    <tr>\n",
              "      <th>18</th>\n",
              "      <td>IBS</td>\n",
              "      <td>36</td>\n",
              "    </tr>\n",
              "    <tr>\n",
              "      <th>19</th>\n",
              "      <td>Авито</td>\n",
              "      <td>35</td>\n",
              "    </tr>\n",
              "  </tbody>\n",
              "</table>\n",
              "</div>"
            ],
            "text/plain": [
              "                          name  count\n",
              "0                       Яндекс    181\n",
              "1                   Ростелеком    152\n",
              "2                   Спецремонт    116\n",
              "3       Поляков Денис Иванович     88\n",
              "4                    ООО ЕФИН      71\n",
              "5                   Совкомбанк     63\n",
              "6                          МТС     55\n",
              "7   ЭФКО, Управляющая компания     49\n",
              "8                         КРОН     48\n",
              "9                 Почта России     48\n",
              "10                       MCORE     46\n",
              "11                 ИК СИБИНТЕК     46\n",
              "12             Сбербанк-Сервис     45\n",
              "13                       ANCOR     44\n",
              "14                  Первый Бит     43\n",
              "15                    Тинькофф     43\n",
              "16                       АЛНАС     41\n",
              "17                        Ozon     36\n",
              "18                         IBS     36\n",
              "19                       Авито     35"
            ]
          },
          "metadata": {},
          "output_type": "display_data"
        }
      ],
      "source": [
        "# Посмотрим на топ20 компаний по ширине охвата территорий, где представлены их вакансии\n",
        "query_7_2 = f'''select e.name,\n",
        "                        count(distinct v.area_id)\n",
        "                from public.employers e\n",
        "                join public.vacancies v on e.id = v.employer_id\n",
        "                group by e.id\n",
        "                order by 2 desc  \n",
        "                  '''\n",
        "employers_area = pd.read_sql_query(query_7_2,connection)\n",
        "display(employers_area.head(20))"
      ]
    },
    {
      "cell_type": "code",
      "execution_count": null,
      "id": "5f961044",
      "metadata": {},
      "outputs": [
        {
          "data": {
            "text/html": [
              "<div>\n",
              "<style scoped>\n",
              "    .dataframe tbody tr th:only-of-type {\n",
              "        vertical-align: middle;\n",
              "    }\n",
              "\n",
              "    .dataframe tbody tr th {\n",
              "        vertical-align: top;\n",
              "    }\n",
              "\n",
              "    .dataframe thead th {\n",
              "        text-align: right;\n",
              "    }\n",
              "</style>\n",
              "<table border=\"1\" class=\"dataframe\">\n",
              "  <thead>\n",
              "    <tr style=\"text-align: right;\">\n",
              "      <th></th>\n",
              "      <th>Компания</th>\n",
              "      <th>Город</th>\n",
              "      <th>Количество вакансий</th>\n",
              "    </tr>\n",
              "  </thead>\n",
              "  <tbody>\n",
              "    <tr>\n",
              "      <th>0</th>\n",
              "      <td>Яндекс</td>\n",
              "      <td>Владивосток</td>\n",
              "      <td>27</td>\n",
              "    </tr>\n",
              "    <tr>\n",
              "      <th>1</th>\n",
              "      <td>Яндекс</td>\n",
              "      <td>Оренбург</td>\n",
              "      <td>24</td>\n",
              "    </tr>\n",
              "    <tr>\n",
              "      <th>2</th>\n",
              "      <td>Яндекс</td>\n",
              "      <td>Хабаровск</td>\n",
              "      <td>24</td>\n",
              "    </tr>\n",
              "    <tr>\n",
              "      <th>3</th>\n",
              "      <td>Яндекс</td>\n",
              "      <td>Ижевск</td>\n",
              "      <td>23</td>\n",
              "    </tr>\n",
              "    <tr>\n",
              "      <th>4</th>\n",
              "      <td>Яндекс</td>\n",
              "      <td>Ярославль</td>\n",
              "      <td>23</td>\n",
              "    </tr>\n",
              "    <tr>\n",
              "      <th>5</th>\n",
              "      <td>Яндекс</td>\n",
              "      <td>Саратов</td>\n",
              "      <td>23</td>\n",
              "    </tr>\n",
              "    <tr>\n",
              "      <th>6</th>\n",
              "      <td>Яндекс</td>\n",
              "      <td>Иркутск</td>\n",
              "      <td>23</td>\n",
              "    </tr>\n",
              "    <tr>\n",
              "      <th>7</th>\n",
              "      <td>Яндекс</td>\n",
              "      <td>Тольятти</td>\n",
              "      <td>22</td>\n",
              "    </tr>\n",
              "    <tr>\n",
              "      <th>8</th>\n",
              "      <td>Яндекс</td>\n",
              "      <td>Астрахань</td>\n",
              "      <td>21</td>\n",
              "    </tr>\n",
              "    <tr>\n",
              "      <th>9</th>\n",
              "      <td>Яндекс</td>\n",
              "      <td>Махачкала</td>\n",
              "      <td>21</td>\n",
              "    </tr>\n",
              "    <tr>\n",
              "      <th>10</th>\n",
              "      <td>Яндекс</td>\n",
              "      <td>Пенза</td>\n",
              "      <td>20</td>\n",
              "    </tr>\n",
              "    <tr>\n",
              "      <th>11</th>\n",
              "      <td>Яндекс</td>\n",
              "      <td>Южно-Сахалинск</td>\n",
              "      <td>20</td>\n",
              "    </tr>\n",
              "    <tr>\n",
              "      <th>12</th>\n",
              "      <td>Яндекс</td>\n",
              "      <td>Находка</td>\n",
              "      <td>20</td>\n",
              "    </tr>\n",
              "    <tr>\n",
              "      <th>13</th>\n",
              "      <td>Яндекс</td>\n",
              "      <td>Тюмень</td>\n",
              "      <td>20</td>\n",
              "    </tr>\n",
              "    <tr>\n",
              "      <th>14</th>\n",
              "      <td>Яндекс</td>\n",
              "      <td>Барнаул</td>\n",
              "      <td>20</td>\n",
              "    </tr>\n",
              "    <tr>\n",
              "      <th>15</th>\n",
              "      <td>Яндекс</td>\n",
              "      <td>Сочи</td>\n",
              "      <td>19</td>\n",
              "    </tr>\n",
              "    <tr>\n",
              "      <th>16</th>\n",
              "      <td>Яндекс</td>\n",
              "      <td>Кемерово</td>\n",
              "      <td>19</td>\n",
              "    </tr>\n",
              "    <tr>\n",
              "      <th>17</th>\n",
              "      <td>Яндекс</td>\n",
              "      <td>Ульяновск</td>\n",
              "      <td>19</td>\n",
              "    </tr>\n",
              "    <tr>\n",
              "      <th>18</th>\n",
              "      <td>Яндекс</td>\n",
              "      <td>Рязань</td>\n",
              "      <td>19</td>\n",
              "    </tr>\n",
              "    <tr>\n",
              "      <th>19</th>\n",
              "      <td>Яндекс</td>\n",
              "      <td>Томск</td>\n",
              "      <td>19</td>\n",
              "    </tr>\n",
              "  </tbody>\n",
              "</table>\n",
              "</div>"
            ],
            "text/plain": [
              "   Компания           Город  Количество вакансий\n",
              "0    Яндекс     Владивосток                   27\n",
              "1    Яндекс        Оренбург                   24\n",
              "2    Яндекс       Хабаровск                   24\n",
              "3    Яндекс          Ижевск                   23\n",
              "4    Яндекс       Ярославль                   23\n",
              "5    Яндекс         Саратов                   23\n",
              "6    Яндекс         Иркутск                   23\n",
              "7    Яндекс        Тольятти                   22\n",
              "8    Яндекс       Астрахань                   21\n",
              "9    Яндекс       Махачкала                   21\n",
              "10   Яндекс           Пенза                   20\n",
              "11   Яндекс  Южно-Сахалинск                   20\n",
              "12   Яндекс         Находка                   20\n",
              "13   Яндекс          Тюмень                   20\n",
              "14   Яндекс         Барнаул                   20\n",
              "15   Яндекс            Сочи                   19\n",
              "16   Яндекс        Кемерово                   19\n",
              "17   Яндекс       Ульяновск                   19\n",
              "18   Яндекс          Рязань                   19\n",
              "19   Яндекс           Томск                   19"
            ]
          },
          "metadata": {},
          "output_type": "display_data"
        }
      ],
      "source": [
        "# Посмотрим на топ20 городов не миллионников по вакансиям яндекс\n",
        "query_7_3 = f''' select e.name as \"Компания\",\n",
        "                        a.name as \"Город\",\n",
        "                        count(v.id) as \"Количество вакансий\"\n",
        "                from public.vacancies v   -- соединяем таблицу с вакансиями с таблицами работодателей и регионов\n",
        "                join public.employers e on e.id = v.employer_id\n",
        "                join public.areas a on a.id = v.area_id\n",
        "                where e.name = 'Яндекс' and a.name not in {city_millions}  --фильтруем по компании и городам-миллионникам\n",
        "                group by e.name, a.name                                -- группируем по компании и городу\n",
        "                order by 3 desc\n",
        "                '''\n",
        "\n",
        "vac_yandex = pd.read_sql_query(query_7_3,connection)\n",
        "display(vac_yandex.head(20))"
      ]
    },
    {
      "cell_type": "code",
      "execution_count": null,
      "id": "e4fa7a19",
      "metadata": {},
      "outputs": [
        {
          "data": {
            "text/html": [
              "<div>\n",
              "<style scoped>\n",
              "    .dataframe tbody tr th:only-of-type {\n",
              "        vertical-align: middle;\n",
              "    }\n",
              "\n",
              "    .dataframe tbody tr th {\n",
              "        vertical-align: top;\n",
              "    }\n",
              "\n",
              "    .dataframe thead th {\n",
              "        text-align: right;\n",
              "    }\n",
              "</style>\n",
              "<table border=\"1\" class=\"dataframe\">\n",
              "  <thead>\n",
              "    <tr style=\"text-align: right;\">\n",
              "      <th></th>\n",
              "      <th>Компания</th>\n",
              "      <th>Город</th>\n",
              "      <th>name</th>\n",
              "    </tr>\n",
              "  </thead>\n",
              "  <tbody>\n",
              "    <tr>\n",
              "      <th>0</th>\n",
              "      <td>Яндекс</td>\n",
              "      <td>Томск</td>\n",
              "      <td>Специалист службы поддержки с техническими зна...</td>\n",
              "    </tr>\n",
              "    <tr>\n",
              "      <th>1</th>\n",
              "      <td>Яндекс</td>\n",
              "      <td>Томск</td>\n",
              "      <td>Тимлид клиентского сервиса</td>\n",
              "    </tr>\n",
              "    <tr>\n",
              "      <th>2</th>\n",
              "      <td>Яндекс</td>\n",
              "      <td>Томск</td>\n",
              "      <td>Специалист поддержки в Яндекс Бизнес</td>\n",
              "    </tr>\n",
              "    <tr>\n",
              "      <th>3</th>\n",
              "      <td>Яндекс</td>\n",
              "      <td>Томск</td>\n",
              "      <td>Разработчик (поисковая выдача)</td>\n",
              "    </tr>\n",
              "    <tr>\n",
              "      <th>4</th>\n",
              "      <td>Яндекс</td>\n",
              "      <td>Томск</td>\n",
              "      <td>Специалист службы поддержки пользователей</td>\n",
              "    </tr>\n",
              "    <tr>\n",
              "      <th>5</th>\n",
              "      <td>Яндекс</td>\n",
              "      <td>Томск</td>\n",
              "      <td>Эксперт по ответам на вопросы о Яндекс Бизнесе</td>\n",
              "    </tr>\n",
              "    <tr>\n",
              "      <th>6</th>\n",
              "      <td>Яндекс</td>\n",
              "      <td>Томск</td>\n",
              "      <td>Специалист поддержки в Толоку со знанием англи...</td>\n",
              "    </tr>\n",
              "    <tr>\n",
              "      <th>7</th>\n",
              "      <td>Яндекс</td>\n",
              "      <td>Томск</td>\n",
              "      <td>Специалист по общению с клиентами в Яндекс Бизнес</td>\n",
              "    </tr>\n",
              "    <tr>\n",
              "      <th>8</th>\n",
              "      <td>Яндекс</td>\n",
              "      <td>Томск</td>\n",
              "      <td>Специалист службы поддержки в Яндекс Бизнес</td>\n",
              "    </tr>\n",
              "    <tr>\n",
              "      <th>9</th>\n",
              "      <td>Яндекс</td>\n",
              "      <td>Томск</td>\n",
              "      <td>Сотрудник поддержки поиска Яндекса</td>\n",
              "    </tr>\n",
              "    <tr>\n",
              "      <th>10</th>\n",
              "      <td>Яндекс</td>\n",
              "      <td>Томск</td>\n",
              "      <td>Младший специалист ручного тестирования</td>\n",
              "    </tr>\n",
              "    <tr>\n",
              "      <th>11</th>\n",
              "      <td>Яндекс</td>\n",
              "      <td>Томск</td>\n",
              "      <td>Консультант онлайн-поддержки с техническими зн...</td>\n",
              "    </tr>\n",
              "    <tr>\n",
              "      <th>12</th>\n",
              "      <td>Яндекс</td>\n",
              "      <td>Томск</td>\n",
              "      <td>Специалист службы поддержки с техническими зна...</td>\n",
              "    </tr>\n",
              "    <tr>\n",
              "      <th>13</th>\n",
              "      <td>Яндекс</td>\n",
              "      <td>Томск</td>\n",
              "      <td>Сотрудник службы поддержки в Яндекс Бизнес</td>\n",
              "    </tr>\n",
              "    <tr>\n",
              "      <th>14</th>\n",
              "      <td>Яндекс</td>\n",
              "      <td>Томск</td>\n",
              "      <td>Сотрудник службы поддержки с техническими знан...</td>\n",
              "    </tr>\n",
              "    <tr>\n",
              "      <th>15</th>\n",
              "      <td>Яндекс</td>\n",
              "      <td>Томск</td>\n",
              "      <td>Сотрудник службы поддержки с техническими знан...</td>\n",
              "    </tr>\n",
              "    <tr>\n",
              "      <th>16</th>\n",
              "      <td>Яндекс</td>\n",
              "      <td>Томск</td>\n",
              "      <td>Специалист поддержки в Yandex Cloud</td>\n",
              "    </tr>\n",
              "    <tr>\n",
              "      <th>17</th>\n",
              "      <td>Яндекс</td>\n",
              "      <td>Томск</td>\n",
              "      <td>Технический писатель (дистанционный автор)</td>\n",
              "    </tr>\n",
              "    <tr>\n",
              "      <th>18</th>\n",
              "      <td>Яндекс</td>\n",
              "      <td>Томск</td>\n",
              "      <td>Специалист службы поддержки с техническими зна...</td>\n",
              "    </tr>\n",
              "    <tr>\n",
              "      <th>19</th>\n",
              "      <td>Яндекс</td>\n",
              "      <td>Кемерово</td>\n",
              "      <td>Разработчик (поисковая выдача)</td>\n",
              "    </tr>\n",
              "    <tr>\n",
              "      <th>20</th>\n",
              "      <td>Яндекс</td>\n",
              "      <td>Кемерово</td>\n",
              "      <td>Специалист службы поддержки в Яндекс Бизнес</td>\n",
              "    </tr>\n",
              "    <tr>\n",
              "      <th>21</th>\n",
              "      <td>Яндекс</td>\n",
              "      <td>Кемерово</td>\n",
              "      <td>Консультант онлайн-поддержки с техническими зн...</td>\n",
              "    </tr>\n",
              "    <tr>\n",
              "      <th>22</th>\n",
              "      <td>Яндекс</td>\n",
              "      <td>Кемерово</td>\n",
              "      <td>Эксперт по ответам на вопросы о Яндекс Бизнесе</td>\n",
              "    </tr>\n",
              "    <tr>\n",
              "      <th>23</th>\n",
              "      <td>Яндекс</td>\n",
              "      <td>Кемерово</td>\n",
              "      <td>Специалист по общению с клиентами в Яндекс Бизнес</td>\n",
              "    </tr>\n",
              "    <tr>\n",
              "      <th>24</th>\n",
              "      <td>Яндекс</td>\n",
              "      <td>Кемерово</td>\n",
              "      <td>Сотрудник службы поддержки в Яндекс Бизнес</td>\n",
              "    </tr>\n",
              "    <tr>\n",
              "      <th>25</th>\n",
              "      <td>Яндекс</td>\n",
              "      <td>Кемерово</td>\n",
              "      <td>Сотрудник службы поддержки с техническими знан...</td>\n",
              "    </tr>\n",
              "    <tr>\n",
              "      <th>26</th>\n",
              "      <td>Яндекс</td>\n",
              "      <td>Кемерово</td>\n",
              "      <td>Специалист службы поддержки с техническими зна...</td>\n",
              "    </tr>\n",
              "    <tr>\n",
              "      <th>27</th>\n",
              "      <td>Яндекс</td>\n",
              "      <td>Кемерово</td>\n",
              "      <td>Специалист службы поддержки с техническими зна...</td>\n",
              "    </tr>\n",
              "    <tr>\n",
              "      <th>28</th>\n",
              "      <td>Яндекс</td>\n",
              "      <td>Кемерово</td>\n",
              "      <td>Специалист службы поддержки с техническими зна...</td>\n",
              "    </tr>\n",
              "    <tr>\n",
              "      <th>29</th>\n",
              "      <td>Яндекс</td>\n",
              "      <td>Кемерово</td>\n",
              "      <td>Младший специалист ручного тестирования</td>\n",
              "    </tr>\n",
              "    <tr>\n",
              "      <th>30</th>\n",
              "      <td>Яндекс</td>\n",
              "      <td>Кемерово</td>\n",
              "      <td>Тимлид клиентского сервиса</td>\n",
              "    </tr>\n",
              "    <tr>\n",
              "      <th>31</th>\n",
              "      <td>Яндекс</td>\n",
              "      <td>Кемерово</td>\n",
              "      <td>Специалист службы поддержки с техническими зна...</td>\n",
              "    </tr>\n",
              "    <tr>\n",
              "      <th>32</th>\n",
              "      <td>Яндекс</td>\n",
              "      <td>Кемерово</td>\n",
              "      <td>Специалист службы поддержки с техническими зна...</td>\n",
              "    </tr>\n",
              "    <tr>\n",
              "      <th>33</th>\n",
              "      <td>Яндекс</td>\n",
              "      <td>Кемерово</td>\n",
              "      <td>Специалист поддержки в Yandex Cloud</td>\n",
              "    </tr>\n",
              "    <tr>\n",
              "      <th>34</th>\n",
              "      <td>Яндекс</td>\n",
              "      <td>Кемерово</td>\n",
              "      <td>Сотрудник поддержки поиска Яндекса</td>\n",
              "    </tr>\n",
              "    <tr>\n",
              "      <th>35</th>\n",
              "      <td>Яндекс</td>\n",
              "      <td>Кемерово</td>\n",
              "      <td>Специалист службы поддержки пользователей</td>\n",
              "    </tr>\n",
              "    <tr>\n",
              "      <th>36</th>\n",
              "      <td>Яндекс</td>\n",
              "      <td>Кемерово</td>\n",
              "      <td>Технический писатель (дистанционный автор)</td>\n",
              "    </tr>\n",
              "    <tr>\n",
              "      <th>37</th>\n",
              "      <td>Яндекс</td>\n",
              "      <td>Кемерово</td>\n",
              "      <td>Сотрудник службы поддержки с техническими знан...</td>\n",
              "    </tr>\n",
              "  </tbody>\n",
              "</table>\n",
              "</div>"
            ],
            "text/plain": [
              "   Компания     Город                                               name\n",
              "0    Яндекс     Томск  Специалист службы поддержки с техническими зна...\n",
              "1    Яндекс     Томск                         Тимлид клиентского сервиса\n",
              "2    Яндекс     Томск               Специалист поддержки в Яндекс Бизнес\n",
              "3    Яндекс     Томск                     Разработчик (поисковая выдача)\n",
              "4    Яндекс     Томск          Специалист службы поддержки пользователей\n",
              "5    Яндекс     Томск     Эксперт по ответам на вопросы о Яндекс Бизнесе\n",
              "6    Яндекс     Томск  Специалист поддержки в Толоку со знанием англи...\n",
              "7    Яндекс     Томск  Специалист по общению с клиентами в Яндекс Бизнес\n",
              "8    Яндекс     Томск        Специалист службы поддержки в Яндекс Бизнес\n",
              "9    Яндекс     Томск                 Сотрудник поддержки поиска Яндекса\n",
              "10   Яндекс     Томск            Младший специалист ручного тестирования\n",
              "11   Яндекс     Томск  Консультант онлайн-поддержки с техническими зн...\n",
              "12   Яндекс     Томск  Специалист службы поддержки с техническими зна...\n",
              "13   Яндекс     Томск         Сотрудник службы поддержки в Яндекс Бизнес\n",
              "14   Яндекс     Томск  Сотрудник службы поддержки с техническими знан...\n",
              "15   Яндекс     Томск  Сотрудник службы поддержки с техническими знан...\n",
              "16   Яндекс     Томск                Специалист поддержки в Yandex Cloud\n",
              "17   Яндекс     Томск         Технический писатель (дистанционный автор)\n",
              "18   Яндекс     Томск  Специалист службы поддержки с техническими зна...\n",
              "19   Яндекс  Кемерово                     Разработчик (поисковая выдача)\n",
              "20   Яндекс  Кемерово        Специалист службы поддержки в Яндекс Бизнес\n",
              "21   Яндекс  Кемерово  Консультант онлайн-поддержки с техническими зн...\n",
              "22   Яндекс  Кемерово     Эксперт по ответам на вопросы о Яндекс Бизнесе\n",
              "23   Яндекс  Кемерово  Специалист по общению с клиентами в Яндекс Бизнес\n",
              "24   Яндекс  Кемерово         Сотрудник службы поддержки в Яндекс Бизнес\n",
              "25   Яндекс  Кемерово  Сотрудник службы поддержки с техническими знан...\n",
              "26   Яндекс  Кемерово  Специалист службы поддержки с техническими зна...\n",
              "27   Яндекс  Кемерово  Специалист службы поддержки с техническими зна...\n",
              "28   Яндекс  Кемерово  Специалист службы поддержки с техническими зна...\n",
              "29   Яндекс  Кемерово            Младший специалист ручного тестирования\n",
              "30   Яндекс  Кемерово                         Тимлид клиентского сервиса\n",
              "31   Яндекс  Кемерово  Специалист службы поддержки с техническими зна...\n",
              "32   Яндекс  Кемерово  Специалист службы поддержки с техническими зна...\n",
              "33   Яндекс  Кемерово                Специалист поддержки в Yandex Cloud\n",
              "34   Яндекс  Кемерово                 Сотрудник поддержки поиска Яндекса\n",
              "35   Яндекс  Кемерово          Специалист службы поддержки пользователей\n",
              "36   Яндекс  Кемерово         Технический писатель (дистанционный автор)\n",
              "37   Яндекс  Кемерово  Сотрудник службы поддержки с техническими знан..."
            ]
          },
          "metadata": {},
          "output_type": "display_data"
        }
      ],
      "source": [
        "# Посмотрим на топ20 городов не миллионников по вакансиям яндекс\n",
        "query_7_4 = f''' select e.name as \"Компания\",\n",
        "                        a.name as \"Город\",\n",
        "                        v.name\n",
        "                from public.vacancies v   -- соединяем таблицу с вакансиями с таблицами работодателей и регионов\n",
        "                join public.employers e on e.id = v.employer_id\n",
        "                join public.areas a on a.id = v.area_id\n",
        "                where e.name = 'Яндекс' and a.name in ('Томск', 'Кемерово')\n",
        "                --group by e.name, a.name                                -- группируем по компании и городу\n",
        "                order by 2 desc\n",
        "                '''\n",
        "\n",
        "vac_yandex = pd.read_sql_query(query_7_4,connection)\n",
        "display(vac_yandex)"
      ]
    },
    {
      "cell_type": "code",
      "execution_count": null,
      "id": "4e5d1b40",
      "metadata": {},
      "outputs": [
        {
          "data": {
            "text/html": [
              "<div>\n",
              "<style scoped>\n",
              "    .dataframe tbody tr th:only-of-type {\n",
              "        vertical-align: middle;\n",
              "    }\n",
              "\n",
              "    .dataframe tbody tr th {\n",
              "        vertical-align: top;\n",
              "    }\n",
              "\n",
              "    .dataframe thead th {\n",
              "        text-align: right;\n",
              "    }\n",
              "</style>\n",
              "<table border=\"1\" class=\"dataframe\">\n",
              "  <thead>\n",
              "    <tr style=\"text-align: right;\">\n",
              "      <th></th>\n",
              "      <th>name</th>\n",
              "    </tr>\n",
              "  </thead>\n",
              "  <tbody>\n",
              "    <tr>\n",
              "      <th>0</th>\n",
              "      <td>Интернет-компания (поисковики, платежные систе...</td>\n",
              "    </tr>\n",
              "  </tbody>\n",
              "</table>\n",
              "</div>"
            ],
            "text/plain": [
              "                                                name\n",
              "0  Интернет-компания (поисковики, платежные систе..."
            ]
          },
          "metadata": {},
          "output_type": "display_data"
        }
      ],
      "source": [
        "query_7_5 = f''' select i.name\n",
        "                from public.employers e           -- тут тоже оставляем всех работодателей, даже тех, у коно не указаны сферы дейстельности\n",
        "                left join public.employers_industries ei on e.id = ei.employer_id\n",
        "                left join public.industries i on i.id = ei.industry_id\n",
        "                --join public.vacancies v on e.id = v.employer_id\n",
        "                where e.name = 'Яндекс' \n",
        "                \n",
        "                  '''\n",
        "\n",
        "vac_yandex_name = pd.read_sql_query(query_7_5,connection)\n",
        "display(vac_yandex_name)"
      ]
    },
    {
      "cell_type": "code",
      "execution_count": null,
      "id": "cac2f283",
      "metadata": {},
      "outputs": [
        {
          "data": {
            "text/html": [
              "<div>\n",
              "<style scoped>\n",
              "    .dataframe tbody tr th:only-of-type {\n",
              "        vertical-align: middle;\n",
              "    }\n",
              "\n",
              "    .dataframe tbody tr th {\n",
              "        vertical-align: top;\n",
              "    }\n",
              "\n",
              "    .dataframe thead th {\n",
              "        text-align: right;\n",
              "    }\n",
              "</style>\n",
              "<table border=\"1\" class=\"dataframe\">\n",
              "  <thead>\n",
              "    <tr style=\"text-align: right;\">\n",
              "      <th></th>\n",
              "      <th>experience</th>\n",
              "      <th>bottom</th>\n",
              "      <th>top</th>\n",
              "    </tr>\n",
              "  </thead>\n",
              "  <tbody>\n",
              "    <tr>\n",
              "      <th>0</th>\n",
              "      <td>Нет опыта</td>\n",
              "      <td>34699.0</td>\n",
              "      <td>56990.0</td>\n",
              "    </tr>\n",
              "    <tr>\n",
              "      <th>1</th>\n",
              "      <td>От 1 года до 3 лет</td>\n",
              "      <td>64456.0</td>\n",
              "      <td>97436.0</td>\n",
              "    </tr>\n",
              "    <tr>\n",
              "      <th>2</th>\n",
              "      <td>От 3 до 6 лет</td>\n",
              "      <td>112544.0</td>\n",
              "      <td>171974.0</td>\n",
              "    </tr>\n",
              "    <tr>\n",
              "      <th>3</th>\n",
              "      <td>Более 6 лет</td>\n",
              "      <td>150156.0</td>\n",
              "      <td>197819.0</td>\n",
              "    </tr>\n",
              "  </tbody>\n",
              "</table>\n",
              "</div>"
            ],
            "text/plain": [
              "           experience    bottom       top\n",
              "0           Нет опыта   34699.0   56990.0\n",
              "1  От 1 года до 3 лет   64456.0   97436.0\n",
              "2       От 3 до 6 лет  112544.0  171974.0\n",
              "3         Более 6 лет  150156.0  197819.0"
            ]
          },
          "metadata": {},
          "output_type": "display_data"
        }
      ],
      "source": [
        "query_7_6 = f'''select \n",
        "                v.experience,\n",
        "                round(avg(v.salary_from)) bottom,\n",
        "                round(avg(v.salary_to)) top\n",
        "            from public.vacancies v\n",
        "            group by  v.experience\n",
        "            order by 2\n",
        "            '''\n",
        "salary_exp = pd.read_sql_query(query_7_6,connection)\n",
        "display(salary_exp)"
      ]
    },
    {
      "cell_type": "markdown",
      "id": "c0bd477a",
      "metadata": {},
      "source": [
        "**Вывод:** Итак, мы рассмотрели базу данных вакансий с сайта HH.ru, в которой было 49197 вакансий, 23501 компания(работодатель) по 1362 регионам в 294 сферах деятельности.\n",
        "Ожидаемо лидеры по работодателям и вакансиям - крупные города, причем Москва как мегаполис - с огромным отрывом. Средняя вилка зарплат составляет 71000 - 110000 рублей (при этом в этом диапазоне находится только средняя ЗП для начинающего DS, а с увеличением опыта ЗП для DS будет выше рынка, это радует).\n",
        "Очевидно, что наиболее распространенный вариант работы - полный день, полная занятость. Прямой зависимости между опытом работы и количетсвом вакансий нет, но видно, что в приоритете нужны специалисты с опытом от 1 года до 3 лет (26152 вакансии). Интересно посмотреть на компании в разрезе широты регионов, где представлены их вакансии. Лидеры - Яндекс и Ростелеком. В случае с Ростелеком ситуация понятна, компания предоставляет услуги связи(домашнего интеренета) и должна быть представлена в регионах, но с Яндекс интереснее. Если взглянуть на топ регионов по вакансиям для этой компании не в городах-миллионниках, то вакансий в них будет столько же, как и в городах-миллионнках. Для чего компании яндекс такая широкая география? МОжно предполодить, что компания имеет несколько бизнесов, в том числе такси и доставка, но если посмотреть на вакансии на примере нескольких городов, то вакансий такси/доставка там не будет. Это говорит о том, что офисы компании яндекс широко диферсифицированы по регионам и направлены только на IT направление бизнеса.\n",
        "Интересно, что компания Ozon имеет вакансии только в 36 регионах. Либо в других регионах все вакансии заняты и свободных нет, либо БД старая и с тех пор очевидно, что компания имеет вредставительство почти во всех регионах России.\n",
        "Также из интересного можно выделить, что в с ростом опыта работы (ступени без опыта- 1-3 года - 3-6 лет) уровень зарплат увеличивается чуть менее чем в два раза. На последней ступени (более 6 лет) рост не такой большой."
      ]
    }
  ],
  "metadata": {
    "colab": {
      "collapsed_sections": [
        "8d62a9f3-f64e-4fe7-bdac-c4dffa16155e"
      ],
      "provenance": []
    },
    "kernelspec": {
      "display_name": "Python 3",
      "language": "python",
      "name": "python3"
    },
    "language_info": {
      "codemirror_mode": {
        "name": "ipython",
        "version": 3
      },
      "file_extension": ".py",
      "mimetype": "text/x-python",
      "name": "python",
      "nbconvert_exporter": "python",
      "pygments_lexer": "ipython3",
      "version": "3.10.11"
    }
  },
  "nbformat": 4,
  "nbformat_minor": 5
}
